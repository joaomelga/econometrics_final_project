{
 "cells": [
  {
   "cell_type": "markdown",
   "metadata": {},
   "source": [
    "## Libraries"
   ]
  },
  {
   "cell_type": "code",
   "execution_count": 15,
   "metadata": {
    "vscode": {
     "languageId": "r"
    }
   },
   "outputs": [],
   "source": [
    "#Installing packages\n",
    "list.of.packages <- c(\"ggplot2\", \"dplyr\", \"tidyr\",\"lubridate\",\"gridExtra\")\n",
    "new.packages <- list.of.packages[!(list.of.packages %in% installed.packages()[,\"Package\"])]\n",
    "if(length(new.packages)) install.packages(new.packages, repos = \"http://cran.us.r-project.org\")\n",
    "invisible(lapply(list.of.packages, library, character.only = TRUE))\n"
   ]
  },
  {
   "cell_type": "markdown",
   "metadata": {},
   "source": [
    "## Define Econometric Model\n",
    "\n",
    "The econometric model that we will explore are the effects of a policy that reduces the speed limit on the number of accidents. \n",
    "Under the hypothesis that the policy is effective, we expect that the number of accidents will decrease after the policy is implemented."
   ]
  },
  {
   "cell_type": "code",
   "execution_count": 16,
   "metadata": {
    "vscode": {
     "languageId": "r"
    }
   },
   "outputs": [],
   "source": [
    "# Read data csv\n",
    "data <- read.csv(\"data/weeklyGrouping.csv\")"
   ]
  },
  {
   "cell_type": "code",
   "execution_count": 17,
   "metadata": {
    "vscode": {
     "languageId": "r"
    }
   },
   "outputs": [
    {
     "data": {
      "text/plain": [
       "       X               city        station       datetime        \n",
       " Min.   :   0.0   Min.   :1.0   Min.   : 1.0   Length:1080       \n",
       " 1st Qu.: 269.8   1st Qu.:2.0   1st Qu.: 3.0   Class :character  \n",
       " Median : 539.5   Median :3.5   Median : 5.5   Mode  :character  \n",
       " Mean   : 539.5   Mean   :3.5   Mean   : 5.5                     \n",
       " 3rd Qu.: 809.2   3rd Qu.:5.0   3rd Qu.: 8.0                     \n",
       " Max.   :1079.0   Max.   :6.0   Max.   :10.0                     \n",
       "    weather           dow             hour            speed      \n",
       " Min.   :1.741   Min.   :3.500   Min.   : 9.706   Min.   :24.41  \n",
       " 1st Qu.:1.988   1st Qu.:4.000   1st Qu.:12.590   1st Qu.:39.47  \n",
       " Median :2.038   Median :4.000   Median :12.901   Median :39.50  \n",
       " Mean   :2.036   Mean   :4.056   Mean   :12.689   Mean   :38.52  \n",
       " 3rd Qu.:2.086   3rd Qu.:4.000   3rd Qu.:13.010   3rd Qu.:39.52  \n",
       " Max.   :2.284   Max.   :5.500   Max.   :13.208   Max.   :39.74  \n",
       "  vehicleType    energyConsumption trafficCongestion    carCrash       \n",
       " Min.   :2.210   Min.   : 8.482    Min.   :1.000     Min.   :0.000000  \n",
       " 1st Qu.:2.246   1st Qu.: 8.561    1st Qu.:1.146     1st Qu.:0.001253  \n",
       " Median :2.250   Median : 8.567    Median :2.904     Median :0.002394  \n",
       " Mean   :2.250   Mean   : 8.725    Mean   :2.186     Mean   :0.002100  \n",
       " 3rd Qu.:2.254   3rd Qu.: 8.575    3rd Qu.:2.945     3rd Qu.:0.002910  \n",
       " Max.   :2.283   Max.   :11.026    Max.   :3.000     Max.   :0.004341  \n",
       " pedestrianDeath    \n",
       " Min.   :0.0000000  \n",
       " 1st Qu.:0.0001601  \n",
       " Median :0.0003061  \n",
       " Mean   :0.0002755  \n",
       " 3rd Qu.:0.0003946  \n",
       " Max.   :0.0009387  "
      ]
     },
     "metadata": {},
     "output_type": "display_data"
    }
   ],
   "source": [
    "# Summary of data\n",
    "summary(data)"
   ]
  },
  {
   "cell_type": "code",
   "execution_count": 18,
   "metadata": {
    "vscode": {
     "languageId": "r"
    }
   },
   "outputs": [],
   "source": [
    "## Read data city csv\n",
    "data_city <- read.csv(\"data/cityInfo.csv\")"
   ]
  },
  {
   "cell_type": "code",
   "execution_count": 19,
   "metadata": {
    "vscode": {
     "languageId": "r"
    }
   },
   "outputs": [
    {
     "data": {
      "text/plain": [
       "      city           size         population       popDensity    \n",
       " Min.   :1.00   Min.   : 91.0   Min.   : 52620   Min.   : 133.6  \n",
       " 1st Qu.:2.25   1st Qu.:185.2   1st Qu.:181835   1st Qu.: 437.9  \n",
       " Median :3.50   Median :277.5   Median :287334   Median :1203.0  \n",
       " Mean   :3.50   Mean   :279.5   Mean   :268883   Mean   :1640.4  \n",
       " 3rd Qu.:4.75   3rd Qu.:386.2   3rd Qu.:360847   3rd Qu.:1898.9  \n",
       " Max.   :6.00   Max.   :454.0   Max.   :453991   Max.   :4988.9  \n",
       "   cityName        \n",
       " Length:6          \n",
       " Class :character  \n",
       " Mode  :character  \n",
       "                   \n",
       "                   \n",
       "                   "
      ]
     },
     "metadata": {},
     "output_type": "display_data"
    }
   ],
   "source": [
    "## Summary of data city\n",
    "summary(data_city)"
   ]
  },
  {
   "cell_type": "code",
   "execution_count": 20,
   "metadata": {
    "vscode": {
     "languageId": "r"
    }
   },
   "outputs": [
    {
     "data": {
      "text/html": [
       "<table class=\"dataframe\">\n",
       "<caption>A data.frame: 6 × 5</caption>\n",
       "<thead>\n",
       "\t<tr><th></th><th scope=col>city</th><th scope=col>size</th><th scope=col>population</th><th scope=col>popDensity</th><th scope=col>cityName</th></tr>\n",
       "\t<tr><th></th><th scope=col>&lt;int&gt;</th><th scope=col>&lt;int&gt;</th><th scope=col>&lt;int&gt;</th><th scope=col>&lt;dbl&gt;</th><th scope=col>&lt;chr&gt;</th></tr>\n",
       "</thead>\n",
       "<tbody>\n",
       "\t<tr><th scope=row>1</th><td>1</td><td>192</td><td>379909</td><td>1978.6927</td><td>Azzurropoli</td></tr>\n",
       "\t<tr><th scope=row>2</th><td>2</td><td> 91</td><td>453991</td><td>4988.9121</td><td>Biancavilla</td></tr>\n",
       "\t<tr><th scope=row>3</th><td>3</td><td>363</td><td>271008</td><td> 746.5785</td><td>Lavandonia </td></tr>\n",
       "\t<tr><th scope=row>4</th><td>4</td><td>454</td><td>152110</td><td> 335.0441</td><td>Celestopoli</td></tr>\n",
       "\t<tr><th scope=row>5</th><td>5</td><td>394</td><td> 52620</td><td> 133.5533</td><td>Plumbeopoli</td></tr>\n",
       "\t<tr><th scope=row>6</th><td>6</td><td>183</td><td>303659</td><td>1659.3388</td><td>Aranciopoli</td></tr>\n",
       "</tbody>\n",
       "</table>\n"
      ],
      "text/latex": [
       "A data.frame: 6 × 5\n",
       "\\begin{tabular}{r|lllll}\n",
       "  & city & size & population & popDensity & cityName\\\\\n",
       "  & <int> & <int> & <int> & <dbl> & <chr>\\\\\n",
       "\\hline\n",
       "\t1 & 1 & 192 & 379909 & 1978.6927 & Azzurropoli\\\\\n",
       "\t2 & 2 &  91 & 453991 & 4988.9121 & Biancavilla\\\\\n",
       "\t3 & 3 & 363 & 271008 &  746.5785 & Lavandonia \\\\\n",
       "\t4 & 4 & 454 & 152110 &  335.0441 & Celestopoli\\\\\n",
       "\t5 & 5 & 394 &  52620 &  133.5533 & Plumbeopoli\\\\\n",
       "\t6 & 6 & 183 & 303659 & 1659.3388 & Aranciopoli\\\\\n",
       "\\end{tabular}\n"
      ],
      "text/markdown": [
       "\n",
       "A data.frame: 6 × 5\n",
       "\n",
       "| <!--/--> | city &lt;int&gt; | size &lt;int&gt; | population &lt;int&gt; | popDensity &lt;dbl&gt; | cityName &lt;chr&gt; |\n",
       "|---|---|---|---|---|---|\n",
       "| 1 | 1 | 192 | 379909 | 1978.6927 | Azzurropoli |\n",
       "| 2 | 2 |  91 | 453991 | 4988.9121 | Biancavilla |\n",
       "| 3 | 3 | 363 | 271008 |  746.5785 | Lavandonia  |\n",
       "| 4 | 4 | 454 | 152110 |  335.0441 | Celestopoli |\n",
       "| 5 | 5 | 394 |  52620 |  133.5533 | Plumbeopoli |\n",
       "| 6 | 6 | 183 | 303659 | 1659.3388 | Aranciopoli |\n",
       "\n"
      ],
      "text/plain": [
       "  city size population popDensity cityName   \n",
       "1 1    192  379909     1978.6927  Azzurropoli\n",
       "2 2     91  453991     4988.9121  Biancavilla\n",
       "3 3    363  271008      746.5785  Lavandonia \n",
       "4 4    454  152110      335.0441  Celestopoli\n",
       "5 5    394   52620      133.5533  Plumbeopoli\n",
       "6 6    183  303659     1659.3388  Aranciopoli"
      ]
     },
     "metadata": {},
     "output_type": "display_data"
    }
   ],
   "source": [
    "head(data_city)"
   ]
  },
  {
   "cell_type": "markdown",
   "metadata": {},
   "source": [
    "## Cleaning and Visualizing Data"
   ]
  },
  {
   "cell_type": "code",
   "execution_count": 21,
   "metadata": {
    "vscode": {
     "languageId": "r"
    }
   },
   "outputs": [
    {
     "data": {
      "text/html": [
       "<table class=\"dataframe\">\n",
       "<caption>A tibble: 6 × 6</caption>\n",
       "<thead>\n",
       "\t<tr><th scope=col>city</th><th scope=col>mean(speed)</th><th scope=col>mean(energyConsumption)</th><th scope=col>mean(trafficCongestion)</th><th scope=col>mean(carCrash)</th><th scope=col>mean(pedestrianDeath)</th></tr>\n",
       "\t<tr><th scope=col>&lt;int&gt;</th><th scope=col>&lt;dbl&gt;</th><th scope=col>&lt;dbl&gt;</th><th scope=col>&lt;dbl&gt;</th><th scope=col>&lt;dbl&gt;</th><th scope=col>&lt;dbl&gt;</th></tr>\n",
       "</thead>\n",
       "<tbody>\n",
       "\t<tr><td>1</td><td>33.58362</td><td>9.520942</td><td>2.943160</td><td>0.0024816965</td><td>0.0003346852</td></tr>\n",
       "\t<tr><td>2</td><td>39.50050</td><td>8.566597</td><td>2.973209</td><td>0.0029585868</td><td>0.0003967144</td></tr>\n",
       "\t<tr><td>3</td><td>39.50230</td><td>8.567399</td><td>2.155911</td><td>0.0021044147</td><td>0.0002828190</td></tr>\n",
       "\t<tr><td>4</td><td>39.50015</td><td>8.564412</td><td>1.135386</td><td>0.0011804869</td><td>0.0001199830</td></tr>\n",
       "\t<tr><td>5</td><td>39.50558</td><td>8.564934</td><td>1.000000</td><td>0.0009838568</td><td>0.0001455969</td></tr>\n",
       "\t<tr><td>6</td><td>39.49797</td><td>8.567289</td><td>2.906029</td><td>0.0028883487</td><td>0.0003733877</td></tr>\n",
       "</tbody>\n",
       "</table>\n"
      ],
      "text/latex": [
       "A tibble: 6 × 6\n",
       "\\begin{tabular}{llllll}\n",
       " city & mean(speed) & mean(energyConsumption) & mean(trafficCongestion) & mean(carCrash) & mean(pedestrianDeath)\\\\\n",
       " <int> & <dbl> & <dbl> & <dbl> & <dbl> & <dbl>\\\\\n",
       "\\hline\n",
       "\t 1 & 33.58362 & 9.520942 & 2.943160 & 0.0024816965 & 0.0003346852\\\\\n",
       "\t 2 & 39.50050 & 8.566597 & 2.973209 & 0.0029585868 & 0.0003967144\\\\\n",
       "\t 3 & 39.50230 & 8.567399 & 2.155911 & 0.0021044147 & 0.0002828190\\\\\n",
       "\t 4 & 39.50015 & 8.564412 & 1.135386 & 0.0011804869 & 0.0001199830\\\\\n",
       "\t 5 & 39.50558 & 8.564934 & 1.000000 & 0.0009838568 & 0.0001455969\\\\\n",
       "\t 6 & 39.49797 & 8.567289 & 2.906029 & 0.0028883487 & 0.0003733877\\\\\n",
       "\\end{tabular}\n"
      ],
      "text/markdown": [
       "\n",
       "A tibble: 6 × 6\n",
       "\n",
       "| city &lt;int&gt; | mean(speed) &lt;dbl&gt; | mean(energyConsumption) &lt;dbl&gt; | mean(trafficCongestion) &lt;dbl&gt; | mean(carCrash) &lt;dbl&gt; | mean(pedestrianDeath) &lt;dbl&gt; |\n",
       "|---|---|---|---|---|---|\n",
       "| 1 | 33.58362 | 9.520942 | 2.943160 | 0.0024816965 | 0.0003346852 |\n",
       "| 2 | 39.50050 | 8.566597 | 2.973209 | 0.0029585868 | 0.0003967144 |\n",
       "| 3 | 39.50230 | 8.567399 | 2.155911 | 0.0021044147 | 0.0002828190 |\n",
       "| 4 | 39.50015 | 8.564412 | 1.135386 | 0.0011804869 | 0.0001199830 |\n",
       "| 5 | 39.50558 | 8.564934 | 1.000000 | 0.0009838568 | 0.0001455969 |\n",
       "| 6 | 39.49797 | 8.567289 | 2.906029 | 0.0028883487 | 0.0003733877 |\n",
       "\n"
      ],
      "text/plain": [
       "  city mean(speed) mean(energyConsumption) mean(trafficCongestion)\n",
       "1 1    33.58362    9.520942                2.943160               \n",
       "2 2    39.50050    8.566597                2.973209               \n",
       "3 3    39.50230    8.567399                2.155911               \n",
       "4 4    39.50015    8.564412                1.135386               \n",
       "5 5    39.50558    8.564934                1.000000               \n",
       "6 6    39.49797    8.567289                2.906029               \n",
       "  mean(carCrash) mean(pedestrianDeath)\n",
       "1 0.0024816965   0.0003346852         \n",
       "2 0.0029585868   0.0003967144         \n",
       "3 0.0021044147   0.0002828190         \n",
       "4 0.0011804869   0.0001199830         \n",
       "5 0.0009838568   0.0001455969         \n",
       "6 0.0028883487   0.0003733877         "
      ]
     },
     "metadata": {},
     "output_type": "display_data"
    }
   ],
   "source": [
    "# Mean of data\n",
    "df_mean = data %>% group_by(city) %>% summarise(mean(speed), mean(energyConsumption), mean(trafficCongestion), mean(carCrash), mean(pedestrianDeath))\n",
    "df_mean"
   ]
  },
  {
   "cell_type": "code",
   "execution_count": 22,
   "metadata": {
    "vscode": {
     "languageId": "r"
    }
   },
   "outputs": [
    {
     "data": {
      "text/html": [
       "<table class=\"dataframe\">\n",
       "<caption>A tibble: 6 × 6</caption>\n",
       "<thead>\n",
       "\t<tr><th scope=col>city</th><th scope=col>sd(speed)</th><th scope=col>sd(energyConsumption)</th><th scope=col>sd(trafficCongestion)</th><th scope=col>sd(carCrash)</th><th scope=col>sd(pedestrianDeath)</th></tr>\n",
       "\t<tr><th scope=col>&lt;int&gt;</th><th scope=col>&lt;dbl&gt;</th><th scope=col>&lt;dbl&gt;</th><th scope=col>&lt;dbl&gt;</th><th scope=col>&lt;dbl&gt;</th><th scope=col>&lt;dbl&gt;</th></tr>\n",
       "</thead>\n",
       "<tbody>\n",
       "\t<tr><td>1</td><td>7.27902013</td><td>1.173613706</td><td>0.02300260</td><td>0.0005710809</td><td>1.061174e-04</td></tr>\n",
       "\t<tr><td>2</td><td>0.02102231</td><td>0.006234293</td><td>0.02205599</td><td>0.0002059879</td><td>8.080699e-05</td></tr>\n",
       "\t<tr><td>3</td><td>0.03110390</td><td>0.011457307</td><td>0.68445408</td><td>0.0007347909</td><td>1.326881e-04</td></tr>\n",
       "\t<tr><td>4</td><td>0.05097502</td><td>0.015086516</td><td>0.13812135</td><td>0.0004784892</td><td>1.163076e-04</td></tr>\n",
       "\t<tr><td>5</td><td>0.09099954</td><td>0.023408336</td><td>0.00000000</td><td>0.0005039476</td><td>1.849132e-04</td></tr>\n",
       "\t<tr><td>6</td><td>0.02323932</td><td>0.008021971</td><td>0.04638014</td><td>0.0002743025</td><td>8.742317e-05</td></tr>\n",
       "</tbody>\n",
       "</table>\n"
      ],
      "text/latex": [
       "A tibble: 6 × 6\n",
       "\\begin{tabular}{llllll}\n",
       " city & sd(speed) & sd(energyConsumption) & sd(trafficCongestion) & sd(carCrash) & sd(pedestrianDeath)\\\\\n",
       " <int> & <dbl> & <dbl> & <dbl> & <dbl> & <dbl>\\\\\n",
       "\\hline\n",
       "\t 1 & 7.27902013 & 1.173613706 & 0.02300260 & 0.0005710809 & 1.061174e-04\\\\\n",
       "\t 2 & 0.02102231 & 0.006234293 & 0.02205599 & 0.0002059879 & 8.080699e-05\\\\\n",
       "\t 3 & 0.03110390 & 0.011457307 & 0.68445408 & 0.0007347909 & 1.326881e-04\\\\\n",
       "\t 4 & 0.05097502 & 0.015086516 & 0.13812135 & 0.0004784892 & 1.163076e-04\\\\\n",
       "\t 5 & 0.09099954 & 0.023408336 & 0.00000000 & 0.0005039476 & 1.849132e-04\\\\\n",
       "\t 6 & 0.02323932 & 0.008021971 & 0.04638014 & 0.0002743025 & 8.742317e-05\\\\\n",
       "\\end{tabular}\n"
      ],
      "text/markdown": [
       "\n",
       "A tibble: 6 × 6\n",
       "\n",
       "| city &lt;int&gt; | sd(speed) &lt;dbl&gt; | sd(energyConsumption) &lt;dbl&gt; | sd(trafficCongestion) &lt;dbl&gt; | sd(carCrash) &lt;dbl&gt; | sd(pedestrianDeath) &lt;dbl&gt; |\n",
       "|---|---|---|---|---|---|\n",
       "| 1 | 7.27902013 | 1.173613706 | 0.02300260 | 0.0005710809 | 1.061174e-04 |\n",
       "| 2 | 0.02102231 | 0.006234293 | 0.02205599 | 0.0002059879 | 8.080699e-05 |\n",
       "| 3 | 0.03110390 | 0.011457307 | 0.68445408 | 0.0007347909 | 1.326881e-04 |\n",
       "| 4 | 0.05097502 | 0.015086516 | 0.13812135 | 0.0004784892 | 1.163076e-04 |\n",
       "| 5 | 0.09099954 | 0.023408336 | 0.00000000 | 0.0005039476 | 1.849132e-04 |\n",
       "| 6 | 0.02323932 | 0.008021971 | 0.04638014 | 0.0002743025 | 8.742317e-05 |\n",
       "\n"
      ],
      "text/plain": [
       "  city sd(speed)  sd(energyConsumption) sd(trafficCongestion) sd(carCrash)\n",
       "1 1    7.27902013 1.173613706           0.02300260            0.0005710809\n",
       "2 2    0.02102231 0.006234293           0.02205599            0.0002059879\n",
       "3 3    0.03110390 0.011457307           0.68445408            0.0007347909\n",
       "4 4    0.05097502 0.015086516           0.13812135            0.0004784892\n",
       "5 5    0.09099954 0.023408336           0.00000000            0.0005039476\n",
       "6 6    0.02323932 0.008021971           0.04638014            0.0002743025\n",
       "  sd(pedestrianDeath)\n",
       "1 1.061174e-04       \n",
       "2 8.080699e-05       \n",
       "3 1.326881e-04       \n",
       "4 1.163076e-04       \n",
       "5 1.849132e-04       \n",
       "6 8.742317e-05       "
      ]
     },
     "metadata": {},
     "output_type": "display_data"
    }
   ],
   "source": [
    "#Standard deviation of data \n",
    "df_sd = data %>% group_by(city) %>% summarise(sd(speed), sd(energyConsumption), sd(trafficCongestion), sd(carCrash), sd(pedestrianDeath))\n",
    "df_sd"
   ]
  },
  {
   "cell_type": "markdown",
   "metadata": {},
   "source": [
    "After this two observations, we can see that that the standard deviation in the City 1 is higher than in the other cities, and the mean is less than the other cities, thanks to the policy that was implemented."
   ]
  },
  {
   "cell_type": "code",
   "execution_count": 23,
   "metadata": {
    "vscode": {
     "languageId": "r"
    }
   },
   "outputs": [
    {
     "data": {
      "text/html": [
       "<table class=\"dataframe\">\n",
       "<caption>A data.frame: 6 × 10</caption>\n",
       "<thead>\n",
       "\t<tr><th scope=col>city</th><th scope=col>mean(speed)</th><th scope=col>mean(energyConsumption)</th><th scope=col>mean(trafficCongestion)</th><th scope=col>mean(carCrash)</th><th scope=col>mean(pedestrianDeath)</th><th scope=col>size</th><th scope=col>population</th><th scope=col>popDensity</th><th scope=col>cityName</th></tr>\n",
       "\t<tr><th scope=col>&lt;int&gt;</th><th scope=col>&lt;dbl&gt;</th><th scope=col>&lt;dbl&gt;</th><th scope=col>&lt;dbl&gt;</th><th scope=col>&lt;dbl&gt;</th><th scope=col>&lt;dbl&gt;</th><th scope=col>&lt;int&gt;</th><th scope=col>&lt;int&gt;</th><th scope=col>&lt;dbl&gt;</th><th scope=col>&lt;chr&gt;</th></tr>\n",
       "</thead>\n",
       "<tbody>\n",
       "\t<tr><td>1</td><td>33.58362</td><td>9.520942</td><td>2.943160</td><td>0.0024816965</td><td>0.0003346852</td><td>192</td><td>379909</td><td>1978.6927</td><td>Azzurropoli</td></tr>\n",
       "\t<tr><td>2</td><td>39.50050</td><td>8.566597</td><td>2.973209</td><td>0.0029585868</td><td>0.0003967144</td><td> 91</td><td>453991</td><td>4988.9121</td><td>Biancavilla</td></tr>\n",
       "\t<tr><td>3</td><td>39.50230</td><td>8.567399</td><td>2.155911</td><td>0.0021044147</td><td>0.0002828190</td><td>363</td><td>271008</td><td> 746.5785</td><td>Lavandonia </td></tr>\n",
       "\t<tr><td>4</td><td>39.50015</td><td>8.564412</td><td>1.135386</td><td>0.0011804869</td><td>0.0001199830</td><td>454</td><td>152110</td><td> 335.0441</td><td>Celestopoli</td></tr>\n",
       "\t<tr><td>5</td><td>39.50558</td><td>8.564934</td><td>1.000000</td><td>0.0009838568</td><td>0.0001455969</td><td>394</td><td> 52620</td><td> 133.5533</td><td>Plumbeopoli</td></tr>\n",
       "\t<tr><td>6</td><td>39.49797</td><td>8.567289</td><td>2.906029</td><td>0.0028883487</td><td>0.0003733877</td><td>183</td><td>303659</td><td>1659.3388</td><td>Aranciopoli</td></tr>\n",
       "</tbody>\n",
       "</table>\n"
      ],
      "text/latex": [
       "A data.frame: 6 × 10\n",
       "\\begin{tabular}{llllllllll}\n",
       " city & mean(speed) & mean(energyConsumption) & mean(trafficCongestion) & mean(carCrash) & mean(pedestrianDeath) & size & population & popDensity & cityName\\\\\n",
       " <int> & <dbl> & <dbl> & <dbl> & <dbl> & <dbl> & <int> & <int> & <dbl> & <chr>\\\\\n",
       "\\hline\n",
       "\t 1 & 33.58362 & 9.520942 & 2.943160 & 0.0024816965 & 0.0003346852 & 192 & 379909 & 1978.6927 & Azzurropoli\\\\\n",
       "\t 2 & 39.50050 & 8.566597 & 2.973209 & 0.0029585868 & 0.0003967144 &  91 & 453991 & 4988.9121 & Biancavilla\\\\\n",
       "\t 3 & 39.50230 & 8.567399 & 2.155911 & 0.0021044147 & 0.0002828190 & 363 & 271008 &  746.5785 & Lavandonia \\\\\n",
       "\t 4 & 39.50015 & 8.564412 & 1.135386 & 0.0011804869 & 0.0001199830 & 454 & 152110 &  335.0441 & Celestopoli\\\\\n",
       "\t 5 & 39.50558 & 8.564934 & 1.000000 & 0.0009838568 & 0.0001455969 & 394 &  52620 &  133.5533 & Plumbeopoli\\\\\n",
       "\t 6 & 39.49797 & 8.567289 & 2.906029 & 0.0028883487 & 0.0003733877 & 183 & 303659 & 1659.3388 & Aranciopoli\\\\\n",
       "\\end{tabular}\n"
      ],
      "text/markdown": [
       "\n",
       "A data.frame: 6 × 10\n",
       "\n",
       "| city &lt;int&gt; | mean(speed) &lt;dbl&gt; | mean(energyConsumption) &lt;dbl&gt; | mean(trafficCongestion) &lt;dbl&gt; | mean(carCrash) &lt;dbl&gt; | mean(pedestrianDeath) &lt;dbl&gt; | size &lt;int&gt; | population &lt;int&gt; | popDensity &lt;dbl&gt; | cityName &lt;chr&gt; |\n",
       "|---|---|---|---|---|---|---|---|---|---|\n",
       "| 1 | 33.58362 | 9.520942 | 2.943160 | 0.0024816965 | 0.0003346852 | 192 | 379909 | 1978.6927 | Azzurropoli |\n",
       "| 2 | 39.50050 | 8.566597 | 2.973209 | 0.0029585868 | 0.0003967144 |  91 | 453991 | 4988.9121 | Biancavilla |\n",
       "| 3 | 39.50230 | 8.567399 | 2.155911 | 0.0021044147 | 0.0002828190 | 363 | 271008 |  746.5785 | Lavandonia  |\n",
       "| 4 | 39.50015 | 8.564412 | 1.135386 | 0.0011804869 | 0.0001199830 | 454 | 152110 |  335.0441 | Celestopoli |\n",
       "| 5 | 39.50558 | 8.564934 | 1.000000 | 0.0009838568 | 0.0001455969 | 394 |  52620 |  133.5533 | Plumbeopoli |\n",
       "| 6 | 39.49797 | 8.567289 | 2.906029 | 0.0028883487 | 0.0003733877 | 183 | 303659 | 1659.3388 | Aranciopoli |\n",
       "\n"
      ],
      "text/plain": [
       "  city mean(speed) mean(energyConsumption) mean(trafficCongestion)\n",
       "1 1    33.58362    9.520942                2.943160               \n",
       "2 2    39.50050    8.566597                2.973209               \n",
       "3 3    39.50230    8.567399                2.155911               \n",
       "4 4    39.50015    8.564412                1.135386               \n",
       "5 5    39.50558    8.564934                1.000000               \n",
       "6 6    39.49797    8.567289                2.906029               \n",
       "  mean(carCrash) mean(pedestrianDeath) size population popDensity cityName   \n",
       "1 0.0024816965   0.0003346852          192  379909     1978.6927  Azzurropoli\n",
       "2 0.0029585868   0.0003967144           91  453991     4988.9121  Biancavilla\n",
       "3 0.0021044147   0.0002828190          363  271008      746.5785  Lavandonia \n",
       "4 0.0011804869   0.0001199830          454  152110      335.0441  Celestopoli\n",
       "5 0.0009838568   0.0001455969          394   52620      133.5533  Plumbeopoli\n",
       "6 0.0028883487   0.0003733877          183  303659     1659.3388  Aranciopoli"
      ]
     },
     "metadata": {},
     "output_type": "display_data"
    }
   ],
   "source": [
    "#Merge df_mean and data_city\n",
    "df_mean_city = merge(df_mean, data_city, by = \"city\")\n",
    "df_mean_city"
   ]
  },
  {
   "cell_type": "code",
   "execution_count": 24,
   "metadata": {
    "vscode": {
     "languageId": "r"
    }
   },
   "outputs": [
    {
     "data": {
      "text/html": [
       "<table class=\"dataframe\">\n",
       "<caption>A matrix: 9 × 9 of type dbl</caption>\n",
       "<thead>\n",
       "\t<tr><th></th><th scope=col>city</th><th scope=col>mean(speed)</th><th scope=col>mean(energyConsumption)</th><th scope=col>mean(trafficCongestion)</th><th scope=col>mean(carCrash)</th><th scope=col>mean(pedestrianDeath)</th><th scope=col>size</th><th scope=col>population</th><th scope=col>popDensity</th></tr>\n",
       "</thead>\n",
       "<tbody>\n",
       "\t<tr><th scope=row>city</th><td> 1.0000000</td><td> 0.65457465</td><td>-0.65494666</td><td>-0.4144660</td><td>-0.3034906</td><td>-0.3290872</td><td> 0.3556028</td><td>-0.6192284</td><td>-0.49370175</td></tr>\n",
       "\t<tr><th scope=row>mean(speed)</th><td> 0.6545747</td><td> 1.00000000</td><td>-0.99999577</td><td>-0.4044567</td><td>-0.2214423</td><td>-0.2474423</td><td> 0.2991002</td><td>-0.3703179</td><td>-0.09276327</td></tr>\n",
       "\t<tr><th scope=row>mean(energyConsumption)</th><td>-0.6549467</td><td>-0.99999577</td><td> 1.00000000</td><td> 0.4062794</td><td> 0.2233172</td><td> 0.2495126</td><td>-0.3005077</td><td> 0.3717756</td><td> 0.09365247</td></tr>\n",
       "\t<tr><th scope=row>mean(trafficCongestion)</th><td>-0.4144660</td><td>-0.40445670</td><td> 0.40627941</td><td> 1.0000000</td><td> 0.9809056</td><td> 0.9788411</td><td>-0.9183719</td><td> 0.9377974</td><td> 0.73872504</td></tr>\n",
       "\t<tr><th scope=row>mean(carCrash)</th><td>-0.3034906</td><td>-0.22144233</td><td> 0.22331718</td><td> 0.9809056</td><td> 1.0000000</td><td> 0.9882473</td><td>-0.9187362</td><td> 0.9258032</td><td> 0.77506229</td></tr>\n",
       "\t<tr><th scope=row>mean(pedestrianDeath)</th><td>-0.3290872</td><td>-0.24744226</td><td> 0.24951261</td><td> 0.9788411</td><td> 0.9882473</td><td> 1.0000000</td><td>-0.9361869</td><td> 0.9112875</td><td> 0.77855844</td></tr>\n",
       "\t<tr><th scope=row>size</th><td> 0.3556028</td><td> 0.29910015</td><td>-0.30050772</td><td>-0.9183719</td><td>-0.9187362</td><td>-0.9361869</td><td> 1.0000000</td><td>-0.8800503</td><td>-0.88321685</td></tr>\n",
       "\t<tr><th scope=row>population</th><td>-0.6192284</td><td>-0.37031791</td><td> 0.37177559</td><td> 0.9377974</td><td> 0.9258032</td><td> 0.9112875</td><td>-0.8800503</td><td> 1.0000000</td><td> 0.85946764</td></tr>\n",
       "\t<tr><th scope=row>popDensity</th><td>-0.4937017</td><td>-0.09276327</td><td> 0.09365247</td><td> 0.7387250</td><td> 0.7750623</td><td> 0.7785584</td><td>-0.8832168</td><td> 0.8594676</td><td> 1.00000000</td></tr>\n",
       "</tbody>\n",
       "</table>\n"
      ],
      "text/latex": [
       "A matrix: 9 × 9 of type dbl\n",
       "\\begin{tabular}{r|lllllllll}\n",
       "  & city & mean(speed) & mean(energyConsumption) & mean(trafficCongestion) & mean(carCrash) & mean(pedestrianDeath) & size & population & popDensity\\\\\n",
       "\\hline\n",
       "\tcity &  1.0000000 &  0.65457465 & -0.65494666 & -0.4144660 & -0.3034906 & -0.3290872 &  0.3556028 & -0.6192284 & -0.49370175\\\\\n",
       "\tmean(speed) &  0.6545747 &  1.00000000 & -0.99999577 & -0.4044567 & -0.2214423 & -0.2474423 &  0.2991002 & -0.3703179 & -0.09276327\\\\\n",
       "\tmean(energyConsumption) & -0.6549467 & -0.99999577 &  1.00000000 &  0.4062794 &  0.2233172 &  0.2495126 & -0.3005077 &  0.3717756 &  0.09365247\\\\\n",
       "\tmean(trafficCongestion) & -0.4144660 & -0.40445670 &  0.40627941 &  1.0000000 &  0.9809056 &  0.9788411 & -0.9183719 &  0.9377974 &  0.73872504\\\\\n",
       "\tmean(carCrash) & -0.3034906 & -0.22144233 &  0.22331718 &  0.9809056 &  1.0000000 &  0.9882473 & -0.9187362 &  0.9258032 &  0.77506229\\\\\n",
       "\tmean(pedestrianDeath) & -0.3290872 & -0.24744226 &  0.24951261 &  0.9788411 &  0.9882473 &  1.0000000 & -0.9361869 &  0.9112875 &  0.77855844\\\\\n",
       "\tsize &  0.3556028 &  0.29910015 & -0.30050772 & -0.9183719 & -0.9187362 & -0.9361869 &  1.0000000 & -0.8800503 & -0.88321685\\\\\n",
       "\tpopulation & -0.6192284 & -0.37031791 &  0.37177559 &  0.9377974 &  0.9258032 &  0.9112875 & -0.8800503 &  1.0000000 &  0.85946764\\\\\n",
       "\tpopDensity & -0.4937017 & -0.09276327 &  0.09365247 &  0.7387250 &  0.7750623 &  0.7785584 & -0.8832168 &  0.8594676 &  1.00000000\\\\\n",
       "\\end{tabular}\n"
      ],
      "text/markdown": [
       "\n",
       "A matrix: 9 × 9 of type dbl\n",
       "\n",
       "| <!--/--> | city | mean(speed) | mean(energyConsumption) | mean(trafficCongestion) | mean(carCrash) | mean(pedestrianDeath) | size | population | popDensity |\n",
       "|---|---|---|---|---|---|---|---|---|---|\n",
       "| city |  1.0000000 |  0.65457465 | -0.65494666 | -0.4144660 | -0.3034906 | -0.3290872 |  0.3556028 | -0.6192284 | -0.49370175 |\n",
       "| mean(speed) |  0.6545747 |  1.00000000 | -0.99999577 | -0.4044567 | -0.2214423 | -0.2474423 |  0.2991002 | -0.3703179 | -0.09276327 |\n",
       "| mean(energyConsumption) | -0.6549467 | -0.99999577 |  1.00000000 |  0.4062794 |  0.2233172 |  0.2495126 | -0.3005077 |  0.3717756 |  0.09365247 |\n",
       "| mean(trafficCongestion) | -0.4144660 | -0.40445670 |  0.40627941 |  1.0000000 |  0.9809056 |  0.9788411 | -0.9183719 |  0.9377974 |  0.73872504 |\n",
       "| mean(carCrash) | -0.3034906 | -0.22144233 |  0.22331718 |  0.9809056 |  1.0000000 |  0.9882473 | -0.9187362 |  0.9258032 |  0.77506229 |\n",
       "| mean(pedestrianDeath) | -0.3290872 | -0.24744226 |  0.24951261 |  0.9788411 |  0.9882473 |  1.0000000 | -0.9361869 |  0.9112875 |  0.77855844 |\n",
       "| size |  0.3556028 |  0.29910015 | -0.30050772 | -0.9183719 | -0.9187362 | -0.9361869 |  1.0000000 | -0.8800503 | -0.88321685 |\n",
       "| population | -0.6192284 | -0.37031791 |  0.37177559 |  0.9377974 |  0.9258032 |  0.9112875 | -0.8800503 |  1.0000000 |  0.85946764 |\n",
       "| popDensity | -0.4937017 | -0.09276327 |  0.09365247 |  0.7387250 |  0.7750623 |  0.7785584 | -0.8832168 |  0.8594676 |  1.00000000 |\n",
       "\n"
      ],
      "text/plain": [
       "                        city       mean(speed) mean(energyConsumption)\n",
       "city                     1.0000000  0.65457465 -0.65494666            \n",
       "mean(speed)              0.6545747  1.00000000 -0.99999577            \n",
       "mean(energyConsumption) -0.6549467 -0.99999577  1.00000000            \n",
       "mean(trafficCongestion) -0.4144660 -0.40445670  0.40627941            \n",
       "mean(carCrash)          -0.3034906 -0.22144233  0.22331718            \n",
       "mean(pedestrianDeath)   -0.3290872 -0.24744226  0.24951261            \n",
       "size                     0.3556028  0.29910015 -0.30050772            \n",
       "population              -0.6192284 -0.37031791  0.37177559            \n",
       "popDensity              -0.4937017 -0.09276327  0.09365247            \n",
       "                        mean(trafficCongestion) mean(carCrash)\n",
       "city                    -0.4144660              -0.3034906    \n",
       "mean(speed)             -0.4044567              -0.2214423    \n",
       "mean(energyConsumption)  0.4062794               0.2233172    \n",
       "mean(trafficCongestion)  1.0000000               0.9809056    \n",
       "mean(carCrash)           0.9809056               1.0000000    \n",
       "mean(pedestrianDeath)    0.9788411               0.9882473    \n",
       "size                    -0.9183719              -0.9187362    \n",
       "population               0.9377974               0.9258032    \n",
       "popDensity               0.7387250               0.7750623    \n",
       "                        mean(pedestrianDeath) size       population popDensity \n",
       "city                    -0.3290872             0.3556028 -0.6192284 -0.49370175\n",
       "mean(speed)             -0.2474423             0.2991002 -0.3703179 -0.09276327\n",
       "mean(energyConsumption)  0.2495126            -0.3005077  0.3717756  0.09365247\n",
       "mean(trafficCongestion)  0.9788411            -0.9183719  0.9377974  0.73872504\n",
       "mean(carCrash)           0.9882473            -0.9187362  0.9258032  0.77506229\n",
       "mean(pedestrianDeath)    1.0000000            -0.9361869  0.9112875  0.77855844\n",
       "size                    -0.9361869             1.0000000 -0.8800503 -0.88321685\n",
       "population               0.9112875            -0.8800503  1.0000000  0.85946764\n",
       "popDensity               0.7785584            -0.8832168  0.8594676  1.00000000"
      ]
     },
     "metadata": {},
     "output_type": "display_data"
    }
   ],
   "source": [
    "# TO DO: remove this, it doesn't make sense\n",
    "## Correlation matrix df_mean_city\n",
    "cor(df_mean_city[,1:9])"
   ]
  },
  {
   "cell_type": "markdown",
   "metadata": {},
   "source": [
    " We will do a data exploration in the city 1 and the different variables over the time\n"
   ]
  },
  {
   "cell_type": "code",
   "execution_count": 25,
   "metadata": {
    "vscode": {
     "languageId": "r"
    }
   },
   "outputs": [
    {
     "data": {
      "text/html": [
       "<table class=\"dataframe\">\n",
       "<caption>A tibble: 6 × 6</caption>\n",
       "<thead>\n",
       "\t<tr><th scope=col>day</th><th scope=col>speed</th><th scope=col>energyConsumption</th><th scope=col>trafficCongestion</th><th scope=col>carCrash</th><th scope=col>pedestrianDeath</th></tr>\n",
       "\t<tr><th scope=col>&lt;date&gt;</th><th scope=col>&lt;dbl&gt;</th><th scope=col>&lt;dbl&gt;</th><th scope=col>&lt;dbl&gt;</th><th scope=col>&lt;dbl&gt;</th><th scope=col>&lt;dbl&gt;</th></tr>\n",
       "</thead>\n",
       "<tbody>\n",
       "\t<tr><td>2021-04-04</td><td>39.49565</td><td>8.564762</td><td>2.956967</td><td>0.003099027</td><td>0.0004363516</td></tr>\n",
       "\t<tr><td>2021-04-11</td><td>39.50350</td><td>8.564177</td><td>2.943202</td><td>0.002722179</td><td>0.0003826372</td></tr>\n",
       "\t<tr><td>2021-04-18</td><td>39.50024</td><td>8.565117</td><td>2.944780</td><td>0.002888727</td><td>0.0003713815</td></tr>\n",
       "\t<tr><td>2021-04-25</td><td>39.48875</td><td>8.565089</td><td>2.946277</td><td>0.003013725</td><td>0.0004002502</td></tr>\n",
       "\t<tr><td>2021-05-02</td><td>39.49929</td><td>8.568149</td><td>2.942664</td><td>0.002857529</td><td>0.0003822053</td></tr>\n",
       "\t<tr><td>2021-05-09</td><td>39.49845</td><td>8.567752</td><td>2.943864</td><td>0.002966018</td><td>0.0003504125</td></tr>\n",
       "</tbody>\n",
       "</table>\n"
      ],
      "text/latex": [
       "A tibble: 6 × 6\n",
       "\\begin{tabular}{llllll}\n",
       " day & speed & energyConsumption & trafficCongestion & carCrash & pedestrianDeath\\\\\n",
       " <date> & <dbl> & <dbl> & <dbl> & <dbl> & <dbl>\\\\\n",
       "\\hline\n",
       "\t 2021-04-04 & 39.49565 & 8.564762 & 2.956967 & 0.003099027 & 0.0004363516\\\\\n",
       "\t 2021-04-11 & 39.50350 & 8.564177 & 2.943202 & 0.002722179 & 0.0003826372\\\\\n",
       "\t 2021-04-18 & 39.50024 & 8.565117 & 2.944780 & 0.002888727 & 0.0003713815\\\\\n",
       "\t 2021-04-25 & 39.48875 & 8.565089 & 2.946277 & 0.003013725 & 0.0004002502\\\\\n",
       "\t 2021-05-02 & 39.49929 & 8.568149 & 2.942664 & 0.002857529 & 0.0003822053\\\\\n",
       "\t 2021-05-09 & 39.49845 & 8.567752 & 2.943864 & 0.002966018 & 0.0003504125\\\\\n",
       "\\end{tabular}\n"
      ],
      "text/markdown": [
       "\n",
       "A tibble: 6 × 6\n",
       "\n",
       "| day &lt;date&gt; | speed &lt;dbl&gt; | energyConsumption &lt;dbl&gt; | trafficCongestion &lt;dbl&gt; | carCrash &lt;dbl&gt; | pedestrianDeath &lt;dbl&gt; |\n",
       "|---|---|---|---|---|---|\n",
       "| 2021-04-04 | 39.49565 | 8.564762 | 2.956967 | 0.003099027 | 0.0004363516 |\n",
       "| 2021-04-11 | 39.50350 | 8.564177 | 2.943202 | 0.002722179 | 0.0003826372 |\n",
       "| 2021-04-18 | 39.50024 | 8.565117 | 2.944780 | 0.002888727 | 0.0003713815 |\n",
       "| 2021-04-25 | 39.48875 | 8.565089 | 2.946277 | 0.003013725 | 0.0004002502 |\n",
       "| 2021-05-02 | 39.49929 | 8.568149 | 2.942664 | 0.002857529 | 0.0003822053 |\n",
       "| 2021-05-09 | 39.49845 | 8.567752 | 2.943864 | 0.002966018 | 0.0003504125 |\n",
       "\n"
      ],
      "text/plain": [
       "  day        speed    energyConsumption trafficCongestion carCrash   \n",
       "1 2021-04-04 39.49565 8.564762          2.956967          0.003099027\n",
       "2 2021-04-11 39.50350 8.564177          2.943202          0.002722179\n",
       "3 2021-04-18 39.50024 8.565117          2.944780          0.002888727\n",
       "4 2021-04-25 39.48875 8.565089          2.946277          0.003013725\n",
       "5 2021-05-02 39.49929 8.568149          2.942664          0.002857529\n",
       "6 2021-05-09 39.49845 8.567752          2.943864          0.002966018\n",
       "  pedestrianDeath\n",
       "1 0.0004363516   \n",
       "2 0.0003826372   \n",
       "3 0.0003713815   \n",
       "4 0.0004002502   \n",
       "5 0.0003822053   \n",
       "6 0.0003504125   "
      ]
     },
     "metadata": {},
     "output_type": "display_data"
    }
   ],
   "source": [
    "# Datetime as date\n",
    "data$datetime <- as.Date(data$datetime, format = \"%Y-%m-%d\")\n",
    "\n",
    "# Filter for city 1 and group by day\n",
    "data_grouped_1 <- data %>%\n",
    "    filter(city == 1) %>%\n",
    "    group_by(day = floor_date(datetime, \"day\")) %>%\n",
    "    summarise(speed = mean(speed, na.rm = TRUE),\n",
    "              energyConsumption = mean(energyConsumption, na.rm = TRUE),\n",
    "              trafficCongestion = mean(trafficCongestion, na.rm = TRUE),\n",
    "              carCrash = mean(carCrash, na.rm = TRUE),\n",
    "              pedestrianDeath = mean(pedestrianDeath, na.rm = TRUE))\n",
    "\n",
    "head(data_grouped_1)"
   ]
  },
  {
   "cell_type": "code",
   "execution_count": 26,
   "metadata": {
    "vscode": {
     "languageId": "r"
    }
   },
   "outputs": [
    {
     "name": "stderr",
     "output_type": "stream",
     "text": [
      "Warning message:\n",
      "\"\u001b[1m\u001b[22mUsing `size` aesthetic for lines was deprecated in ggplot2 3.4.0.\n",
      "\u001b[36mℹ\u001b[39m Please use `linewidth` instead.\"\n"
     ]
    },
    {
     "data": {
      "image/png": "[encoded data removed]",
      "text/plain": [
       "plot without title"
      ]
     },
     "metadata": {
      "image/png": {
       "height": 420,
       "width": 420
      }
     },
     "output_type": "display_data"
    },
    {
     "data": {
      "image/png": "[encoded data removed]",
      "text/plain": [
       "plot without title"
      ]
     },
     "metadata": {
      "image/png": {
       "height": 420,
       "width": 420
      }
     },
     "output_type": "display_data"
    },
    {
     "data": {
      "image/png": "[encoded data removed]",
      "text/plain": [
       "plot without title"
      ]
     },
     "metadata": {
      "image/png": {
       "height": 420,
       "width": 420
      }
     },
     "output_type": "display_data"
    }
   ],
   "source": [
    "# Speed vs Day\n",
    "g1 <- ggplot(data_grouped_1, aes(x = day, y = speed)) +\n",
    "    geom_line(size = 1) +\n",
    "    labs(title = \"Daily Average Speed in City 1\", x = \"Date\", y = \"Speed\") +\n",
    "    theme_minimal() +\n",
    "    theme(axis.text.x = element_text(angle = 45, hjust = 1))\n",
    "\n",
    "# Energy consumption vs Day\n",
    "g2 <- ggplot(data_grouped_1, aes(x = day, y = energyConsumption)) +\n",
    "    geom_line(size = 1) +\n",
    "    labs(title = \"Daily Average Energy Consumption in City 1\", x = \"Date\", y = \"Energy Consumption\") +\n",
    "    theme_minimal() +\n",
    "    theme(axis.text.x = element_text(angle = 45, hjust = 1))\n",
    "\n",
    "# Traffic congestion vs Day\n",
    "g3 <- ggplot(data_grouped_1, aes(x = day, y = trafficCongestion)) +\n",
    "    geom_line(size = 1) +\n",
    "    labs(title = \"Daily Average Traffic Congestion in City 1\", x = \"Date\", y = \"Traffic Congestion\") +\n",
    "    theme_minimal() +\n",
    "    theme(axis.text.x = element_text(angle = 45, hjust = 1))\n",
    "\n",
    "\n",
    "g1 <- g1 + geom_line(color = \"blue\")\n",
    "g2 <- g2 + geom_line(color = \"blue\")\n",
    "g3 <- g3 + geom_line(color = \"blue\")\n",
    "\n",
    "\n",
    "# Plotting\n",
    "print(g1)\n",
    "print(g2)\n",
    "print(g3)"
   ]
  },
  {
   "cell_type": "markdown",
   "metadata": {},
   "source": [
    "After this, we will do an analysis of the data by station "
   ]
  },
  {
   "cell_type": "code",
   "execution_count": 29,
   "metadata": {
    "vscode": {
     "languageId": "r"
    }
   },
   "outputs": [
    {
     "name": "stderr",
     "output_type": "stream",
     "text": [
      "\u001b[1m\u001b[22m`summarise()` has grouped output by 'station'. You can override using the\n",
      "`.groups` argument.\n"
     ]
    },
    {
     "data": {
      "text/html": [
       "<table class=\"dataframe\">\n",
       "<caption>A grouped_df: 6 × 7</caption>\n",
       "<thead>\n",
       "\t<tr><th scope=col>station</th><th scope=col>datetime</th><th scope=col>speed</th><th scope=col>energyConsumption</th><th scope=col>trafficCongestion</th><th scope=col>carCrash</th><th scope=col>pedestrianDeath</th></tr>\n",
       "\t<tr><th scope=col>&lt;int&gt;</th><th scope=col>&lt;date&gt;</th><th scope=col>&lt;dbl&gt;</th><th scope=col>&lt;dbl&gt;</th><th scope=col>&lt;dbl&gt;</th><th scope=col>&lt;dbl&gt;</th><th scope=col>&lt;dbl&gt;</th></tr>\n",
       "</thead>\n",
       "<tbody>\n",
       "\t<tr><td>1</td><td>2021-04-04</td><td>39.47956</td><td>8.575182</td><td>2.914455</td><td>0.002747599</td><td>0.0005578949</td></tr>\n",
       "\t<tr><td>1</td><td>2021-04-11</td><td>39.48773</td><td>8.556106</td><td>2.912705</td><td>0.002922490</td><td>0.0003815325</td></tr>\n",
       "\t<tr><td>1</td><td>2021-04-18</td><td>39.48011</td><td>8.567174</td><td>2.921677</td><td>0.002924062</td><td>0.0003472835</td></tr>\n",
       "\t<tr><td>1</td><td>2021-04-25</td><td>39.45676</td><td>8.577785</td><td>2.901808</td><td>0.002909320</td><td>0.0002785515</td></tr>\n",
       "\t<tr><td>1</td><td>2021-05-02</td><td>39.51588</td><td>8.564596</td><td>2.906201</td><td>0.002893206</td><td>0.0003789540</td></tr>\n",
       "\t<tr><td>1</td><td>2021-05-09</td><td>39.49568</td><td>8.578202</td><td>2.908553</td><td>0.002644048</td><td>0.0002253562</td></tr>\n",
       "</tbody>\n",
       "</table>\n"
      ],
      "text/latex": [
       "A grouped\\_df: 6 × 7\n",
       "\\begin{tabular}{lllllll}\n",
       " station & datetime & speed & energyConsumption & trafficCongestion & carCrash & pedestrianDeath\\\\\n",
       " <int> & <date> & <dbl> & <dbl> & <dbl> & <dbl> & <dbl>\\\\\n",
       "\\hline\n",
       "\t 1 & 2021-04-04 & 39.47956 & 8.575182 & 2.914455 & 0.002747599 & 0.0005578949\\\\\n",
       "\t 1 & 2021-04-11 & 39.48773 & 8.556106 & 2.912705 & 0.002922490 & 0.0003815325\\\\\n",
       "\t 1 & 2021-04-18 & 39.48011 & 8.567174 & 2.921677 & 0.002924062 & 0.0003472835\\\\\n",
       "\t 1 & 2021-04-25 & 39.45676 & 8.577785 & 2.901808 & 0.002909320 & 0.0002785515\\\\\n",
       "\t 1 & 2021-05-02 & 39.51588 & 8.564596 & 2.906201 & 0.002893206 & 0.0003789540\\\\\n",
       "\t 1 & 2021-05-09 & 39.49568 & 8.578202 & 2.908553 & 0.002644048 & 0.0002253562\\\\\n",
       "\\end{tabular}\n"
      ],
      "text/markdown": [
       "\n",
       "A grouped_df: 6 × 7\n",
       "\n",
       "| station &lt;int&gt; | datetime &lt;date&gt; | speed &lt;dbl&gt; | energyConsumption &lt;dbl&gt; | trafficCongestion &lt;dbl&gt; | carCrash &lt;dbl&gt; | pedestrianDeath &lt;dbl&gt; |\n",
       "|---|---|---|---|---|---|---|\n",
       "| 1 | 2021-04-04 | 39.47956 | 8.575182 | 2.914455 | 0.002747599 | 0.0005578949 |\n",
       "| 1 | 2021-04-11 | 39.48773 | 8.556106 | 2.912705 | 0.002922490 | 0.0003815325 |\n",
       "| 1 | 2021-04-18 | 39.48011 | 8.567174 | 2.921677 | 0.002924062 | 0.0003472835 |\n",
       "| 1 | 2021-04-25 | 39.45676 | 8.577785 | 2.901808 | 0.002909320 | 0.0002785515 |\n",
       "| 1 | 2021-05-02 | 39.51588 | 8.564596 | 2.906201 | 0.002893206 | 0.0003789540 |\n",
       "| 1 | 2021-05-09 | 39.49568 | 8.578202 | 2.908553 | 0.002644048 | 0.0002253562 |\n",
       "\n"
      ],
      "text/plain": [
       "  station datetime   speed    energyConsumption trafficCongestion carCrash   \n",
       "1 1       2021-04-04 39.47956 8.575182          2.914455          0.002747599\n",
       "2 1       2021-04-11 39.48773 8.556106          2.912705          0.002922490\n",
       "3 1       2021-04-18 39.48011 8.567174          2.921677          0.002924062\n",
       "4 1       2021-04-25 39.45676 8.577785          2.901808          0.002909320\n",
       "5 1       2021-05-02 39.51588 8.564596          2.906201          0.002893206\n",
       "6 1       2021-05-09 39.49568 8.578202          2.908553          0.002644048\n",
       "  pedestrianDeath\n",
       "1 0.0005578949   \n",
       "2 0.0003815325   \n",
       "3 0.0003472835   \n",
       "4 0.0002785515   \n",
       "5 0.0003789540   \n",
       "6 0.0002253562   "
      ]
     },
     "metadata": {},
     "output_type": "display_data"
    },
    {
     "name": "stderr",
     "output_type": "stream",
     "text": [
      "\u001b[1m\u001b[22m`summarise()` has grouped output by 'station'. You can override using the\n",
      "`.groups` argument.\n"
     ]
    },
    {
     "data": {
      "text/html": [
       "<table class=\"dataframe\">\n",
       "<caption>A grouped_df: 6 × 7</caption>\n",
       "<thead>\n",
       "\t<tr><th scope=col>station</th><th scope=col>datetime</th><th scope=col>speed</th><th scope=col>energyConsumption</th><th scope=col>trafficCongestion</th><th scope=col>carCrash</th><th scope=col>pedestrianDeath</th></tr>\n",
       "\t<tr><th scope=col>&lt;int&gt;</th><th scope=col>&lt;date&gt;</th><th scope=col>&lt;dbl&gt;</th><th scope=col>&lt;dbl&gt;</th><th scope=col>&lt;dbl&gt;</th><th scope=col>&lt;dbl&gt;</th><th scope=col>&lt;dbl&gt;</th></tr>\n",
       "</thead>\n",
       "<tbody>\n",
       "\t<tr><td>1</td><td>2021-04-04</td><td>39.51878</td><td>8.577016</td><td>2.840004</td><td>0.002394024</td><td>0.0004976884</td></tr>\n",
       "\t<tr><td>1</td><td>2021-04-11</td><td>39.48979</td><td>8.572650</td><td>2.820450</td><td>0.002932656</td><td>0.0003128493</td></tr>\n",
       "\t<tr><td>1</td><td>2021-04-18</td><td>39.52816</td><td>8.557522</td><td>2.830969</td><td>0.002662685</td><td>0.0003220616</td></tr>\n",
       "\t<tr><td>1</td><td>2021-04-25</td><td>39.47443</td><td>8.558630</td><td>2.839044</td><td>0.002786874</td><td>0.0003174931</td></tr>\n",
       "\t<tr><td>1</td><td>2021-05-02</td><td>39.51526</td><td>8.551392</td><td>2.797418</td><td>0.002579687</td><td>0.0003068269</td></tr>\n",
       "\t<tr><td>1</td><td>2021-05-09</td><td>39.50037</td><td>8.553937</td><td>2.802181</td><td>0.002581595</td><td>0.0004438765</td></tr>\n",
       "</tbody>\n",
       "</table>\n"
      ],
      "text/latex": [
       "A grouped\\_df: 6 × 7\n",
       "\\begin{tabular}{lllllll}\n",
       " station & datetime & speed & energyConsumption & trafficCongestion & carCrash & pedestrianDeath\\\\\n",
       " <int> & <date> & <dbl> & <dbl> & <dbl> & <dbl> & <dbl>\\\\\n",
       "\\hline\n",
       "\t 1 & 2021-04-04 & 39.51878 & 8.577016 & 2.840004 & 0.002394024 & 0.0004976884\\\\\n",
       "\t 1 & 2021-04-11 & 39.48979 & 8.572650 & 2.820450 & 0.002932656 & 0.0003128493\\\\\n",
       "\t 1 & 2021-04-18 & 39.52816 & 8.557522 & 2.830969 & 0.002662685 & 0.0003220616\\\\\n",
       "\t 1 & 2021-04-25 & 39.47443 & 8.558630 & 2.839044 & 0.002786874 & 0.0003174931\\\\\n",
       "\t 1 & 2021-05-02 & 39.51526 & 8.551392 & 2.797418 & 0.002579687 & 0.0003068269\\\\\n",
       "\t 1 & 2021-05-09 & 39.50037 & 8.553937 & 2.802181 & 0.002581595 & 0.0004438765\\\\\n",
       "\\end{tabular}\n"
      ],
      "text/markdown": [
       "\n",
       "A grouped_df: 6 × 7\n",
       "\n",
       "| station &lt;int&gt; | datetime &lt;date&gt; | speed &lt;dbl&gt; | energyConsumption &lt;dbl&gt; | trafficCongestion &lt;dbl&gt; | carCrash &lt;dbl&gt; | pedestrianDeath &lt;dbl&gt; |\n",
       "|---|---|---|---|---|---|---|\n",
       "| 1 | 2021-04-04 | 39.51878 | 8.577016 | 2.840004 | 0.002394024 | 0.0004976884 |\n",
       "| 1 | 2021-04-11 | 39.48979 | 8.572650 | 2.820450 | 0.002932656 | 0.0003128493 |\n",
       "| 1 | 2021-04-18 | 39.52816 | 8.557522 | 2.830969 | 0.002662685 | 0.0003220616 |\n",
       "| 1 | 2021-04-25 | 39.47443 | 8.558630 | 2.839044 | 0.002786874 | 0.0003174931 |\n",
       "| 1 | 2021-05-02 | 39.51526 | 8.551392 | 2.797418 | 0.002579687 | 0.0003068269 |\n",
       "| 1 | 2021-05-09 | 39.50037 | 8.553937 | 2.802181 | 0.002581595 | 0.0004438765 |\n",
       "\n"
      ],
      "text/plain": [
       "  station datetime   speed    energyConsumption trafficCongestion carCrash   \n",
       "1 1       2021-04-04 39.51878 8.577016          2.840004          0.002394024\n",
       "2 1       2021-04-11 39.48979 8.572650          2.820450          0.002932656\n",
       "3 1       2021-04-18 39.52816 8.557522          2.830969          0.002662685\n",
       "4 1       2021-04-25 39.47443 8.558630          2.839044          0.002786874\n",
       "5 1       2021-05-02 39.51526 8.551392          2.797418          0.002579687\n",
       "6 1       2021-05-09 39.50037 8.553937          2.802181          0.002581595\n",
       "  pedestrianDeath\n",
       "1 0.0004976884   \n",
       "2 0.0003128493   \n",
       "3 0.0003220616   \n",
       "4 0.0003174931   \n",
       "5 0.0003068269   \n",
       "6 0.0004438765   "
      ]
     },
     "metadata": {},
     "output_type": "display_data"
    }
   ],
   "source": [
    "# Filter for city 1 and group by station and day\n",
    "stations_city_1_mean <- data %>%\n",
    "    filter(city == 1) %>%\n",
    "    group_by(station, datetime = floor_date(datetime, \"day\")) %>%\n",
    "    summarise(speed = mean(speed, na.rm = TRUE),\n",
    "              energyConsumption = mean(energyConsumption, na.rm = TRUE),\n",
    "              trafficCongestion = mean(trafficCongestion, na.rm = TRUE),\n",
    "              carCrash = mean(carCrash, na.rm = TRUE),\n",
    "              pedestrianDeath = mean(pedestrianDeath, na.rm = TRUE))\n",
    "\n",
    "head(stations_city_1_mean)\n",
    "\n",
    "stations_city_6_mean <- data %>%\n",
    "    filter(city == 6) %>%\n",
    "    group_by(station, datetime = floor_date(datetime, \"day\")) %>%\n",
    "    summarise(speed = mean(speed, na.rm = TRUE),\n",
    "              energyConsumption = mean(energyConsumption, na.rm = TRUE),\n",
    "              trafficCongestion = mean(trafficCongestion, na.rm = TRUE),\n",
    "              carCrash = mean(carCrash, na.rm = TRUE),\n",
    "              pedestrianDeath = mean(pedestrianDeath, na.rm = TRUE))\n",
    "\n",
    "head(stations_city_6_mean)"
   ]
  },
  {
   "cell_type": "code",
   "execution_count": 30,
   "metadata": {
    "vscode": {
     "languageId": "r"
    }
   },
   "outputs": [
    {
     "data": {
      "image/png": "[encoded data removed]",
      "text/plain": [
       "plot without title"
      ]
     },
     "metadata": {
      "image/png": {
       "height": 420,
       "width": 420
      }
     },
     "output_type": "display_data"
    },
    {
     "data": {
      "image/png": "[encoded data removed]",
      "text/plain": [
       "plot without title"
      ]
     },
     "metadata": {
      "image/png": {
       "height": 420,
       "width": 420
      }
     },
     "output_type": "display_data"
    }
   ],
   "source": [
    "# Plotting\n",
    "g1 <- ggplot(stations_city_1_mean, aes(x = datetime, y = speed)) +\n",
    "    geom_line() +\n",
    "    facet_wrap(~ station, ncol = 3) +\n",
    "    theme_minimal() +\n",
    "    theme(axis.text.x = element_text(angle = 45, hjust = 1)) +\n",
    "    labs(title = \"Average Speed vs Day for Each Station in City 1\", x = \"Date\", y = \"Speed\")\n",
    "\n",
    "print(g1)\n",
    "\n",
    "g2 <- ggplot(stations_city_6_mean, aes(x = datetime, y = speed)) +\n",
    "    geom_line() +\n",
    "    facet_wrap(~ station, ncol = 3) +\n",
    "    theme_minimal() +\n",
    "    theme(axis.text.x = element_text(angle = 45, hjust = 1)) +\n",
    "    labs(title = \"Average Speed vs Day for Each Station in City 1\", x = \"Date\", y = \"Speed\")\n",
    "\n",
    "print(g2)"
   ]
  },
  {
   "cell_type": "markdown",
   "metadata": {},
   "source": [
    "From this plot, we can see that the stations 4 and 7 did not present changes in the average sped, while the other stations did."
   ]
  },
  {
   "cell_type": "markdown",
   "metadata": {},
   "source": [
    "After, we will do a macro data exploration, to see how it was the behavior of the city 1 compared to the other cities"
   ]
  },
  {
   "cell_type": "code",
   "execution_count": null,
   "metadata": {
    "vscode": {
     "languageId": "r"
    }
   },
   "outputs": [
    {
     "name": "stderr",
     "output_type": "stream",
     "text": [
      "Warning message:\n",
      "\"\u001b[1m\u001b[22mThere was 1 warning in `summarise()`.\n",
      "\u001b[1m\u001b[22m\u001b[36mℹ\u001b[39m In argument: `across(everything(), mean, na.rm = TRUE)`.\n",
      "\u001b[36mℹ\u001b[39m In group 1: `city = 1` and `datetime = 2021-04-04`.\n",
      "Caused by warning:\n",
      "\u001b[1m\u001b[22m\u001b[33m!\u001b[39m The `...` argument of `across()` is deprecated as of dplyr 1.1.0.\n",
      "Supply arguments directly to `.fns` through an anonymous function instead.\n",
      "\n",
      "  # Previously\n",
      "  across(a:b, mean, na.rm = TRUE)\n",
      "\n",
      "  # Now\n",
      "  across(a:b, \\(x) mean(x, na.rm = TRUE))\"\n",
      "\u001b[1m\u001b[22m`summarise()` has grouped output by 'city'. You can override using the\n",
      "`.groups` argument.\n"
     ]
    },
    {
     "data": {
      "text/html": [
       "<table class=\"dataframe\">\n",
       "<caption>A tibble: 6 × 8</caption>\n",
       "<thead>\n",
       "\t<tr><th scope=col>city</th><th scope=col>datetime</th><th scope=col>X</th><th scope=col>speed</th><th scope=col>energyConsumption</th><th scope=col>trafficCongestion</th><th scope=col>carCrash</th><th scope=col>pedestrianDeath</th></tr>\n",
       "\t<tr><th scope=col>&lt;int&gt;</th><th scope=col>&lt;date&gt;</th><th scope=col>&lt;dbl&gt;</th><th scope=col>&lt;dbl&gt;</th><th scope=col>&lt;dbl&gt;</th><th scope=col>&lt;dbl&gt;</th><th scope=col>&lt;dbl&gt;</th><th scope=col>&lt;dbl&gt;</th></tr>\n",
       "</thead>\n",
       "<tbody>\n",
       "\t<tr><td>6</td><td>2021-06-27</td><td>993</td><td>39.49601</td><td>8.564515</td><td>2.900902</td><td>0.002869132</td><td>0.0003985252</td></tr>\n",
       "\t<tr><td>6</td><td>2021-07-04</td><td>994</td><td>39.50567</td><td>8.566886</td><td>2.908578</td><td>0.002905690</td><td>0.0003830040</td></tr>\n",
       "\t<tr><td>6</td><td>2021-07-11</td><td>995</td><td>39.49917</td><td>8.564085</td><td>2.908300</td><td>0.002846685</td><td>0.0003995219</td></tr>\n",
       "\t<tr><td>6</td><td>2021-07-18</td><td>996</td><td>39.49093</td><td>8.565814</td><td>2.904893</td><td>0.002901073</td><td>0.0003745151</td></tr>\n",
       "\t<tr><td>6</td><td>2021-07-25</td><td>997</td><td>39.50651</td><td>8.568097</td><td>2.908806</td><td>0.002839312</td><td>0.0003864495</td></tr>\n",
       "\t<tr><td>6</td><td>2021-08-01</td><td>998</td><td>39.50009</td><td>8.568904</td><td>2.883870</td><td>0.003156162</td><td>0.0003468228</td></tr>\n",
       "</tbody>\n",
       "</table>\n"
      ],
      "text/latex": [
       "A tibble: 6 × 8\n",
       "\\begin{tabular}{llllllll}\n",
       " city & datetime & X & speed & energyConsumption & trafficCongestion & carCrash & pedestrianDeath\\\\\n",
       " <int> & <date> & <dbl> & <dbl> & <dbl> & <dbl> & <dbl> & <dbl>\\\\\n",
       "\\hline\n",
       "\t 6 & 2021-06-27 & 993 & 39.49601 & 8.564515 & 2.900902 & 0.002869132 & 0.0003985252\\\\\n",
       "\t 6 & 2021-07-04 & 994 & 39.50567 & 8.566886 & 2.908578 & 0.002905690 & 0.0003830040\\\\\n",
       "\t 6 & 2021-07-11 & 995 & 39.49917 & 8.564085 & 2.908300 & 0.002846685 & 0.0003995219\\\\\n",
       "\t 6 & 2021-07-18 & 996 & 39.49093 & 8.565814 & 2.904893 & 0.002901073 & 0.0003745151\\\\\n",
       "\t 6 & 2021-07-25 & 997 & 39.50651 & 8.568097 & 2.908806 & 0.002839312 & 0.0003864495\\\\\n",
       "\t 6 & 2021-08-01 & 998 & 39.50009 & 8.568904 & 2.883870 & 0.003156162 & 0.0003468228\\\\\n",
       "\\end{tabular}\n"
      ],
      "text/markdown": [
       "\n",
       "A tibble: 6 × 8\n",
       "\n",
       "| city &lt;int&gt; | datetime &lt;date&gt; | X &lt;dbl&gt; | speed &lt;dbl&gt; | energyConsumption &lt;dbl&gt; | trafficCongestion &lt;dbl&gt; | carCrash &lt;dbl&gt; | pedestrianDeath &lt;dbl&gt; |\n",
       "|---|---|---|---|---|---|---|---|\n",
       "| 6 | 2021-06-27 | 993 | 39.49601 | 8.564515 | 2.900902 | 0.002869132 | 0.0003985252 |\n",
       "| 6 | 2021-07-04 | 994 | 39.50567 | 8.566886 | 2.908578 | 0.002905690 | 0.0003830040 |\n",
       "| 6 | 2021-07-11 | 995 | 39.49917 | 8.564085 | 2.908300 | 0.002846685 | 0.0003995219 |\n",
       "| 6 | 2021-07-18 | 996 | 39.49093 | 8.565814 | 2.904893 | 0.002901073 | 0.0003745151 |\n",
       "| 6 | 2021-07-25 | 997 | 39.50651 | 8.568097 | 2.908806 | 0.002839312 | 0.0003864495 |\n",
       "| 6 | 2021-08-01 | 998 | 39.50009 | 8.568904 | 2.883870 | 0.003156162 | 0.0003468228 |\n",
       "\n"
      ],
      "text/plain": [
       "  city datetime   X   speed    energyConsumption trafficCongestion carCrash   \n",
       "1 6    2021-06-27 993 39.49601 8.564515          2.900902          0.002869132\n",
       "2 6    2021-07-04 994 39.50567 8.566886          2.908578          0.002905690\n",
       "3 6    2021-07-11 995 39.49917 8.564085          2.908300          0.002846685\n",
       "4 6    2021-07-18 996 39.49093 8.565814          2.904893          0.002901073\n",
       "5 6    2021-07-25 997 39.50651 8.568097          2.908806          0.002839312\n",
       "6 6    2021-08-01 998 39.50009 8.568904          2.883870          0.003156162\n",
       "  pedestrianDeath\n",
       "1 0.0003985252   \n",
       "2 0.0003830040   \n",
       "3 0.0003995219   \n",
       "4 0.0003745151   \n",
       "5 0.0003864495   \n",
       "6 0.0003468228   "
      ]
     },
     "metadata": {},
     "output_type": "display_data"
    }
   ],
   "source": [
    "# Drop unnecessary columns and group by city and week\n",
    "cities_df <- data %>%\n",
    "    select(-station, -weather, -dow, -hour, -vehicleType) %>%\n",
    "    group_by(city, datetime = floor_date(datetime, \"week\")) %>%\n",
    "    summarise(across(everything(), mean, na.rm = TRUE)) %>%\n",
    "    ungroup()\n",
    "\n",
    "tail(cities_df)"
   ]
  },
  {
   "cell_type": "code",
   "execution_count": null,
   "metadata": {
    "vscode": {
     "languageId": "r"
    }
   },
   "outputs": [
    {
     "data": {
      "image/png": "[encoded data removed]",
      "text/plain": [
       "plot without title"
      ]
     },
     "metadata": {
      "image/png": {
       "height": 420,
       "width": 420
      }
     },
     "output_type": "display_data"
    }
   ],
   "source": [
    "# Plotting weekly average speed by city\n",
    "ggplot(cities_df, aes(x = datetime, y = speed, color = as.factor(city))) +\n",
    "    geom_line(size = 1) +\n",
    "    labs(title = \"Weekly Average Speed by City\", x = \"Date\", y = \"Speed\", color = \"City\") +\n",
    "    theme_minimal() +\n",
    "    theme(axis.text.x = element_text(angle = 45, hjust = 1))"
   ]
  },
  {
   "cell_type": "code",
   "execution_count": null,
   "metadata": {
    "vscode": {
     "languageId": "r"
    }
   },
   "outputs": [
    {
     "data": {
      "image/png": "[encoded data removed]",
      "text/plain": [
       "plot without title"
      ]
     },
     "metadata": {
      "image/png": {
       "height": 420,
       "width": 420
      }
     },
     "output_type": "display_data"
    }
   ],
   "source": [
    "# Plotting weekly average car crashes by city\n",
    "ggplot(cities_df, aes(x = datetime, y = carCrash, color = as.factor(city))) +\n",
    "    geom_line(size = 1) +\n",
    "    labs(title = \"Weekly Average Car Crashes by City\", x = \"Date\", y = \"Car Crashes\", color = \"City\") +\n",
    "    theme_minimal() +\n",
    "    theme(axis.text.x = element_text(angle = 45, hjust = 1)) +\n",
    "    ylim(0.0005, 0.0035)"
   ]
  },
  {
   "cell_type": "code",
   "execution_count": null,
   "metadata": {
    "vscode": {
     "languageId": "r"
    }
   },
   "outputs": [
    {
     "data": {
      "image/png": "[encoded data removed]",
      "text/plain": [
       "plot without title"
      ]
     },
     "metadata": {
      "image/png": {
       "height": 420,
       "width": 420
      }
     },
     "output_type": "display_data"
    }
   ],
   "source": [
    "# Plotting weekly average pedestrian deaths by city\n",
    "ggplot(cities_df, aes(x = datetime, y = pedestrianDeath, color = as.factor(city))) +\n",
    "    geom_line(size = 1) +\n",
    "    labs(title = \"Weekly Average Pedestrian Deaths by City\", x = \"Date\", y = \"Pedestrian Deaths\", color = \"City\") +\n",
    "    theme_minimal() +\n",
    "    theme(axis.text.x = element_text(angle = 45, hjust = 1))\n"
   ]
  },
  {
   "cell_type": "code",
   "execution_count": null,
   "metadata": {
    "vscode": {
     "languageId": "r"
    }
   },
   "outputs": [
    {
     "data": {
      "image/png": "[encoded data removed]",
      "text/plain": [
       "plot without title"
      ]
     },
     "metadata": {
      "image/png": {
       "height": 420,
       "width": 420
      }
     },
     "output_type": "display_data"
    }
   ],
   "source": [
    "# TO DO: remove this, we don't need to talk about energy comsumption\n",
    "# Copy cities_df to energy_consumption_cities\n",
    "energy_consumption_cities <- cities_df\n",
    "\n",
    "# Plotting weekly average energy consumption by city\n",
    "ggplot(energy_consumption_cities, aes(x = datetime, y = energyConsumption, color = as.factor(city))) +\n",
    "    geom_line(size = 1) +\n",
    "    labs(title = \"Weekly Average Energy Consumption by City\", x = \"Date\", y = \"Energy Consumption\", color = \"City\") +\n",
    "    theme_minimal() +\n",
    "    theme(axis.text.x = element_text(angle = 45, hjust = 1))"
   ]
  },
  {
   "cell_type": "code",
   "execution_count": null,
   "metadata": {
    "vscode": {
     "languageId": "r"
    }
   },
   "outputs": [
    {
     "data": {
      "image/png": "[encoded data removed]",
      "text/plain": [
       "plot without title"
      ]
     },
     "metadata": {
      "image/png": {
       "height": 420,
       "width": 420
      }
     },
     "output_type": "display_data"
    }
   ],
   "source": [
    "# Plotting weekly average traffic congestion by city\n",
    "ggplot(cities_df, aes(x = datetime, y = trafficCongestion, color = as.factor(city))) +\n",
    "    geom_line(size = 1) +\n",
    "    labs(title = \"Weekly Average Traffic Congestion by City\", x = \"Date\", y = \"Traffic Congestion\", color = \"City\") +\n",
    "    theme_minimal() +\n",
    "    theme(axis.text.x = element_text(angle = 45, hjust = 1))"
   ]
  },
  {
   "cell_type": "markdown",
   "metadata": {},
   "source": [
    "We can conclude after see this different analysis, that the speed in city 1 as crashes and pedestrians deaths are lower than the other cities, after the policy was implemented, however the traffic congestion remains the same and the energy comsumption is higher than the other cities,\n",
    "\n",
    "Now we will see different plots to explore demographic data of the cities"
   ]
  },
  {
   "cell_type": "code",
   "execution_count": null,
   "metadata": {
    "vscode": {
     "languageId": "r"
    }
   },
   "outputs": [
    {
     "data": {
      "image/png": "[encoded data removed]",
      "text/plain": [
       "plot without title"
      ]
     },
     "metadata": {
      "image/png": {
       "height": 420,
       "width": 420
      }
     },
     "output_type": "display_data"
    }
   ],
   "source": [
    "# Sort city_info by population in ascending order\n",
    "city_info_sorted <- data_city[order(data_city$population), ]\n",
    "\n",
    "# Plotting\n",
    "ggplot(city_info_sorted, aes(x = reorder(city, population), y = population, fill = cityName)) +\n",
    "    geom_bar(stat = \"identity\") +\n",
    "    labs(title = \"Population of each city\", x = \"City\", y = \"Population\") +\n",
    "    theme_minimal() +\n",
    "    theme(axis.text.x = element_text(angle = 45, hjust = 1)) +\n",
    "    guides(fill = guide_legend(title = \"City Name\"))"
   ]
  },
  {
   "cell_type": "code",
   "execution_count": null,
   "metadata": {
    "vscode": {
     "languageId": "r"
    }
   },
   "outputs": [
    {
     "data": {
      "image/png": "[encoded data removed]",
      "text/plain": [
       "plot without title"
      ]
     },
     "metadata": {
      "image/png": {
       "height": 420,
       "width": 420
      }
     },
     "output_type": "display_data"
    }
   ],
   "source": [
    "# Sort city_info by size in ascending order\n",
    "city_info_sorted <- data_city[order(data_city$size), ]\n",
    "\n",
    "# Plotting\n",
    "ggplot(city_info_sorted, aes(x = reorder(city, size), y = size, fill = cityName)) +\n",
    "    geom_bar(stat = \"identity\") +\n",
    "    labs(title = \"Size of each city\", x = \"City\", y = \"Size\") +\n",
    "    theme_minimal() +\n",
    "    theme(axis.text.x = element_text(angle = 45, hjust = 1)) +\n",
    "    guides(fill = guide_legend(title = \"City Name\"))"
   ]
  },
  {
   "cell_type": "code",
   "execution_count": null,
   "metadata": {
    "vscode": {
     "languageId": "r"
    }
   },
   "outputs": [
    {
     "data": {
      "image/png": "[encoded data removed]",
      "text/plain": [
       "plot without title"
      ]
     },
     "metadata": {
      "image/png": {
       "height": 420,
       "width": 420
      }
     },
     "output_type": "display_data"
    }
   ],
   "source": [
    "# Sort city_info by population density in ascending order\n",
    "city_info_sorted <- data_city[order(data_city$popDensity), ]\n",
    "\n",
    "# Plotting\n",
    "ggplot(city_info_sorted, aes(x = reorder(city, popDensity), y = popDensity, fill = cityName)) +\n",
    "    geom_bar(stat = \"identity\") +\n",
    "    labs(title = \"Population Density of each city\", x = \"City\", y = \"Population Density\") +\n",
    "    theme_minimal() +\n",
    "    theme(axis.text.x = element_text(angle = 45, hjust = 1)) +\n",
    "    guides(fill = guide_legend(title = \"City Name\"))"
   ]
  },
  {
   "cell_type": "code",
   "execution_count": null,
   "metadata": {
    "vscode": {
     "languageId": "r"
    }
   },
   "outputs": [
    {
     "data": {
      "text/html": [
       "<table class=\"dataframe\">\n",
       "<caption>A data.frame: 6 × 5</caption>\n",
       "<thead>\n",
       "\t<tr><th scope=col>city</th><th scope=col>size</th><th scope=col>population</th><th scope=col>popDensity</th><th scope=col>cityName</th></tr>\n",
       "\t<tr><th scope=col>&lt;int&gt;</th><th scope=col>&lt;int&gt;</th><th scope=col>&lt;int&gt;</th><th scope=col>&lt;dbl&gt;</th><th scope=col>&lt;chr&gt;</th></tr>\n",
       "</thead>\n",
       "<tbody>\n",
       "\t<tr><td>1</td><td>192</td><td>379909</td><td>1978.6927</td><td>Azzurropoli</td></tr>\n",
       "\t<tr><td>2</td><td> 91</td><td>453991</td><td>4988.9121</td><td>Biancavilla</td></tr>\n",
       "\t<tr><td>3</td><td>363</td><td>271008</td><td> 746.5785</td><td>Lavandonia </td></tr>\n",
       "\t<tr><td>4</td><td>454</td><td>152110</td><td> 335.0441</td><td>Celestopoli</td></tr>\n",
       "\t<tr><td>5</td><td>394</td><td> 52620</td><td> 133.5533</td><td>Plumbeopoli</td></tr>\n",
       "\t<tr><td>6</td><td>183</td><td>303659</td><td>1659.3388</td><td>Aranciopoli</td></tr>\n",
       "</tbody>\n",
       "</table>\n"
      ],
      "text/latex": [
       "A data.frame: 6 × 5\n",
       "\\begin{tabular}{lllll}\n",
       " city & size & population & popDensity & cityName\\\\\n",
       " <int> & <int> & <int> & <dbl> & <chr>\\\\\n",
       "\\hline\n",
       "\t 1 & 192 & 379909 & 1978.6927 & Azzurropoli\\\\\n",
       "\t 2 &  91 & 453991 & 4988.9121 & Biancavilla\\\\\n",
       "\t 3 & 363 & 271008 &  746.5785 & Lavandonia \\\\\n",
       "\t 4 & 454 & 152110 &  335.0441 & Celestopoli\\\\\n",
       "\t 5 & 394 &  52620 &  133.5533 & Plumbeopoli\\\\\n",
       "\t 6 & 183 & 303659 & 1659.3388 & Aranciopoli\\\\\n",
       "\\end{tabular}\n"
      ],
      "text/markdown": [
       "\n",
       "A data.frame: 6 × 5\n",
       "\n",
       "| city &lt;int&gt; | size &lt;int&gt; | population &lt;int&gt; | popDensity &lt;dbl&gt; | cityName &lt;chr&gt; |\n",
       "|---|---|---|---|---|\n",
       "| 1 | 192 | 379909 | 1978.6927 | Azzurropoli |\n",
       "| 2 |  91 | 453991 | 4988.9121 | Biancavilla |\n",
       "| 3 | 363 | 271008 |  746.5785 | Lavandonia  |\n",
       "| 4 | 454 | 152110 |  335.0441 | Celestopoli |\n",
       "| 5 | 394 |  52620 |  133.5533 | Plumbeopoli |\n",
       "| 6 | 183 | 303659 | 1659.3388 | Aranciopoli |\n",
       "\n"
      ],
      "text/plain": [
       "  city size population popDensity cityName   \n",
       "1 1    192  379909     1978.6927  Azzurropoli\n",
       "2 2     91  453991     4988.9121  Biancavilla\n",
       "3 3    363  271008      746.5785  Lavandonia \n",
       "4 4    454  152110      335.0441  Celestopoli\n",
       "5 5    394   52620      133.5533  Plumbeopoli\n",
       "6 6    183  303659     1659.3388  Aranciopoli"
      ]
     },
     "metadata": {},
     "output_type": "display_data"
    }
   ],
   "source": [
    "data_city"
   ]
  },
  {
   "cell_type": "markdown",
   "metadata": {},
   "source": [
    "## OLS regression"
   ]
  },
  {
   "cell_type": "code",
   "execution_count": null,
   "metadata": {
    "vscode": {
     "languageId": "r"
    }
   },
   "outputs": [
    {
     "data": {
      "text/html": [
       "<table class=\"dataframe\">\n",
       "<caption>A tibble: 6 × 6</caption>\n",
       "<thead>\n",
       "\t<tr><th scope=col>day</th><th scope=col>speed</th><th scope=col>energyConsumption</th><th scope=col>trafficCongestion</th><th scope=col>carCrash</th><th scope=col>pedestrianDeath</th></tr>\n",
       "\t<tr><th scope=col>&lt;date&gt;</th><th scope=col>&lt;dbl&gt;</th><th scope=col>&lt;dbl&gt;</th><th scope=col>&lt;dbl&gt;</th><th scope=col>&lt;dbl&gt;</th><th scope=col>&lt;dbl&gt;</th></tr>\n",
       "</thead>\n",
       "<tbody>\n",
       "\t<tr><td>2021-04-04</td><td>39.49565</td><td>8.564762</td><td>2.956967</td><td>0.003099027</td><td>0.0004363516</td></tr>\n",
       "\t<tr><td>2021-04-11</td><td>39.50350</td><td>8.564177</td><td>2.943202</td><td>0.002722179</td><td>0.0003826372</td></tr>\n",
       "\t<tr><td>2021-04-18</td><td>39.50024</td><td>8.565117</td><td>2.944780</td><td>0.002888727</td><td>0.0003713815</td></tr>\n",
       "\t<tr><td>2021-04-25</td><td>39.48875</td><td>8.565089</td><td>2.946277</td><td>0.003013725</td><td>0.0004002502</td></tr>\n",
       "\t<tr><td>2021-05-02</td><td>39.49929</td><td>8.568149</td><td>2.942664</td><td>0.002857529</td><td>0.0003822053</td></tr>\n",
       "\t<tr><td>2021-05-09</td><td>39.49845</td><td>8.567752</td><td>2.943864</td><td>0.002966018</td><td>0.0003504125</td></tr>\n",
       "</tbody>\n",
       "</table>\n"
      ],
      "text/latex": [
       "A tibble: 6 × 6\n",
       "\\begin{tabular}{llllll}\n",
       " day & speed & energyConsumption & trafficCongestion & carCrash & pedestrianDeath\\\\\n",
       " <date> & <dbl> & <dbl> & <dbl> & <dbl> & <dbl>\\\\\n",
       "\\hline\n",
       "\t 2021-04-04 & 39.49565 & 8.564762 & 2.956967 & 0.003099027 & 0.0004363516\\\\\n",
       "\t 2021-04-11 & 39.50350 & 8.564177 & 2.943202 & 0.002722179 & 0.0003826372\\\\\n",
       "\t 2021-04-18 & 39.50024 & 8.565117 & 2.944780 & 0.002888727 & 0.0003713815\\\\\n",
       "\t 2021-04-25 & 39.48875 & 8.565089 & 2.946277 & 0.003013725 & 0.0004002502\\\\\n",
       "\t 2021-05-02 & 39.49929 & 8.568149 & 2.942664 & 0.002857529 & 0.0003822053\\\\\n",
       "\t 2021-05-09 & 39.49845 & 8.567752 & 2.943864 & 0.002966018 & 0.0003504125\\\\\n",
       "\\end{tabular}\n"
      ],
      "text/markdown": [
       "\n",
       "A tibble: 6 × 6\n",
       "\n",
       "| day &lt;date&gt; | speed &lt;dbl&gt; | energyConsumption &lt;dbl&gt; | trafficCongestion &lt;dbl&gt; | carCrash &lt;dbl&gt; | pedestrianDeath &lt;dbl&gt; |\n",
       "|---|---|---|---|---|---|\n",
       "| 2021-04-04 | 39.49565 | 8.564762 | 2.956967 | 0.003099027 | 0.0004363516 |\n",
       "| 2021-04-11 | 39.50350 | 8.564177 | 2.943202 | 0.002722179 | 0.0003826372 |\n",
       "| 2021-04-18 | 39.50024 | 8.565117 | 2.944780 | 0.002888727 | 0.0003713815 |\n",
       "| 2021-04-25 | 39.48875 | 8.565089 | 2.946277 | 0.003013725 | 0.0004002502 |\n",
       "| 2021-05-02 | 39.49929 | 8.568149 | 2.942664 | 0.002857529 | 0.0003822053 |\n",
       "| 2021-05-09 | 39.49845 | 8.567752 | 2.943864 | 0.002966018 | 0.0003504125 |\n",
       "\n"
      ],
      "text/plain": [
       "  day        speed    energyConsumption trafficCongestion carCrash   \n",
       "1 2021-04-04 39.49565 8.564762          2.956967          0.003099027\n",
       "2 2021-04-11 39.50350 8.564177          2.943202          0.002722179\n",
       "3 2021-04-18 39.50024 8.565117          2.944780          0.002888727\n",
       "4 2021-04-25 39.48875 8.565089          2.946277          0.003013725\n",
       "5 2021-05-02 39.49929 8.568149          2.942664          0.002857529\n",
       "6 2021-05-09 39.49845 8.567752          2.943864          0.002966018\n",
       "  pedestrianDeath\n",
       "1 0.0004363516   \n",
       "2 0.0003826372   \n",
       "3 0.0003713815   \n",
       "4 0.0004002502   \n",
       "5 0.0003822053   \n",
       "6 0.0003504125   "
      ]
     },
     "metadata": {},
     "output_type": "display_data"
    }
   ],
   "source": [
    "head(data_grouped_1)"
   ]
  },
  {
   "cell_type": "code",
   "execution_count": null,
   "metadata": {
    "vscode": {
     "languageId": "r"
    }
   },
   "outputs": [
    {
     "data": {
      "text/html": [
       "<table class=\"dataframe\">\n",
       "<caption>A grouped_df: 6 × 7</caption>\n",
       "<thead>\n",
       "\t<tr><th scope=col>station</th><th scope=col>datetime</th><th scope=col>speed</th><th scope=col>energyConsumption</th><th scope=col>trafficCongestion</th><th scope=col>carCrash</th><th scope=col>pedestrianDeath</th></tr>\n",
       "\t<tr><th scope=col>&lt;int&gt;</th><th scope=col>&lt;date&gt;</th><th scope=col>&lt;dbl&gt;</th><th scope=col>&lt;dbl&gt;</th><th scope=col>&lt;dbl&gt;</th><th scope=col>&lt;dbl&gt;</th><th scope=col>&lt;dbl&gt;</th></tr>\n",
       "</thead>\n",
       "<tbody>\n",
       "\t<tr><td>1</td><td>2021-04-04</td><td>39.47956</td><td>8.575182</td><td>2.914455</td><td>0.002747599</td><td>0.0005578949</td></tr>\n",
       "\t<tr><td>1</td><td>2021-04-11</td><td>39.48773</td><td>8.556106</td><td>2.912705</td><td>0.002922490</td><td>0.0003815325</td></tr>\n",
       "\t<tr><td>1</td><td>2021-04-18</td><td>39.48011</td><td>8.567174</td><td>2.921677</td><td>0.002924062</td><td>0.0003472835</td></tr>\n",
       "\t<tr><td>1</td><td>2021-04-25</td><td>39.45676</td><td>8.577785</td><td>2.901808</td><td>0.002909320</td><td>0.0002785515</td></tr>\n",
       "\t<tr><td>1</td><td>2021-05-02</td><td>39.51588</td><td>8.564596</td><td>2.906201</td><td>0.002893206</td><td>0.0003789540</td></tr>\n",
       "\t<tr><td>1</td><td>2021-05-09</td><td>39.49568</td><td>8.578202</td><td>2.908553</td><td>0.002644048</td><td>0.0002253562</td></tr>\n",
       "</tbody>\n",
       "</table>\n"
      ],
      "text/latex": [
       "A grouped\\_df: 6 × 7\n",
       "\\begin{tabular}{lllllll}\n",
       " station & datetime & speed & energyConsumption & trafficCongestion & carCrash & pedestrianDeath\\\\\n",
       " <int> & <date> & <dbl> & <dbl> & <dbl> & <dbl> & <dbl>\\\\\n",
       "\\hline\n",
       "\t 1 & 2021-04-04 & 39.47956 & 8.575182 & 2.914455 & 0.002747599 & 0.0005578949\\\\\n",
       "\t 1 & 2021-04-11 & 39.48773 & 8.556106 & 2.912705 & 0.002922490 & 0.0003815325\\\\\n",
       "\t 1 & 2021-04-18 & 39.48011 & 8.567174 & 2.921677 & 0.002924062 & 0.0003472835\\\\\n",
       "\t 1 & 2021-04-25 & 39.45676 & 8.577785 & 2.901808 & 0.002909320 & 0.0002785515\\\\\n",
       "\t 1 & 2021-05-02 & 39.51588 & 8.564596 & 2.906201 & 0.002893206 & 0.0003789540\\\\\n",
       "\t 1 & 2021-05-09 & 39.49568 & 8.578202 & 2.908553 & 0.002644048 & 0.0002253562\\\\\n",
       "\\end{tabular}\n"
      ],
      "text/markdown": [
       "\n",
       "A grouped_df: 6 × 7\n",
       "\n",
       "| station &lt;int&gt; | datetime &lt;date&gt; | speed &lt;dbl&gt; | energyConsumption &lt;dbl&gt; | trafficCongestion &lt;dbl&gt; | carCrash &lt;dbl&gt; | pedestrianDeath &lt;dbl&gt; |\n",
       "|---|---|---|---|---|---|---|\n",
       "| 1 | 2021-04-04 | 39.47956 | 8.575182 | 2.914455 | 0.002747599 | 0.0005578949 |\n",
       "| 1 | 2021-04-11 | 39.48773 | 8.556106 | 2.912705 | 0.002922490 | 0.0003815325 |\n",
       "| 1 | 2021-04-18 | 39.48011 | 8.567174 | 2.921677 | 0.002924062 | 0.0003472835 |\n",
       "| 1 | 2021-04-25 | 39.45676 | 8.577785 | 2.901808 | 0.002909320 | 0.0002785515 |\n",
       "| 1 | 2021-05-02 | 39.51588 | 8.564596 | 2.906201 | 0.002893206 | 0.0003789540 |\n",
       "| 1 | 2021-05-09 | 39.49568 | 8.578202 | 2.908553 | 0.002644048 | 0.0002253562 |\n",
       "\n"
      ],
      "text/plain": [
       "  station datetime   speed    energyConsumption trafficCongestion carCrash   \n",
       "1 1       2021-04-04 39.47956 8.575182          2.914455          0.002747599\n",
       "2 1       2021-04-11 39.48773 8.556106          2.912705          0.002922490\n",
       "3 1       2021-04-18 39.48011 8.567174          2.921677          0.002924062\n",
       "4 1       2021-04-25 39.45676 8.577785          2.901808          0.002909320\n",
       "5 1       2021-05-02 39.51588 8.564596          2.906201          0.002893206\n",
       "6 1       2021-05-09 39.49568 8.578202          2.908553          0.002644048\n",
       "  pedestrianDeath\n",
       "1 0.0005578949   \n",
       "2 0.0003815325   \n",
       "3 0.0003472835   \n",
       "4 0.0002785515   \n",
       "5 0.0003789540   \n",
       "6 0.0002253562   "
      ]
     },
     "metadata": {},
     "output_type": "display_data"
    }
   ],
   "source": [
    "head(stations_city_1_mean)"
   ]
  },
  {
   "cell_type": "code",
   "execution_count": null,
   "metadata": {
    "vscode": {
     "languageId": "r"
    }
   },
   "outputs": [
    {
     "data": {
      "text/html": [
       "<table class=\"dataframe\">\n",
       "<caption>A grouped_df: 6 × 7</caption>\n",
       "<thead>\n",
       "\t<tr><th scope=col>station</th><th scope=col>datetime</th><th scope=col>speed</th><th scope=col>energyConsumption</th><th scope=col>trafficCongestion</th><th scope=col>carCrash</th><th scope=col>pedestrianDeath</th></tr>\n",
       "\t<tr><th scope=col>&lt;int&gt;</th><th scope=col>&lt;date&gt;</th><th scope=col>&lt;dbl&gt;</th><th scope=col>&lt;dbl&gt;</th><th scope=col>&lt;dbl&gt;</th><th scope=col>&lt;dbl&gt;</th><th scope=col>&lt;dbl&gt;</th></tr>\n",
       "</thead>\n",
       "<tbody>\n",
       "\t<tr><td>4</td><td>2021-04-04</td><td>39.48967</td><td>8.565780</td><td>2.974076</td><td>0.003235741</td><td>0.0004213674</td></tr>\n",
       "\t<tr><td>4</td><td>2021-04-11</td><td>39.47880</td><td>8.574798</td><td>2.971035</td><td>0.002565635</td><td>0.0003973302</td></tr>\n",
       "\t<tr><td>4</td><td>2021-04-18</td><td>39.50543</td><td>8.563384</td><td>2.966983</td><td>0.002858637</td><td>0.0003001590</td></tr>\n",
       "\t<tr><td>4</td><td>2021-04-25</td><td>39.53006</td><td>8.558057</td><td>2.971815</td><td>0.002968480</td><td>0.0003957429</td></tr>\n",
       "\t<tr><td>4</td><td>2021-05-02</td><td>39.45286</td><td>8.571469</td><td>2.949179</td><td>0.002778260</td><td>0.0003600140</td></tr>\n",
       "\t<tr><td>4</td><td>2021-05-09</td><td>39.51006</td><td>8.566033</td><td>2.965301</td><td>0.003110384</td><td>0.0004219857</td></tr>\n",
       "</tbody>\n",
       "</table>\n"
      ],
      "text/latex": [
       "A grouped\\_df: 6 × 7\n",
       "\\begin{tabular}{lllllll}\n",
       " station & datetime & speed & energyConsumption & trafficCongestion & carCrash & pedestrianDeath\\\\\n",
       " <int> & <date> & <dbl> & <dbl> & <dbl> & <dbl> & <dbl>\\\\\n",
       "\\hline\n",
       "\t 4 & 2021-04-04 & 39.48967 & 8.565780 & 2.974076 & 0.003235741 & 0.0004213674\\\\\n",
       "\t 4 & 2021-04-11 & 39.47880 & 8.574798 & 2.971035 & 0.002565635 & 0.0003973302\\\\\n",
       "\t 4 & 2021-04-18 & 39.50543 & 8.563384 & 2.966983 & 0.002858637 & 0.0003001590\\\\\n",
       "\t 4 & 2021-04-25 & 39.53006 & 8.558057 & 2.971815 & 0.002968480 & 0.0003957429\\\\\n",
       "\t 4 & 2021-05-02 & 39.45286 & 8.571469 & 2.949179 & 0.002778260 & 0.0003600140\\\\\n",
       "\t 4 & 2021-05-09 & 39.51006 & 8.566033 & 2.965301 & 0.003110384 & 0.0004219857\\\\\n",
       "\\end{tabular}\n"
      ],
      "text/markdown": [
       "\n",
       "A grouped_df: 6 × 7\n",
       "\n",
       "| station &lt;int&gt; | datetime &lt;date&gt; | speed &lt;dbl&gt; | energyConsumption &lt;dbl&gt; | trafficCongestion &lt;dbl&gt; | carCrash &lt;dbl&gt; | pedestrianDeath &lt;dbl&gt; |\n",
       "|---|---|---|---|---|---|---|\n",
       "| 4 | 2021-04-04 | 39.48967 | 8.565780 | 2.974076 | 0.003235741 | 0.0004213674 |\n",
       "| 4 | 2021-04-11 | 39.47880 | 8.574798 | 2.971035 | 0.002565635 | 0.0003973302 |\n",
       "| 4 | 2021-04-18 | 39.50543 | 8.563384 | 2.966983 | 0.002858637 | 0.0003001590 |\n",
       "| 4 | 2021-04-25 | 39.53006 | 8.558057 | 2.971815 | 0.002968480 | 0.0003957429 |\n",
       "| 4 | 2021-05-02 | 39.45286 | 8.571469 | 2.949179 | 0.002778260 | 0.0003600140 |\n",
       "| 4 | 2021-05-09 | 39.51006 | 8.566033 | 2.965301 | 0.003110384 | 0.0004219857 |\n",
       "\n"
      ],
      "text/plain": [
       "  station datetime   speed    energyConsumption trafficCongestion carCrash   \n",
       "1 4       2021-04-04 39.48967 8.565780          2.974076          0.003235741\n",
       "2 4       2021-04-11 39.47880 8.574798          2.971035          0.002565635\n",
       "3 4       2021-04-18 39.50543 8.563384          2.966983          0.002858637\n",
       "4 4       2021-04-25 39.53006 8.558057          2.971815          0.002968480\n",
       "5 4       2021-05-02 39.45286 8.571469          2.949179          0.002778260\n",
       "6 4       2021-05-09 39.51006 8.566033          2.965301          0.003110384\n",
       "  pedestrianDeath\n",
       "1 0.0004213674   \n",
       "2 0.0003973302   \n",
       "3 0.0003001590   \n",
       "4 0.0003957429   \n",
       "5 0.0003600140   \n",
       "6 0.0004219857   "
      ]
     },
     "metadata": {},
     "output_type": "display_data"
    }
   ],
   "source": [
    "#No change stations 4 and 7\n",
    "unchaged_stations_city_1 <- stations_city_1_mean %>%\n",
    "    filter(station == 4 | station == 7) %>%\n",
    "    select(station, datetime, speed, energyConsumption, trafficCongestion, carCrash, pedestrianDeath)\n",
    "\n",
    "head(unchaged_stations_city_1)"
   ]
  },
  {
   "cell_type": "code",
   "execution_count": null,
   "metadata": {
    "vscode": {
     "languageId": "r"
    }
   },
   "outputs": [
    {
     "data": {
      "text/html": [
       "<table class=\"dataframe\">\n",
       "<caption>A grouped_df: 6 × 7</caption>\n",
       "<thead>\n",
       "\t<tr><th scope=col>station</th><th scope=col>datetime</th><th scope=col>speed</th><th scope=col>energyConsumption</th><th scope=col>trafficCongestion</th><th scope=col>carCrash</th><th scope=col>pedestrianDeath</th></tr>\n",
       "\t<tr><th scope=col>&lt;int&gt;</th><th scope=col>&lt;date&gt;</th><th scope=col>&lt;dbl&gt;</th><th scope=col>&lt;dbl&gt;</th><th scope=col>&lt;dbl&gt;</th><th scope=col>&lt;dbl&gt;</th><th scope=col>&lt;dbl&gt;</th></tr>\n",
       "</thead>\n",
       "<tbody>\n",
       "\t<tr><td>1</td><td>2021-04-04</td><td>39.47956</td><td>8.575182</td><td>2.914455</td><td>0.002747599</td><td>0.0005578949</td></tr>\n",
       "\t<tr><td>1</td><td>2021-04-11</td><td>39.48773</td><td>8.556106</td><td>2.912705</td><td>0.002922490</td><td>0.0003815325</td></tr>\n",
       "\t<tr><td>1</td><td>2021-04-18</td><td>39.48011</td><td>8.567174</td><td>2.921677</td><td>0.002924062</td><td>0.0003472835</td></tr>\n",
       "\t<tr><td>1</td><td>2021-04-25</td><td>39.45676</td><td>8.577785</td><td>2.901808</td><td>0.002909320</td><td>0.0002785515</td></tr>\n",
       "\t<tr><td>1</td><td>2021-05-02</td><td>39.51588</td><td>8.564596</td><td>2.906201</td><td>0.002893206</td><td>0.0003789540</td></tr>\n",
       "\t<tr><td>1</td><td>2021-05-09</td><td>39.49568</td><td>8.578202</td><td>2.908553</td><td>0.002644048</td><td>0.0002253562</td></tr>\n",
       "</tbody>\n",
       "</table>\n"
      ],
      "text/latex": [
       "A grouped\\_df: 6 × 7\n",
       "\\begin{tabular}{lllllll}\n",
       " station & datetime & speed & energyConsumption & trafficCongestion & carCrash & pedestrianDeath\\\\\n",
       " <int> & <date> & <dbl> & <dbl> & <dbl> & <dbl> & <dbl>\\\\\n",
       "\\hline\n",
       "\t 1 & 2021-04-04 & 39.47956 & 8.575182 & 2.914455 & 0.002747599 & 0.0005578949\\\\\n",
       "\t 1 & 2021-04-11 & 39.48773 & 8.556106 & 2.912705 & 0.002922490 & 0.0003815325\\\\\n",
       "\t 1 & 2021-04-18 & 39.48011 & 8.567174 & 2.921677 & 0.002924062 & 0.0003472835\\\\\n",
       "\t 1 & 2021-04-25 & 39.45676 & 8.577785 & 2.901808 & 0.002909320 & 0.0002785515\\\\\n",
       "\t 1 & 2021-05-02 & 39.51588 & 8.564596 & 2.906201 & 0.002893206 & 0.0003789540\\\\\n",
       "\t 1 & 2021-05-09 & 39.49568 & 8.578202 & 2.908553 & 0.002644048 & 0.0002253562\\\\\n",
       "\\end{tabular}\n"
      ],
      "text/markdown": [
       "\n",
       "A grouped_df: 6 × 7\n",
       "\n",
       "| station &lt;int&gt; | datetime &lt;date&gt; | speed &lt;dbl&gt; | energyConsumption &lt;dbl&gt; | trafficCongestion &lt;dbl&gt; | carCrash &lt;dbl&gt; | pedestrianDeath &lt;dbl&gt; |\n",
       "|---|---|---|---|---|---|---|\n",
       "| 1 | 2021-04-04 | 39.47956 | 8.575182 | 2.914455 | 0.002747599 | 0.0005578949 |\n",
       "| 1 | 2021-04-11 | 39.48773 | 8.556106 | 2.912705 | 0.002922490 | 0.0003815325 |\n",
       "| 1 | 2021-04-18 | 39.48011 | 8.567174 | 2.921677 | 0.002924062 | 0.0003472835 |\n",
       "| 1 | 2021-04-25 | 39.45676 | 8.577785 | 2.901808 | 0.002909320 | 0.0002785515 |\n",
       "| 1 | 2021-05-02 | 39.51588 | 8.564596 | 2.906201 | 0.002893206 | 0.0003789540 |\n",
       "| 1 | 2021-05-09 | 39.49568 | 8.578202 | 2.908553 | 0.002644048 | 0.0002253562 |\n",
       "\n"
      ],
      "text/plain": [
       "  station datetime   speed    energyConsumption trafficCongestion carCrash   \n",
       "1 1       2021-04-04 39.47956 8.575182          2.914455          0.002747599\n",
       "2 1       2021-04-11 39.48773 8.556106          2.912705          0.002922490\n",
       "3 1       2021-04-18 39.48011 8.567174          2.921677          0.002924062\n",
       "4 1       2021-04-25 39.45676 8.577785          2.901808          0.002909320\n",
       "5 1       2021-05-02 39.51588 8.564596          2.906201          0.002893206\n",
       "6 1       2021-05-09 39.49568 8.578202          2.908553          0.002644048\n",
       "  pedestrianDeath\n",
       "1 0.0005578949   \n",
       "2 0.0003815325   \n",
       "3 0.0003472835   \n",
       "4 0.0002785515   \n",
       "5 0.0003789540   \n",
       "6 0.0002253562   "
      ]
     },
     "metadata": {},
     "output_type": "display_data"
    }
   ],
   "source": [
    "#Change stations 1, 2, 3, 5, 6, 8, 9, 10\n",
    "changed_stations_city_1 <- stations_city_1_mean %>%\n",
    "    filter(station == 1 | station == 2 | station == 3 | station == 5 | station == 6 | station == 8 | station == 9 | station == 10) %>%\n",
    "    select(station, datetime, speed, energyConsumption, trafficCongestion, carCrash, pedestrianDeath)\n",
    "\n",
    "head(changed_stations_city_1)\n"
   ]
  },
  {
   "cell_type": "code",
   "execution_count": null,
   "metadata": {
    "vscode": {
     "languageId": "r"
    }
   },
   "outputs": [
    {
     "data": {
      "text/plain": [
       "\n",
       "Call:\n",
       "lm(formula = pedestrianDeath ~ speed + energyConsumption + trafficCongestion + \n",
       "    carCrash, data = unchaged_stations_city_1)\n",
       "\n",
       "Residuals:\n",
       "       Min         1Q     Median         3Q        Max \n",
       "-1.374e-04 -5.581e-05 -6.250e-06  3.218e-05  3.326e-04 \n",
       "\n",
       "Coefficients:\n",
       "                    Estimate Std. Error t value Pr(>|t|)  \n",
       "(Intercept)        1.622e-04  4.882e-02   0.003   0.9974  \n",
       "speed              8.222e-05  8.931e-04   0.092   0.9272  \n",
       "energyConsumption -7.510e-04  2.523e-03  -0.298   0.7679  \n",
       "trafficCongestion  1.183e-03  6.154e-04   1.923   0.0638 .\n",
       "carCrash          -1.819e-02  7.829e-02  -0.232   0.8178  \n",
       "---\n",
       "Signif. codes:  0 '***' 0.001 '**' 0.01 '*' 0.05 '.' 0.1 ' ' 1\n",
       "\n",
       "Residual standard error: 0.0001037 on 31 degrees of freedom\n",
       "Multiple R-squared:  0.1206,\tAdjusted R-squared:  0.007172 \n",
       "F-statistic: 1.063 on 4 and 31 DF,  p-value: 0.3913\n"
      ]
     },
     "metadata": {},
     "output_type": "display_data"
    }
   ],
   "source": [
    "# OLS regression for unchanged stations\n",
    "\n",
    "# pedestrianDeath vs other variables\n",
    "model_unchanged_stations_city_1 <- lm(pedestrianDeath ~ speed + energyConsumption + trafficCongestion + carCrash, data = unchaged_stations_city_1)\n",
    "\n",
    "summary(model_unchanged_stations_city_1)"
   ]
  },
  {
   "cell_type": "code",
   "execution_count": null,
   "metadata": {
    "vscode": {
     "languageId": "r"
    }
   },
   "outputs": [
    {
     "name": "stderr",
     "output_type": "stream",
     "text": [
      "\u001b[1m\u001b[22m`geom_smooth()` using formula = 'y ~ x'\n",
      "\u001b[1m\u001b[22m`geom_smooth()` using formula = 'y ~ x'\n",
      "\u001b[1m\u001b[22m`geom_smooth()` using formula = 'y ~ x'\n",
      "\u001b[1m\u001b[22m`geom_smooth()` using formula = 'y ~ x'\n"
     ]
    },
    {
     "data": {
      "image/png": "[encoded data removed]",
      "text/plain": [
       "plot without title"
      ]
     },
     "metadata": {
      "image/png": {
       "height": 420,
       "width": 420
      }
     },
     "output_type": "display_data"
    }
   ],
   "source": [
    "# Plotting\n",
    "p1 <- ggplot(unchaged_stations_city_1, aes(x = speed, y = pedestrianDeath)) +\n",
    "    geom_point() +\n",
    "    geom_smooth(method = \"lm\", se = FALSE) +\n",
    "    labs(title = \"Pedestrian Deaths vs Speed\", x = \"Speed\", y = \"Pedestrian Deaths\") +\n",
    "    theme_minimal()\n",
    "\n",
    "p2 <- ggplot(unchaged_stations_city_1, aes(x = energyConsumption, y = pedestrianDeath)) +\n",
    "    geom_point() +\n",
    "    geom_smooth(method = \"lm\", se = FALSE) +\n",
    "    labs(title = \"Pedestrian Deaths vs Energy Consumption\", x = \"Energy Consumption\", y = \"Pedestrian Deaths\") +\n",
    "    theme_minimal()\n",
    "\n",
    "p3 <- ggplot(unchaged_stations_city_1, aes(x = trafficCongestion, y = pedestrianDeath)) +\n",
    "    geom_point() +\n",
    "    geom_smooth(method = \"lm\", se = FALSE) +\n",
    "    labs(title = \"Pedestrian Deaths vs Traffic Congestion\", x = \"Traffic Congestion\", y = \"Pedestrian Deaths\") +\n",
    "    theme_minimal()\n",
    "\n",
    "p4 <- ggplot(unchaged_stations_city_1, aes(x = carCrash, y = pedestrianDeath)) +\n",
    "    geom_point() +\n",
    "    geom_smooth(method = \"lm\", se = FALSE) +\n",
    "    labs(title = \"Pedestrian Deaths vs Car Crashes\", x = \"Car Crashes\", y = \"Pedestrian Deaths\") +\n",
    "    theme_minimal()\n",
    "\n",
    "grid.arrange(p1, p2, p3, p4, ncol = 2, nrow = 2)\n"
   ]
  },
  {
   "cell_type": "code",
   "execution_count": null,
   "metadata": {
    "vscode": {
     "languageId": "r"
    }
   },
   "outputs": [
    {
     "data": {
      "text/plain": [
       "\n",
       "Call:\n",
       "lm(formula = carCrash ~ speed + energyConsumption + trafficCongestion + \n",
       "    pedestrianDeath, data = unchaged_stations_city_1)\n",
       "\n",
       "Residuals:\n",
       "       Min         1Q     Median         3Q        Max \n",
       "-4.636e-04 -1.376e-04 -8.710e-06  1.486e-04  4.178e-04 \n",
       "\n",
       "Coefficients:\n",
       "                    Estimate Std. Error t value Pr(>|t|)\n",
       "(Intercept)       -0.0800202  0.1109831  -0.721    0.476\n",
       "speed              0.0015745  0.0020278   0.776    0.443\n",
       "energyConsumption  0.0020924  0.0057785   0.362    0.720\n",
       "trafficCongestion  0.0009629  0.0014822   0.650    0.521\n",
       "pedestrianDeath   -0.0955692  0.4113081  -0.232    0.818\n",
       "\n",
       "Residual standard error: 0.0002376 on 31 degrees of freedom\n",
       "Multiple R-squared:  0.02452,\tAdjusted R-squared:  -0.1014 \n",
       "F-statistic: 0.1948 on 4 and 31 DF,  p-value: 0.9393\n"
      ]
     },
     "metadata": {},
     "output_type": "display_data"
    }
   ],
   "source": [
    "# carCrash vs other variables\n",
    "model_unchanged_stations_city_1 <- lm(carCrash ~ speed + energyConsumption + trafficCongestion + pedestrianDeath, data = unchaged_stations_city_1)\n",
    "\n",
    "summary(model_unchanged_stations_city_1)"
   ]
  },
  {
   "cell_type": "code",
   "execution_count": null,
   "metadata": {
    "vscode": {
     "languageId": "r"
    }
   },
   "outputs": [
    {
     "name": "stderr",
     "output_type": "stream",
     "text": [
      "\u001b[1m\u001b[22m`geom_smooth()` using formula = 'y ~ x'\n",
      "\u001b[1m\u001b[22m`geom_smooth()` using formula = 'y ~ x'\n",
      "\u001b[1m\u001b[22m`geom_smooth()` using formula = 'y ~ x'\n",
      "\u001b[1m\u001b[22m`geom_smooth()` using formula = 'y ~ x'\n"
     ]
    },
    {
     "data": {
      "image/png": "[encoded data removed]",
      "text/plain": [
       "plot without title"
      ]
     },
     "metadata": {
      "image/png": {
       "height": 420,
       "width": 420
      }
     },
     "output_type": "display_data"
    }
   ],
   "source": [
    "#Plotting\n",
    "    p1 <- ggplot(unchaged_stations_city_1, aes(x = speed, y = carCrash)) +\n",
    "        geom_point() +\n",
    "        geom_smooth(method = \"lm\", se = FALSE) +\n",
    "        labs(title = \"Car Crashes vs Speed \", x = \"Speed\", y = \"Car Crashes\") +\n",
    "        theme_minimal()\n",
    "\n",
    "    p2 <- ggplot(unchaged_stations_city_1, aes(x = energyConsumption, y = carCrash)) +\n",
    "        geom_point() +\n",
    "        geom_smooth(method = \"lm\", se = FALSE) +\n",
    "        labs(title = \"Car Crashes vs Energy Consumption \", x = \"Energy Consumption\", y = \"Car Crashes\") +\n",
    "        theme_minimal()\n",
    "\n",
    "    p3 <- ggplot(unchaged_stations_city_1, aes(x = trafficCongestion, y = carCrash)) +\n",
    "        geom_point() +\n",
    "        geom_smooth(method = \"lm\", se = FALSE) +\n",
    "        labs(title = \"Car Crashes vs Traffic Congestion \", x = \"Traffic Congestion\", y = \"Car Crashes\") +\n",
    "        theme_minimal()\n",
    "\n",
    "    p4 <- ggplot(unchaged_stations_city_1, aes(x = pedestrianDeath, y = carCrash)) +\n",
    "        geom_point() +\n",
    "        geom_smooth(method = \"lm\", se = FALSE) +\n",
    "        labs(title = \"Car Crashes vs Pedestrian Deaths \", x = \"Pedestrian Deaths\", y = \"Car Crashes\") +\n",
    "        theme_minimal()\n",
    "\n",
    "    grid.arrange(p1, p2, p3, p4, ncol = 2, nrow = 2)"
   ]
  },
  {
   "cell_type": "code",
   "execution_count": null,
   "metadata": {
    "vscode": {
     "languageId": "r"
    }
   },
   "outputs": [
    {
     "data": {
      "text/plain": [
       "\n",
       "Call:\n",
       "lm(formula = pedestrianDeath ~ speed + energyConsumption + trafficCongestion + \n",
       "    carCrash, data = changed_stations_city_1)\n",
       "\n",
       "Residuals:\n",
       "       Min         1Q     Median         3Q        Max \n",
       "-1.682e-04 -5.207e-05 -1.075e-05  4.254e-05  3.453e-04 \n",
       "\n",
       "Coefficients:\n",
       "                    Estimate Std. Error t value Pr(>|t|)  \n",
       "(Intercept)       -0.0235460  0.0139045  -1.693   0.0926 .\n",
       "speed              0.0002560  0.0001481   1.728   0.0862 .\n",
       "energyConsumption  0.0015310  0.0009188   1.666   0.0979 .\n",
       "trafficCongestion  0.0002423  0.0003346   0.724   0.4703  \n",
       "carCrash          -0.0029517  0.0361909  -0.082   0.9351  \n",
       "---\n",
       "Signif. codes:  0 '***' 0.001 '**' 0.01 '*' 0.05 '.' 0.1 ' ' 1\n",
       "\n",
       "Residual standard error: 7.704e-05 on 139 degrees of freedom\n",
       "Multiple R-squared:  0.438,\tAdjusted R-squared:  0.4219 \n",
       "F-statistic: 27.09 on 4 and 139 DF,  p-value: < 2.2e-16\n"
      ]
     },
     "metadata": {},
     "output_type": "display_data"
    }
   ],
   "source": [
    "# OLS regression for changed stations\n",
    "\n",
    "# pedestrianDeath vs other variables\n",
    "model_changed_stations_city_1 <- lm(pedestrianDeath ~ speed + energyConsumption + trafficCongestion + carCrash, data = changed_stations_city_1)\n",
    "\n",
    "summary(model_changed_stations_city_1)"
   ]
  },
  {
   "cell_type": "code",
   "execution_count": null,
   "metadata": {
    "vscode": {
     "languageId": "r"
    }
   },
   "outputs": [
    {
     "name": "stderr",
     "output_type": "stream",
     "text": [
      "\u001b[1m\u001b[22m`geom_smooth()` using formula = 'y ~ x'\n",
      "\u001b[1m\u001b[22m`geom_smooth()` using formula = 'y ~ x'\n",
      "\u001b[1m\u001b[22m`geom_smooth()` using formula = 'y ~ x'\n",
      "\u001b[1m\u001b[22m`geom_smooth()` using formula = 'y ~ x'\n"
     ]
    },
    {
     "data": {
      "image/png": "[encoded data removed]",
      "text/plain": [
       "plot without title"
      ]
     },
     "metadata": {
      "image/png": {
       "height": 420,
       "width": 420
      }
     },
     "output_type": "display_data"
    }
   ],
   "source": [
    "# Plotting\n",
    "p1 <- ggplot(changed_stations_city_1, aes(x = speed, y = pedestrianDeath)) +\n",
    "    geom_point() +\n",
    "    geom_smooth(method = \"lm\", se = FALSE) +\n",
    "    labs(title = \"Pedestrian Deaths vs Speed\", x = \"Speed\", y = \"Pedestrian Deaths\") +\n",
    "    theme_minimal()\n",
    "\n",
    "p2 <- ggplot(changed_stations_city_1, aes(x = energyConsumption, y = pedestrianDeath)) +\n",
    "    geom_point() +\n",
    "    geom_smooth(method = \"lm\", se = FALSE) +\n",
    "    labs(title = \"Pedestrian Deaths vs Energy Consumption\", x = \"Energy Consumption\", y = \"Pedestrian Deaths\") +\n",
    "    theme_minimal()\n",
    "\n",
    "p3 <- ggplot(changed_stations_city_1, aes(x = trafficCongestion, y = pedestrianDeath)) +\n",
    "    geom_point() +\n",
    "    geom_smooth(method = \"lm\", se = FALSE) +\n",
    "    labs(title = \"Pedestrian Deaths vs Traffic Congestion\", x = \"Traffic Congestion\", y = \"Pedestrian Deaths\") +\n",
    "    theme_minimal()\n",
    "\n",
    "p4 <- ggplot(changed_stations_city_1, aes(x = carCrash, y = pedestrianDeath)) +\n",
    "    geom_point() +\n",
    "    geom_smooth(method = \"lm\", se = FALSE) +\n",
    "    labs(title = \"Pedestrian Deaths vs Car Crashes\", x = \"Car Crashes\", y = \"Pedestrian Deaths\") +\n",
    "    theme_minimal()\n",
    "\n",
    "grid.arrange(p1, p2, p3, p4, ncol = 2, nrow = 2)\n"
   ]
  },
  {
   "cell_type": "code",
   "execution_count": null,
   "metadata": {
    "vscode": {
     "languageId": "r"
    }
   },
   "outputs": [
    {
     "data": {
      "text/plain": [
       "\n",
       "Call:\n",
       "lm(formula = carCrash ~ speed + energyConsumption + trafficCongestion + \n",
       "    pedestrianDeath, data = changed_stations_city_1)\n",
       "\n",
       "Residuals:\n",
       "       Min         1Q     Median         3Q        Max \n",
       "-4.701e-04 -1.281e-04  1.880e-06  1.284e-04  5.020e-04 \n",
       "\n",
       "Coefficients:\n",
       "                    Estimate Std. Error t value Pr(>|t|)   \n",
       "(Intercept)        1.085e-03  3.292e-02   0.033  0.97375   \n",
       "speed             -2.597e-06  3.509e-04  -0.007  0.99410   \n",
       "energyConsumption -4.762e-04  2.174e-03  -0.219  0.82696   \n",
       "trafficCongestion  2.047e-03  7.663e-04   2.671  0.00847 **\n",
       "pedestrianDeath   -1.621e-02  1.988e-01  -0.082  0.93511   \n",
       "---\n",
       "Signif. codes:  0 '***' 0.001 '**' 0.01 '*' 0.05 '.' 0.1 ' ' 1\n",
       "\n",
       "Residual standard error: 0.0001806 on 139 degrees of freedom\n",
       "Multiple R-squared:  0.9071,\tAdjusted R-squared:  0.9044 \n",
       "F-statistic: 339.2 on 4 and 139 DF,  p-value: < 2.2e-16\n"
      ]
     },
     "metadata": {},
     "output_type": "display_data"
    }
   ],
   "source": [
    "# carCrash vs other variables\n",
    "model_changed_stations_city_1 <- lm(carCrash ~ speed + energyConsumption + trafficCongestion + pedestrianDeath, data = changed_stations_city_1)\n",
    "\n",
    "summary(model_changed_stations_city_1)"
   ]
  },
  {
   "cell_type": "code",
   "execution_count": null,
   "metadata": {
    "vscode": {
     "languageId": "r"
    }
   },
   "outputs": [
    {
     "name": "stderr",
     "output_type": "stream",
     "text": [
      "\u001b[1m\u001b[22m`geom_smooth()` using formula = 'y ~ x'\n",
      "\u001b[1m\u001b[22m`geom_smooth()` using formula = 'y ~ x'\n",
      "\u001b[1m\u001b[22m`geom_smooth()` using formula = 'y ~ x'\n",
      "\u001b[1m\u001b[22m`geom_smooth()` using formula = 'y ~ x'\n"
     ]
    },
    {
     "data": {
      "image/png": "[encoded data removed]",
      "text/plain": [
       "plot without title"
      ]
     },
     "metadata": {
      "image/png": {
       "height": 420,
       "width": 420
      }
     },
     "output_type": "display_data"
    }
   ],
   "source": [
    "# Plotting\n",
    "p1 <- ggplot(changed_stations_city_1, aes(x = speed, y = carCrash)) +\n",
    "    geom_point() +\n",
    "    geom_smooth(method = \"lm\", se = FALSE) +\n",
    "    labs(title = \"Car Crashes vs Speed\", x = \"Speed\", y = \"Car Crashes\") +\n",
    "    theme_minimal()\n",
    "\n",
    "p2 <- ggplot(changed_stations_city_1, aes(x = energyConsumption, y = carCrash)) +\n",
    "    geom_point() +\n",
    "    geom_smooth(method = \"lm\", se = FALSE) +\n",
    "    labs(title = \"Car Crashes vs Energy Consumption\", x = \"Energy Consumption\", y = \"Car Crashes\") +\n",
    "    theme_minimal()\n",
    "\n",
    "p3 <- ggplot(changed_stations_city_1, aes(x = trafficCongestion, y = carCrash)) +\n",
    "    geom_point() +\n",
    "    geom_smooth(method = \"lm\", se = FALSE) +\n",
    "    labs(title = \"Car Crashes vs Traffic Congestion\", x = \"Traffic Congestion\", y = \"Car Crashes\") +\n",
    "    theme_minimal()\n",
    "\n",
    "p4 <- ggplot(changed_stations_city_1, aes(x = pedestrianDeath, y = carCrash)) +\n",
    "    geom_point() +\n",
    "    geom_smooth(method = \"lm\", se = FALSE) +\n",
    "    labs(title = \"Car Crashes vs Pedestrian Deaths\", x = \"Pedestrian Deaths\", y = \"Car Crashes\") +\n",
    "    theme_minimal()\n",
    "\n",
    "grid.arrange(p1, p2, p3, p4, ncol = 2, nrow = 2)\n"
   ]
  },
  {
   "cell_type": "code",
   "execution_count": null,
   "metadata": {
    "vscode": {
     "languageId": "r"
    }
   },
   "outputs": [
    {
     "data": {
      "text/plain": [
       "\n",
       "Call:\n",
       "lm(formula = carCrash ~ speed + energyConsumption + trafficCongestion, \n",
       "    data = changed_stations_city_1)\n",
       "\n",
       "Residuals:\n",
       "       Min         1Q     Median         3Q        Max \n",
       "-0.0004700 -0.0001284  0.0000010  0.0001277  0.0005033 \n",
       "\n",
       "Coefficients:\n",
       "                    Estimate Std. Error t value Pr(>|t|)   \n",
       "(Intercept)        1.467e-03  3.247e-02   0.045  0.96403   \n",
       "speed             -6.747e-06  3.459e-04  -0.020  0.98447   \n",
       "energyConsumption -5.010e-04  2.145e-03  -0.234  0.81567   \n",
       "trafficCongestion  2.043e-03  7.622e-04   2.680  0.00824 **\n",
       "---\n",
       "Signif. codes:  0 '***' 0.001 '**' 0.01 '*' 0.05 '.' 0.1 ' ' 1\n",
       "\n",
       "Residual standard error: 0.0001799 on 140 degrees of freedom\n",
       "Multiple R-squared:  0.9071,\tAdjusted R-squared:  0.9051 \n",
       "F-statistic: 455.4 on 3 and 140 DF,  p-value: < 2.2e-16\n"
      ]
     },
     "metadata": {},
     "output_type": "display_data"
    }
   ],
   "source": [
    "# carCrash vs other variables\n",
    "model_changed_stations_city_1 <- lm(carCrash ~ speed + energyConsumption + trafficCongestion, data = changed_stations_city_1)\n",
    "\n",
    "summary(model_changed_stations_city_1)"
   ]
  },
  {
   "cell_type": "code",
   "execution_count": null,
   "metadata": {
    "vscode": {
     "languageId": "r"
    }
   },
   "outputs": [
    {
     "name": "stderr",
     "output_type": "stream",
     "text": [
      "\u001b[1m\u001b[22m`geom_smooth()` using formula = 'y ~ x'\n",
      "\u001b[1m\u001b[22m`geom_smooth()` using formula = 'y ~ x'\n",
      "\u001b[1m\u001b[22m`geom_smooth()` using formula = 'y ~ x'\n",
      "\u001b[1m\u001b[22m`geom_smooth()` using formula = 'y ~ x'\n"
     ]
    },
    {
     "data": {
      "image/png": "[encoded data removed]",
      "text/plain": [
       "plot without title"
      ]
     },
     "metadata": {
      "image/png": {
       "height": 420,
       "width": 420
      }
     },
     "output_type": "display_data"
    }
   ],
   "source": [
    "# Plotting\n",
    "p1 <- ggplot(changed_stations_city_1, aes(x = speed, y = carCrash)) +\n",
    "    geom_point() +\n",
    "    geom_smooth(method = \"lm\", se = FALSE) +\n",
    "    labs(title = \"Car Crashes vs Speed\", x = \"Speed\", y = \"Car Crashes\") +\n",
    "    theme_minimal()\n",
    "\n",
    "p2 <- ggplot(changed_stations_city_1, aes(x = energyConsumption, y = carCrash)) +\n",
    "    geom_point() +\n",
    "    geom_smooth(method = \"lm\", se = FALSE) +\n",
    "    labs(title = \"Car Crashes vs Energy Consumption\", x = \"Energy Consumption\", y = \"Car Crashes\") +\n",
    "    theme_minimal()\n",
    "\n",
    "p3 <- ggplot(changed_stations_city_1, aes(x = trafficCongestion, y = carCrash)) +\n",
    "    geom_point() +\n",
    "    geom_smooth(method = \"lm\", se = FALSE) +\n",
    "    labs(title = \"Car Crashes vs Traffic Congestion\", x = \"Traffic Congestion\", y = \"Car Crashes\") +\n",
    "    theme_minimal()\n",
    "\n",
    "p4 <- ggplot(changed_stations_city_1, aes(x = pedestrianDeath, y = carCrash)) +\n",
    "    geom_point() +\n",
    "    geom_smooth(method = \"lm\", se = FALSE) +\n",
    "    labs(title = \"Car Crashes vs Pedestrian Deaths\", x = \"Pedestrian Deaths\", y = \"Car Crashes\") +\n",
    "    theme_minimal()\n",
    "\n",
    "grid.arrange(p1, p2, p3, p4, ncol = 2, nrow = 2)\n"
   ]
  },
  {
   "cell_type": "code",
   "execution_count": null,
   "metadata": {
    "vscode": {
     "languageId": "r"
    }
   },
   "outputs": [
    {
     "name": "stderr",
     "output_type": "stream",
     "text": [
      "\u001b[1m\u001b[22mNew names:\n",
      "\u001b[36m•\u001b[39m `` -> `...1`\n",
      "\u001b[1mRows: \u001b[22m\u001b[34m1080\u001b[39m \u001b[1mColumns: \u001b[22m\u001b[34m13\u001b[39m\n",
      "\u001b[36m──\u001b[39m \u001b[1mColumn specification\u001b[22m \u001b[36m────────────────────────────────────────────────────────\u001b[39m\n",
      "\u001b[1mDelimiter:\u001b[22m \",\"\n",
      "\u001b[32mdbl\u001b[39m  (12): ...1, city, station, weather, dow, hour, speed, vehicleType, ener...\n",
      "\u001b[34mdate\u001b[39m  (1): datetime\n",
      "\n",
      "\u001b[36mℹ\u001b[39m Use `spec()` to retrieve the full column specification for this data.\n",
      "\u001b[36mℹ\u001b[39m Specify the column types or set `show_col_types = FALSE` to quiet this message.\n"
     ]
    },
    {
     "data": {
      "text/plain": [
       "OLS estimation, Dep. Var.: carCrash\n",
       "Observations: 360\n",
       "Standard-errors: IID \n",
       "                            Estimate Std. Error    t value   Pr(>|t|)    \n",
       "(Intercept)               0.00289071   0.000024 121.317465  < 2.2e-16 ***\n",
       "treated_time::-9:treated  0.00020832   0.000107   1.954910 5.1408e-02 .  \n",
       "treated_time::-8:treated -0.00016853   0.000107  -1.581561 1.1467e-01    \n",
       "treated_time::-7:treated -0.00000198   0.000107  -0.018617 9.8516e-01    \n",
       "treated_time::-6:treated  0.00012301   0.000107   1.154406 2.4914e-01    \n",
       "treated_time::-5:treated -0.00003318   0.000107  -0.311390 7.5569e-01    \n",
       "treated_time::-4:treated  0.00007531   0.000107   0.706700 4.8023e-01    \n",
       "treated_time::-3:treated  0.00003419   0.000107   0.320846 7.4852e-01    \n",
       "treated_time::-2:treated -0.00007254   0.000107  -0.680737 4.9650e-01    \n",
       "treated_time::0:treated  -0.00066075   0.000107  -6.200698 1.6202e-09 ***\n",
       "treated_time::1:treated  -0.00089433   0.000107  -8.392676 1.2728e-15 ***\n",
       "treated_time::2:treated  -0.00083440   0.000107  -7.830305 6.1715e-14 ***\n",
       "treated_time::3:treated  -0.00084496   0.000107  -7.929421 3.1540e-14 ***\n",
       "treated_time::4:treated  -0.00087990   0.000107  -8.257285 3.2921e-15 ***\n",
       "treated_time::5:treated  -0.00087927   0.000107  -8.251384 3.4305e-15 ***\n",
       "treated_time::6:treated  -0.00086780   0.000107  -8.143731 7.2492e-15 ***\n",
       "treated_time::7:treated  -0.00087602   0.000107  -8.220852 4.2442e-15 ***\n",
       "treated_time::8:treated  -0.00083195   0.000107  -7.807268 7.2078e-14 ***\n",
       "---\n",
       "Signif. codes:  0 '***' 0.001 '**' 0.01 '*' 0.05 '.' 0.1 ' ' 1\n",
       "RMSE: 3.201e-4   Adj. R2: 0.553475"
      ]
     },
     "metadata": {},
     "output_type": "display_data"
    },
    {
     "ename": "",
     "evalue": "",
     "output_type": "error",
     "traceback": [
      "\u001b[1;31mThe Kernel crashed while executing code in the current cell or a previous cell. \n",
      "\u001b[1;31mPlease review the code in the cell(s) to identify a possible cause of the failure. \n",
      "\u001b[1;31mClick <a href='https://aka.ms/vscodeJupyterKernelCrash'>here</a> for more info. \n",
      "\u001b[1;31mView Jupyter <a href='command:jupyter.viewOutput'>log</a> for further details."
     ]
    }
   ],
   "source": [
    "library(dplyr)\n",
    "library(data.table)\n",
    "library(readr)\n",
    "library(fixest)\n",
    "\n",
    "dat <- read_csv(\"data/weeklyGrouping.csv\")\n",
    "\n",
    "dat$datetime <- as.Date(dat$datetime)\n",
    "\n",
    "dat <- dat %>%\n",
    "  mutate(treated_time = floor(as.numeric(difftime(datetime, as.Date(\"2021-06-01\"), units = \"weeks\"))))\n",
    "\n",
    "library(dplyr)\n",
    "\n",
    "dat_stations <- filter(dat, city == 1)\n",
    "\n",
    "dat_stations <- dat_stations %>%\n",
    "  mutate(treated = ifelse(station %in% c(4, 7), 0, 1))\n",
    "\n",
    "mod_twfe <- feols(pedestrianDeath ~ i(treated_time, treated, ref = -1),\n",
    "                  data = dat_stations)\n",
    "\n",
    "# png(\"results/pedestDeathPerWeekStations.png\", width = 800, height = 500)\n",
    "# iplot(mod_twfe, ref.line = -1, xlab = \"Time to treatment\",\n",
    "#       main = \"Effect on Pedestrian Deaths\",\n",
    "#       ylab = \"Estimate and 95% Conf. Int.\",\n",
    "#       xlim = c(-9, 8),\n",
    "#       legend = \"treated\")\n",
    "# axis(1, at = -9:8, labels = -9:8)\n",
    "# dev.off()\n",
    "\n",
    "mod_twfe <- feols(carCrash ~ i(treated_time, treated, ref = -1),\n",
    "                  data = dat_stations)\n",
    "# png(\"results/carCrashPerWeekStations.png\", width = 800, height = 500)\n",
    "# iplot(mod_twfe, ref.line = -1, xlab = \"Time to treatment\",\n",
    "#       main = \"Effect on Car Crashes\",\n",
    "#       ylab = \"Estimate and 95% Conf. Int.\",\n",
    "#       xlim = c(-9, 8),\n",
    "#       legend = \"treated\")\n",
    "# axis(1, at = -9:8, labels = -9:8)\n",
    "# dev.off()\n",
    "\n",
    "dat_cities <- filter(dat, city %in% c(1, 6))\n",
    "\n",
    "dat_cities <- mutate(dat_cities, treated = ifelse(city == 1, 1, 0))\n",
    "\n",
    "mod_twfe <- feols(pedestrianDeath ~ i(treated_time, treated, ref = -1),\n",
    "                  data = dat_cities)\n",
    "# png(\"results/pedestDeathPerWeekCities.png\", width = 800, height = 500)\n",
    "# iplot(mod_twfe, ref.line = -1, xlab = \"Time to treatment\",\n",
    "#       main = \"Effect on Pedestrian Deaths\",\n",
    "#       ylab = \"Estimate and 95% Conf. Int.\",\n",
    "#       xlim = c(-9, 8),\n",
    "#       legend = \"treated\")\n",
    "# axis(1, at = -9:8, labels = -9:8)\n",
    "# dev.off()\n",
    "\n",
    "mod_twfe <- feols(carCrash ~ i(treated_time, treated, ref = -1),\n",
    "                  data = dat_cities)\n",
    "summary(mod_twfe)\n",
    "# png(\"results/carCrashPerWeekCities.png\", width = 800, height = 500)\n",
    "# iplot(mod_twfe, ref.line = -1, xlab = \"Time to treatment\",\n",
    "#       main = \"Effect on Car Crashes\",\n",
    "#       ylab = \"Estimate and 95% Conf. Int.\",\n",
    "#       xlim = c(-9, 8),\n",
    "#       legend = \"treated\")\n",
    "# axis(1, at = -9:8, labels = -9:8)\n",
    "# dev.off()\n"
   ]
  },
  {
   "cell_type": "code",
   "execution_count": 40,
   "metadata": {
    "vscode": {
     "languageId": "r"
    }
   },
   "outputs": [
    {
     "data": {
      "text/html": [
       "<table class=\"dataframe\">\n",
       "<caption>A data.frame: 360 × 16</caption>\n",
       "<thead>\n",
       "\t<tr><th scope=col>X</th><th scope=col>city</th><th scope=col>station</th><th scope=col>datetime</th><th scope=col>weather</th><th scope=col>dow</th><th scope=col>hour</th><th scope=col>speed</th><th scope=col>vehicleType</th><th scope=col>energyConsumption</th><th scope=col>trafficCongestion</th><th scope=col>carCrash</th><th scope=col>pedestrianDeath</th><th scope=col>t</th><th scope=col>g</th><th scope=col>gt</th></tr>\n",
       "\t<tr><th scope=col>&lt;int&gt;</th><th scope=col>&lt;int&gt;</th><th scope=col>&lt;int&gt;</th><th scope=col>&lt;date&gt;</th><th scope=col>&lt;dbl&gt;</th><th scope=col>&lt;dbl&gt;</th><th scope=col>&lt;dbl&gt;</th><th scope=col>&lt;dbl&gt;</th><th scope=col>&lt;dbl&gt;</th><th scope=col>&lt;dbl&gt;</th><th scope=col>&lt;dbl&gt;</th><th scope=col>&lt;dbl&gt;</th><th scope=col>&lt;dbl&gt;</th><th scope=col>&lt;dbl&gt;</th><th scope=col>&lt;dbl&gt;</th><th scope=col>&lt;dbl&gt;</th></tr>\n",
       "</thead>\n",
       "<tbody>\n",
       "\t<tr><td> 0</td><td>1</td><td>1</td><td>2021-04-04</td><td>2.134516</td><td>5.5</td><td>12.45583</td><td>39.47956</td><td>2.253887</td><td> 8.575182</td><td>2.914455</td><td>0.002747599</td><td>0.0005578949</td><td>0</td><td>1</td><td>0</td></tr>\n",
       "\t<tr><td> 1</td><td>1</td><td>1</td><td>2021-04-11</td><td>1.996655</td><td>4.0</td><td>13.05422</td><td>39.48773</td><td>2.241608</td><td> 8.556106</td><td>2.912705</td><td>0.002922490</td><td>0.0003815325</td><td>0</td><td>1</td><td>0</td></tr>\n",
       "\t<tr><td> 2</td><td>1</td><td>1</td><td>2021-04-18</td><td>2.115383</td><td>4.0</td><td>13.02269</td><td>39.48011</td><td>2.249241</td><td> 8.567174</td><td>2.921677</td><td>0.002924062</td><td>0.0003472835</td><td>0</td><td>1</td><td>0</td></tr>\n",
       "\t<tr><td> 3</td><td>1</td><td>1</td><td>2021-04-25</td><td>1.994133</td><td>4.0</td><td>13.08781</td><td>39.45676</td><td>2.253827</td><td> 8.577785</td><td>2.901808</td><td>0.002909320</td><td>0.0002785515</td><td>0</td><td>1</td><td>0</td></tr>\n",
       "\t<tr><td> 4</td><td>1</td><td>1</td><td>2021-05-02</td><td>1.995093</td><td>4.0</td><td>12.81332</td><td>39.51588</td><td>2.250422</td><td> 8.564596</td><td>2.906201</td><td>0.002893206</td><td>0.0003789540</td><td>0</td><td>1</td><td>0</td></tr>\n",
       "\t<tr><td> 5</td><td>1</td><td>1</td><td>2021-05-09</td><td>2.020412</td><td>4.0</td><td>12.86606</td><td>39.49568</td><td>2.257699</td><td> 8.578202</td><td>2.908553</td><td>0.002644048</td><td>0.0002253562</td><td>0</td><td>1</td><td>0</td></tr>\n",
       "\t<tr><td> 6</td><td>1</td><td>1</td><td>2021-05-16</td><td>2.035659</td><td>4.0</td><td>13.08282</td><td>39.50939</td><td>2.260031</td><td> 8.579080</td><td>2.899503</td><td>0.003044047</td><td>0.0003821967</td><td>0</td><td>1</td><td>0</td></tr>\n",
       "\t<tr><td> 7</td><td>1</td><td>1</td><td>2021-05-23</td><td>2.062368</td><td>4.0</td><td>12.95032</td><td>39.50602</td><td>2.253150</td><td> 8.570641</td><td>2.905931</td><td>0.002864055</td><td>0.0003002564</td><td>0</td><td>1</td><td>0</td></tr>\n",
       "\t<tr><td> 8</td><td>1</td><td>1</td><td>2021-05-30</td><td>2.076842</td><td>4.0</td><td>12.96777</td><td>39.46474</td><td>2.252839</td><td> 8.575453</td><td>2.905925</td><td>0.002967461</td><td>0.0004257563</td><td>0</td><td>1</td><td>0</td></tr>\n",
       "\t<tr><td> 9</td><td>1</td><td>1</td><td>2021-06-06</td><td>2.126575</td><td>4.0</td><td>13.09117</td><td>26.63025</td><td>2.253400</td><td>10.648648</td><td>2.896347</td><td>0.002031875</td><td>0.0004294441</td><td>1</td><td>1</td><td>1</td></tr>\n",
       "\t<tr><td>10</td><td>1</td><td>1</td><td>2021-06-13</td><td>2.069724</td><td>4.0</td><td>13.04306</td><td>24.45010</td><td>2.251762</td><td>10.996577</td><td>2.903287</td><td>0.001344220</td><td>0.0003539143</td><td>1</td><td>1</td><td>1</td></tr>\n",
       "\t<tr><td>11</td><td>1</td><td>1</td><td>2021-06-20</td><td>2.168592</td><td>4.0</td><td>12.95232</td><td>24.46808</td><td>2.245925</td><td>10.983216</td><td>2.913667</td><td>0.001892235</td><td>0.0001701745</td><td>1</td><td>1</td><td>1</td></tr>\n",
       "\t<tr><td>12</td><td>1</td><td>1</td><td>2021-06-27</td><td>2.132382</td><td>4.0</td><td>13.18285</td><td>24.41021</td><td>2.247226</td><td>10.995870</td><td>2.900486</td><td>0.001762172</td><td>0.0002902773</td><td>1</td><td>1</td><td>1</td></tr>\n",
       "\t<tr><td>13</td><td>1</td><td>1</td><td>2021-07-04</td><td>2.011487</td><td>4.0</td><td>12.92934</td><td>24.44764</td><td>2.248979</td><td>10.991565</td><td>2.906618</td><td>0.001693511</td><td>0.0002240858</td><td>1</td><td>1</td><td>1</td></tr>\n",
       "\t<tr><td>14</td><td>1</td><td>1</td><td>2021-07-11</td><td>2.019891</td><td>4.0</td><td>12.98910</td><td>24.50908</td><td>2.247293</td><td>10.975516</td><td>2.904327</td><td>0.001607210</td><td>0.0001588046</td><td>1</td><td>1</td><td>1</td></tr>\n",
       "\t<tr><td>15</td><td>1</td><td>1</td><td>2021-07-18</td><td>2.113638</td><td>4.0</td><td>13.09205</td><td>24.46532</td><td>2.249747</td><td>10.990994</td><td>2.920805</td><td>0.001537110</td><td>0.0003082311</td><td>1</td><td>1</td><td>1</td></tr>\n",
       "\t<tr><td>16</td><td>1</td><td>1</td><td>2021-07-25</td><td>2.054812</td><td>4.0</td><td>13.05005</td><td>24.47076</td><td>2.251990</td><td>10.991973</td><td>2.922232</td><td>0.001966343</td><td>0.0002306296</td><td>1</td><td>1</td><td>1</td></tr>\n",
       "\t<tr><td>17</td><td>1</td><td>1</td><td>2021-08-01</td><td>2.085737</td><td>3.5</td><td>11.17821</td><td>24.44166</td><td>2.266340</td><td>11.024927</td><td>2.900904</td><td>0.001847893</td><td>0.0001330853</td><td>1</td><td>1</td><td>1</td></tr>\n",
       "\t<tr><td>18</td><td>1</td><td>2</td><td>2021-04-04</td><td>1.943406</td><td>5.5</td><td>12.27361</td><td>39.50146</td><td>2.245852</td><td> 8.561842</td><td>2.981753</td><td>0.003048765</td><td>0.0004317387</td><td>0</td><td>1</td><td>0</td></tr>\n",
       "\t<tr><td>19</td><td>1</td><td>2</td><td>2021-04-11</td><td>2.049963</td><td>4.0</td><td>12.68480</td><td>39.46980</td><td>2.250023</td><td> 8.569961</td><td>2.959877</td><td>0.002764122</td><td>0.0003396298</td><td>0</td><td>1</td><td>0</td></tr>\n",
       "\t<tr><td>20</td><td>1</td><td>2</td><td>2021-04-18</td><td>2.089090</td><td>4.0</td><td>12.62478</td><td>39.49826</td><td>2.248912</td><td> 8.565627</td><td>2.958222</td><td>0.003144006</td><td>0.0002892439</td><td>0</td><td>1</td><td>0</td></tr>\n",
       "\t<tr><td>21</td><td>1</td><td>2</td><td>2021-04-25</td><td>2.157855</td><td>4.0</td><td>12.66852</td><td>39.48706</td><td>2.237851</td><td> 8.550366</td><td>2.958875</td><td>0.002940453</td><td>0.0004041286</td><td>0</td><td>1</td><td>0</td></tr>\n",
       "\t<tr><td>22</td><td>1</td><td>2</td><td>2021-05-02</td><td>1.957325</td><td>4.0</td><td>12.61825</td><td>39.48574</td><td>2.251144</td><td> 8.569504</td><td>2.971398</td><td>0.003087750</td><td>0.0003723314</td><td>0</td><td>1</td><td>0</td></tr>\n",
       "\t<tr><td>23</td><td>1</td><td>2</td><td>2021-05-09</td><td>2.058862</td><td>4.0</td><td>12.68126</td><td>39.48420</td><td>2.255623</td><td> 8.575935</td><td>2.955452</td><td>0.003071183</td><td>0.0004198815</td><td>0</td><td>1</td><td>0</td></tr>\n",
       "\t<tr><td>24</td><td>1</td><td>2</td><td>2021-05-16</td><td>2.095262</td><td>4.0</td><td>12.68145</td><td>39.51510</td><td>2.248348</td><td> 8.563532</td><td>2.964507</td><td>0.003064866</td><td>0.0003293855</td><td>0</td><td>1</td><td>0</td></tr>\n",
       "\t<tr><td>25</td><td>1</td><td>2</td><td>2021-05-23</td><td>2.100464</td><td>4.0</td><td>12.58326</td><td>39.50569</td><td>2.251106</td><td> 8.567778</td><td>2.969018</td><td>0.002783158</td><td>0.0003793149</td><td>0</td><td>1</td><td>0</td></tr>\n",
       "\t<tr><td>26</td><td>1</td><td>2</td><td>2021-05-30</td><td>1.964767</td><td>4.0</td><td>12.59702</td><td>39.49795</td><td>2.247633</td><td> 8.563840</td><td>2.968328</td><td>0.003136535</td><td>0.0003721645</td><td>0</td><td>1</td><td>0</td></tr>\n",
       "\t<tr><td>27</td><td>1</td><td>2</td><td>2021-06-06</td><td>1.949053</td><td>4.0</td><td>12.72843</td><td>26.60420</td><td>2.248010</td><td>10.642680</td><td>2.959584</td><td>0.001990237</td><td>0.0001422379</td><td>1</td><td>1</td><td>1</td></tr>\n",
       "\t<tr><td>28</td><td>1</td><td>2</td><td>2021-06-13</td><td>1.912262</td><td>4.0</td><td>12.72506</td><td>24.48312</td><td>2.250560</td><td>10.987511</td><td>2.955666</td><td>0.001716807</td><td>0.0002597598</td><td>1</td><td>1</td><td>1</td></tr>\n",
       "\t<tr><td>29</td><td>1</td><td>2</td><td>2021-06-20</td><td>2.043248</td><td>4.0</td><td>12.68753</td><td>24.44438</td><td>2.250096</td><td>10.995199</td><td>2.959846</td><td>0.001857260</td><td>0.0002920371</td><td>1</td><td>1</td><td>1</td></tr>\n",
       "\t<tr><td>⋮</td><td>⋮</td><td>⋮</td><td>⋮</td><td>⋮</td><td>⋮</td><td>⋮</td><td>⋮</td><td>⋮</td><td>⋮</td><td>⋮</td><td>⋮</td><td>⋮</td><td>⋮</td><td>⋮</td><td>⋮</td></tr>\n",
       "\t<tr><td>1050</td><td>6</td><td> 9</td><td>2021-05-16</td><td>2.023895</td><td>4.0</td><td>12.94955</td><td>39.49514</td><td>2.245288</td><td>8.560734</td><td>2.926628</td><td>0.002898025</td><td>0.0004338434</td><td>0</td><td>1</td><td>0</td></tr>\n",
       "\t<tr><td>1051</td><td>6</td><td> 9</td><td>2021-05-23</td><td>2.113708</td><td>4.0</td><td>13.07357</td><td>39.50265</td><td>2.250598</td><td>8.568059</td><td>2.927739</td><td>0.002600197</td><td>0.0003722847</td><td>0</td><td>1</td><td>0</td></tr>\n",
       "\t<tr><td>1052</td><td>6</td><td> 9</td><td>2021-05-30</td><td>1.995116</td><td>4.0</td><td>12.87154</td><td>39.49618</td><td>2.245037</td><td>8.560528</td><td>2.927045</td><td>0.002620766</td><td>0.0004193694</td><td>0</td><td>1</td><td>0</td></tr>\n",
       "\t<tr><td>1053</td><td>6</td><td> 9</td><td>2021-06-06</td><td>2.070716</td><td>4.0</td><td>13.04016</td><td>39.45563</td><td>2.255707</td><td>8.579539</td><td>2.932364</td><td>0.002746959</td><td>0.0004125929</td><td>1</td><td>1</td><td>1</td></tr>\n",
       "\t<tr><td>1054</td><td>6</td><td> 9</td><td>2021-06-13</td><td>2.073075</td><td>4.0</td><td>12.95521</td><td>39.50465</td><td>2.249425</td><td>8.565515</td><td>2.931122</td><td>0.002841836</td><td>0.0004105041</td><td>1</td><td>1</td><td>1</td></tr>\n",
       "\t<tr><td>1055</td><td>6</td><td> 9</td><td>2021-06-20</td><td>1.937057</td><td>4.0</td><td>13.02157</td><td>39.49060</td><td>2.250954</td><td>8.569256</td><td>2.926793</td><td>0.003045750</td><td>0.0003369788</td><td>1</td><td>1</td><td>1</td></tr>\n",
       "\t<tr><td>1056</td><td>6</td><td> 9</td><td>2021-06-27</td><td>1.974737</td><td>4.0</td><td>13.11956</td><td>39.50545</td><td>2.252552</td><td>8.569855</td><td>2.921613</td><td>0.002988402</td><td>0.0003076429</td><td>1</td><td>1</td><td>1</td></tr>\n",
       "\t<tr><td>1057</td><td>6</td><td> 9</td><td>2021-07-04</td><td>2.096108</td><td>4.0</td><td>12.99861</td><td>39.48122</td><td>2.254477</td><td>8.574743</td><td>2.928314</td><td>0.003043624</td><td>0.0004638737</td><td>1</td><td>1</td><td>1</td></tr>\n",
       "\t<tr><td>1058</td><td>6</td><td> 9</td><td>2021-07-11</td><td>2.113253</td><td>4.0</td><td>13.03120</td><td>39.50573</td><td>2.246660</td><td>8.561465</td><td>2.927014</td><td>0.002791046</td><td>0.0003120287</td><td>1</td><td>1</td><td>1</td></tr>\n",
       "\t<tr><td>1059</td><td>6</td><td> 9</td><td>2021-07-18</td><td>2.042049</td><td>4.0</td><td>13.04286</td><td>39.48148</td><td>2.256373</td><td>8.577931</td><td>2.923937</td><td>0.003261509</td><td>0.0004058418</td><td>1</td><td>1</td><td>1</td></tr>\n",
       "\t<tr><td>1060</td><td>6</td><td> 9</td><td>2021-07-25</td><td>2.117528</td><td>4.0</td><td>13.06617</td><td>39.50373</td><td>2.248207</td><td>8.564736</td><td>2.932248</td><td>0.002835094</td><td>0.0003132005</td><td>1</td><td>1</td><td>1</td></tr>\n",
       "\t<tr><td>1061</td><td>6</td><td> 9</td><td>2021-08-01</td><td>2.048245</td><td>3.5</td><td>11.26074</td><td>39.56402</td><td>2.235242</td><td>8.536655</td><td>2.916275</td><td>0.003649328</td><td>0.0002391935</td><td>1</td><td>1</td><td>1</td></tr>\n",
       "\t<tr><td>1062</td><td>6</td><td>10</td><td>2021-04-04</td><td>1.976403</td><td>5.5</td><td>12.40396</td><td>39.51462</td><td>2.253624</td><td>8.570458</td><td>2.945542</td><td>0.002828503</td><td>0.0004876344</td><td>0</td><td>1</td><td>0</td></tr>\n",
       "\t<tr><td>1063</td><td>6</td><td>10</td><td>2021-04-11</td><td>2.050196</td><td>4.0</td><td>13.00723</td><td>39.48409</td><td>2.252202</td><td>8.571992</td><td>2.926425</td><td>0.002629805</td><td>0.0003873629</td><td>0</td><td>1</td><td>0</td></tr>\n",
       "\t<tr><td>1064</td><td>6</td><td>10</td><td>2021-04-18</td><td>2.051821</td><td>4.0</td><td>12.88846</td><td>39.49943</td><td>2.252050</td><td>8.569711</td><td>2.931740</td><td>0.002683982</td><td>0.0004300365</td><td>0</td><td>1</td><td>0</td></tr>\n",
       "\t<tr><td>1065</td><td>6</td><td>10</td><td>2021-04-25</td><td>2.061971</td><td>4.0</td><td>12.92916</td><td>39.49381</td><td>2.248974</td><td>8.566428</td><td>2.925988</td><td>0.003095943</td><td>0.0004997083</td><td>0</td><td>1</td><td>0</td></tr>\n",
       "\t<tr><td>1066</td><td>6</td><td>10</td><td>2021-05-02</td><td>2.070911</td><td>4.0</td><td>13.02082</td><td>39.48644</td><td>2.250999</td><td>8.570376</td><td>2.928368</td><td>0.003022751</td><td>0.0004035769</td><td>0</td><td>1</td><td>0</td></tr>\n",
       "\t<tr><td>1067</td><td>6</td><td>10</td><td>2021-05-09</td><td>2.121270</td><td>4.0</td><td>13.00958</td><td>39.51132</td><td>2.248257</td><td>8.563379</td><td>2.928200</td><td>0.003131767</td><td>0.0002970542</td><td>0</td><td>1</td><td>0</td></tr>\n",
       "\t<tr><td>1068</td><td>6</td><td>10</td><td>2021-05-16</td><td>2.094656</td><td>4.0</td><td>13.05578</td><td>39.49025</td><td>2.243724</td><td>8.559323</td><td>2.927512</td><td>0.003024503</td><td>0.0004156788</td><td>0</td><td>1</td><td>0</td></tr>\n",
       "\t<tr><td>1069</td><td>6</td><td>10</td><td>2021-05-23</td><td>2.004862</td><td>4.0</td><td>13.10248</td><td>39.50060</td><td>2.247231</td><td>8.562853</td><td>2.931654</td><td>0.002566548</td><td>0.0004195013</td><td>0</td><td>1</td><td>0</td></tr>\n",
       "\t<tr><td>1070</td><td>6</td><td>10</td><td>2021-05-30</td><td>2.026305</td><td>4.0</td><td>13.05210</td><td>39.48037</td><td>2.255370</td><td>8.576756</td><td>2.923282</td><td>0.002831205</td><td>0.0003970781</td><td>0</td><td>1</td><td>0</td></tr>\n",
       "\t<tr><td>1071</td><td>6</td><td>10</td><td>2021-06-06</td><td>2.077927</td><td>4.0</td><td>13.01810</td><td>39.48143</td><td>2.249490</td><td>8.568419</td><td>2.927235</td><td>0.002672636</td><td>0.0003102313</td><td>1</td><td>1</td><td>1</td></tr>\n",
       "\t<tr><td>1072</td><td>6</td><td>10</td><td>2021-06-13</td><td>1.981732</td><td>4.0</td><td>13.08069</td><td>39.52519</td><td>2.247052</td><td>8.560435</td><td>2.928047</td><td>0.002931525</td><td>0.0003008636</td><td>1</td><td>1</td><td>1</td></tr>\n",
       "\t<tr><td>1073</td><td>6</td><td>10</td><td>2021-06-20</td><td>2.083008</td><td>4.0</td><td>13.06748</td><td>39.49788</td><td>2.248942</td><td>8.565906</td><td>2.930939</td><td>0.002695450</td><td>0.0004001802</td><td>1</td><td>1</td><td>1</td></tr>\n",
       "\t<tr><td>1074</td><td>6</td><td>10</td><td>2021-06-27</td><td>2.087638</td><td>4.0</td><td>12.97960</td><td>39.52668</td><td>2.244022</td><td>8.555313</td><td>2.929618</td><td>0.002775524</td><td>0.0003766356</td><td>1</td><td>1</td><td>1</td></tr>\n",
       "\t<tr><td>1075</td><td>6</td><td>10</td><td>2021-07-04</td><td>2.162529</td><td>4.0</td><td>12.98823</td><td>39.54408</td><td>2.250831</td><td>8.562906</td><td>2.926554</td><td>0.002903450</td><td>0.0003427552</td><td>1</td><td>1</td><td>1</td></tr>\n",
       "\t<tr><td>1076</td><td>6</td><td>10</td><td>2021-07-11</td><td>2.016097</td><td>4.0</td><td>13.15049</td><td>39.48442</td><td>2.241565</td><td>8.556829</td><td>2.929902</td><td>0.003006969</td><td>0.0004787455</td><td>1</td><td>1</td><td>1</td></tr>\n",
       "\t<tr><td>1077</td><td>6</td><td>10</td><td>2021-07-18</td><td>2.001681</td><td>4.0</td><td>13.06106</td><td>39.53988</td><td>2.245944</td><td>8.555844</td><td>2.927591</td><td>0.003054133</td><td>0.0004496409</td><td>1</td><td>1</td><td>1</td></tr>\n",
       "\t<tr><td>1078</td><td>6</td><td>10</td><td>2021-07-25</td><td>2.110842</td><td>4.0</td><td>12.97375</td><td>39.53265</td><td>2.255195</td><td>8.569662</td><td>2.927281</td><td>0.002906475</td><td>0.0003439619</td><td>1</td><td>1</td><td>1</td></tr>\n",
       "\t<tr><td>1079</td><td>6</td><td>10</td><td>2021-08-01</td><td>1.849396</td><td>3.5</td><td>11.37577</td><td>39.47362</td><td>2.268069</td><td>8.596455</td><td>2.915379</td><td>0.003274671</td><td>0.0002368369</td><td>1</td><td>1</td><td>1</td></tr>\n",
       "</tbody>\n",
       "</table>\n"
      ],
      "text/latex": [
       "A data.frame: 360 × 16\n",
       "\\begin{tabular}{llllllllllllllll}\n",
       " X & city & station & datetime & weather & dow & hour & speed & vehicleType & energyConsumption & trafficCongestion & carCrash & pedestrianDeath & t & g & gt\\\\\n",
       " <int> & <int> & <int> & <date> & <dbl> & <dbl> & <dbl> & <dbl> & <dbl> & <dbl> & <dbl> & <dbl> & <dbl> & <dbl> & <dbl> & <dbl>\\\\\n",
       "\\hline\n",
       "\t  0 & 1 & 1 & 2021-04-04 & 2.134516 & 5.5 & 12.45583 & 39.47956 & 2.253887 &  8.575182 & 2.914455 & 0.002747599 & 0.0005578949 & 0 & 1 & 0\\\\\n",
       "\t  1 & 1 & 1 & 2021-04-11 & 1.996655 & 4.0 & 13.05422 & 39.48773 & 2.241608 &  8.556106 & 2.912705 & 0.002922490 & 0.0003815325 & 0 & 1 & 0\\\\\n",
       "\t  2 & 1 & 1 & 2021-04-18 & 2.115383 & 4.0 & 13.02269 & 39.48011 & 2.249241 &  8.567174 & 2.921677 & 0.002924062 & 0.0003472835 & 0 & 1 & 0\\\\\n",
       "\t  3 & 1 & 1 & 2021-04-25 & 1.994133 & 4.0 & 13.08781 & 39.45676 & 2.253827 &  8.577785 & 2.901808 & 0.002909320 & 0.0002785515 & 0 & 1 & 0\\\\\n",
       "\t  4 & 1 & 1 & 2021-05-02 & 1.995093 & 4.0 & 12.81332 & 39.51588 & 2.250422 &  8.564596 & 2.906201 & 0.002893206 & 0.0003789540 & 0 & 1 & 0\\\\\n",
       "\t  5 & 1 & 1 & 2021-05-09 & 2.020412 & 4.0 & 12.86606 & 39.49568 & 2.257699 &  8.578202 & 2.908553 & 0.002644048 & 0.0002253562 & 0 & 1 & 0\\\\\n",
       "\t  6 & 1 & 1 & 2021-05-16 & 2.035659 & 4.0 & 13.08282 & 39.50939 & 2.260031 &  8.579080 & 2.899503 & 0.003044047 & 0.0003821967 & 0 & 1 & 0\\\\\n",
       "\t  7 & 1 & 1 & 2021-05-23 & 2.062368 & 4.0 & 12.95032 & 39.50602 & 2.253150 &  8.570641 & 2.905931 & 0.002864055 & 0.0003002564 & 0 & 1 & 0\\\\\n",
       "\t  8 & 1 & 1 & 2021-05-30 & 2.076842 & 4.0 & 12.96777 & 39.46474 & 2.252839 &  8.575453 & 2.905925 & 0.002967461 & 0.0004257563 & 0 & 1 & 0\\\\\n",
       "\t  9 & 1 & 1 & 2021-06-06 & 2.126575 & 4.0 & 13.09117 & 26.63025 & 2.253400 & 10.648648 & 2.896347 & 0.002031875 & 0.0004294441 & 1 & 1 & 1\\\\\n",
       "\t 10 & 1 & 1 & 2021-06-13 & 2.069724 & 4.0 & 13.04306 & 24.45010 & 2.251762 & 10.996577 & 2.903287 & 0.001344220 & 0.0003539143 & 1 & 1 & 1\\\\\n",
       "\t 11 & 1 & 1 & 2021-06-20 & 2.168592 & 4.0 & 12.95232 & 24.46808 & 2.245925 & 10.983216 & 2.913667 & 0.001892235 & 0.0001701745 & 1 & 1 & 1\\\\\n",
       "\t 12 & 1 & 1 & 2021-06-27 & 2.132382 & 4.0 & 13.18285 & 24.41021 & 2.247226 & 10.995870 & 2.900486 & 0.001762172 & 0.0002902773 & 1 & 1 & 1\\\\\n",
       "\t 13 & 1 & 1 & 2021-07-04 & 2.011487 & 4.0 & 12.92934 & 24.44764 & 2.248979 & 10.991565 & 2.906618 & 0.001693511 & 0.0002240858 & 1 & 1 & 1\\\\\n",
       "\t 14 & 1 & 1 & 2021-07-11 & 2.019891 & 4.0 & 12.98910 & 24.50908 & 2.247293 & 10.975516 & 2.904327 & 0.001607210 & 0.0001588046 & 1 & 1 & 1\\\\\n",
       "\t 15 & 1 & 1 & 2021-07-18 & 2.113638 & 4.0 & 13.09205 & 24.46532 & 2.249747 & 10.990994 & 2.920805 & 0.001537110 & 0.0003082311 & 1 & 1 & 1\\\\\n",
       "\t 16 & 1 & 1 & 2021-07-25 & 2.054812 & 4.0 & 13.05005 & 24.47076 & 2.251990 & 10.991973 & 2.922232 & 0.001966343 & 0.0002306296 & 1 & 1 & 1\\\\\n",
       "\t 17 & 1 & 1 & 2021-08-01 & 2.085737 & 3.5 & 11.17821 & 24.44166 & 2.266340 & 11.024927 & 2.900904 & 0.001847893 & 0.0001330853 & 1 & 1 & 1\\\\\n",
       "\t 18 & 1 & 2 & 2021-04-04 & 1.943406 & 5.5 & 12.27361 & 39.50146 & 2.245852 &  8.561842 & 2.981753 & 0.003048765 & 0.0004317387 & 0 & 1 & 0\\\\\n",
       "\t 19 & 1 & 2 & 2021-04-11 & 2.049963 & 4.0 & 12.68480 & 39.46980 & 2.250023 &  8.569961 & 2.959877 & 0.002764122 & 0.0003396298 & 0 & 1 & 0\\\\\n",
       "\t 20 & 1 & 2 & 2021-04-18 & 2.089090 & 4.0 & 12.62478 & 39.49826 & 2.248912 &  8.565627 & 2.958222 & 0.003144006 & 0.0002892439 & 0 & 1 & 0\\\\\n",
       "\t 21 & 1 & 2 & 2021-04-25 & 2.157855 & 4.0 & 12.66852 & 39.48706 & 2.237851 &  8.550366 & 2.958875 & 0.002940453 & 0.0004041286 & 0 & 1 & 0\\\\\n",
       "\t 22 & 1 & 2 & 2021-05-02 & 1.957325 & 4.0 & 12.61825 & 39.48574 & 2.251144 &  8.569504 & 2.971398 & 0.003087750 & 0.0003723314 & 0 & 1 & 0\\\\\n",
       "\t 23 & 1 & 2 & 2021-05-09 & 2.058862 & 4.0 & 12.68126 & 39.48420 & 2.255623 &  8.575935 & 2.955452 & 0.003071183 & 0.0004198815 & 0 & 1 & 0\\\\\n",
       "\t 24 & 1 & 2 & 2021-05-16 & 2.095262 & 4.0 & 12.68145 & 39.51510 & 2.248348 &  8.563532 & 2.964507 & 0.003064866 & 0.0003293855 & 0 & 1 & 0\\\\\n",
       "\t 25 & 1 & 2 & 2021-05-23 & 2.100464 & 4.0 & 12.58326 & 39.50569 & 2.251106 &  8.567778 & 2.969018 & 0.002783158 & 0.0003793149 & 0 & 1 & 0\\\\\n",
       "\t 26 & 1 & 2 & 2021-05-30 & 1.964767 & 4.0 & 12.59702 & 39.49795 & 2.247633 &  8.563840 & 2.968328 & 0.003136535 & 0.0003721645 & 0 & 1 & 0\\\\\n",
       "\t 27 & 1 & 2 & 2021-06-06 & 1.949053 & 4.0 & 12.72843 & 26.60420 & 2.248010 & 10.642680 & 2.959584 & 0.001990237 & 0.0001422379 & 1 & 1 & 1\\\\\n",
       "\t 28 & 1 & 2 & 2021-06-13 & 1.912262 & 4.0 & 12.72506 & 24.48312 & 2.250560 & 10.987511 & 2.955666 & 0.001716807 & 0.0002597598 & 1 & 1 & 1\\\\\n",
       "\t 29 & 1 & 2 & 2021-06-20 & 2.043248 & 4.0 & 12.68753 & 24.44438 & 2.250096 & 10.995199 & 2.959846 & 0.001857260 & 0.0002920371 & 1 & 1 & 1\\\\\n",
       "\t ⋮ & ⋮ & ⋮ & ⋮ & ⋮ & ⋮ & ⋮ & ⋮ & ⋮ & ⋮ & ⋮ & ⋮ & ⋮ & ⋮ & ⋮ & ⋮\\\\\n",
       "\t 1050 & 6 &  9 & 2021-05-16 & 2.023895 & 4.0 & 12.94955 & 39.49514 & 2.245288 & 8.560734 & 2.926628 & 0.002898025 & 0.0004338434 & 0 & 1 & 0\\\\\n",
       "\t 1051 & 6 &  9 & 2021-05-23 & 2.113708 & 4.0 & 13.07357 & 39.50265 & 2.250598 & 8.568059 & 2.927739 & 0.002600197 & 0.0003722847 & 0 & 1 & 0\\\\\n",
       "\t 1052 & 6 &  9 & 2021-05-30 & 1.995116 & 4.0 & 12.87154 & 39.49618 & 2.245037 & 8.560528 & 2.927045 & 0.002620766 & 0.0004193694 & 0 & 1 & 0\\\\\n",
       "\t 1053 & 6 &  9 & 2021-06-06 & 2.070716 & 4.0 & 13.04016 & 39.45563 & 2.255707 & 8.579539 & 2.932364 & 0.002746959 & 0.0004125929 & 1 & 1 & 1\\\\\n",
       "\t 1054 & 6 &  9 & 2021-06-13 & 2.073075 & 4.0 & 12.95521 & 39.50465 & 2.249425 & 8.565515 & 2.931122 & 0.002841836 & 0.0004105041 & 1 & 1 & 1\\\\\n",
       "\t 1055 & 6 &  9 & 2021-06-20 & 1.937057 & 4.0 & 13.02157 & 39.49060 & 2.250954 & 8.569256 & 2.926793 & 0.003045750 & 0.0003369788 & 1 & 1 & 1\\\\\n",
       "\t 1056 & 6 &  9 & 2021-06-27 & 1.974737 & 4.0 & 13.11956 & 39.50545 & 2.252552 & 8.569855 & 2.921613 & 0.002988402 & 0.0003076429 & 1 & 1 & 1\\\\\n",
       "\t 1057 & 6 &  9 & 2021-07-04 & 2.096108 & 4.0 & 12.99861 & 39.48122 & 2.254477 & 8.574743 & 2.928314 & 0.003043624 & 0.0004638737 & 1 & 1 & 1\\\\\n",
       "\t 1058 & 6 &  9 & 2021-07-11 & 2.113253 & 4.0 & 13.03120 & 39.50573 & 2.246660 & 8.561465 & 2.927014 & 0.002791046 & 0.0003120287 & 1 & 1 & 1\\\\\n",
       "\t 1059 & 6 &  9 & 2021-07-18 & 2.042049 & 4.0 & 13.04286 & 39.48148 & 2.256373 & 8.577931 & 2.923937 & 0.003261509 & 0.0004058418 & 1 & 1 & 1\\\\\n",
       "\t 1060 & 6 &  9 & 2021-07-25 & 2.117528 & 4.0 & 13.06617 & 39.50373 & 2.248207 & 8.564736 & 2.932248 & 0.002835094 & 0.0003132005 & 1 & 1 & 1\\\\\n",
       "\t 1061 & 6 &  9 & 2021-08-01 & 2.048245 & 3.5 & 11.26074 & 39.56402 & 2.235242 & 8.536655 & 2.916275 & 0.003649328 & 0.0002391935 & 1 & 1 & 1\\\\\n",
       "\t 1062 & 6 & 10 & 2021-04-04 & 1.976403 & 5.5 & 12.40396 & 39.51462 & 2.253624 & 8.570458 & 2.945542 & 0.002828503 & 0.0004876344 & 0 & 1 & 0\\\\\n",
       "\t 1063 & 6 & 10 & 2021-04-11 & 2.050196 & 4.0 & 13.00723 & 39.48409 & 2.252202 & 8.571992 & 2.926425 & 0.002629805 & 0.0003873629 & 0 & 1 & 0\\\\\n",
       "\t 1064 & 6 & 10 & 2021-04-18 & 2.051821 & 4.0 & 12.88846 & 39.49943 & 2.252050 & 8.569711 & 2.931740 & 0.002683982 & 0.0004300365 & 0 & 1 & 0\\\\\n",
       "\t 1065 & 6 & 10 & 2021-04-25 & 2.061971 & 4.0 & 12.92916 & 39.49381 & 2.248974 & 8.566428 & 2.925988 & 0.003095943 & 0.0004997083 & 0 & 1 & 0\\\\\n",
       "\t 1066 & 6 & 10 & 2021-05-02 & 2.070911 & 4.0 & 13.02082 & 39.48644 & 2.250999 & 8.570376 & 2.928368 & 0.003022751 & 0.0004035769 & 0 & 1 & 0\\\\\n",
       "\t 1067 & 6 & 10 & 2021-05-09 & 2.121270 & 4.0 & 13.00958 & 39.51132 & 2.248257 & 8.563379 & 2.928200 & 0.003131767 & 0.0002970542 & 0 & 1 & 0\\\\\n",
       "\t 1068 & 6 & 10 & 2021-05-16 & 2.094656 & 4.0 & 13.05578 & 39.49025 & 2.243724 & 8.559323 & 2.927512 & 0.003024503 & 0.0004156788 & 0 & 1 & 0\\\\\n",
       "\t 1069 & 6 & 10 & 2021-05-23 & 2.004862 & 4.0 & 13.10248 & 39.50060 & 2.247231 & 8.562853 & 2.931654 & 0.002566548 & 0.0004195013 & 0 & 1 & 0\\\\\n",
       "\t 1070 & 6 & 10 & 2021-05-30 & 2.026305 & 4.0 & 13.05210 & 39.48037 & 2.255370 & 8.576756 & 2.923282 & 0.002831205 & 0.0003970781 & 0 & 1 & 0\\\\\n",
       "\t 1071 & 6 & 10 & 2021-06-06 & 2.077927 & 4.0 & 13.01810 & 39.48143 & 2.249490 & 8.568419 & 2.927235 & 0.002672636 & 0.0003102313 & 1 & 1 & 1\\\\\n",
       "\t 1072 & 6 & 10 & 2021-06-13 & 1.981732 & 4.0 & 13.08069 & 39.52519 & 2.247052 & 8.560435 & 2.928047 & 0.002931525 & 0.0003008636 & 1 & 1 & 1\\\\\n",
       "\t 1073 & 6 & 10 & 2021-06-20 & 2.083008 & 4.0 & 13.06748 & 39.49788 & 2.248942 & 8.565906 & 2.930939 & 0.002695450 & 0.0004001802 & 1 & 1 & 1\\\\\n",
       "\t 1074 & 6 & 10 & 2021-06-27 & 2.087638 & 4.0 & 12.97960 & 39.52668 & 2.244022 & 8.555313 & 2.929618 & 0.002775524 & 0.0003766356 & 1 & 1 & 1\\\\\n",
       "\t 1075 & 6 & 10 & 2021-07-04 & 2.162529 & 4.0 & 12.98823 & 39.54408 & 2.250831 & 8.562906 & 2.926554 & 0.002903450 & 0.0003427552 & 1 & 1 & 1\\\\\n",
       "\t 1076 & 6 & 10 & 2021-07-11 & 2.016097 & 4.0 & 13.15049 & 39.48442 & 2.241565 & 8.556829 & 2.929902 & 0.003006969 & 0.0004787455 & 1 & 1 & 1\\\\\n",
       "\t 1077 & 6 & 10 & 2021-07-18 & 2.001681 & 4.0 & 13.06106 & 39.53988 & 2.245944 & 8.555844 & 2.927591 & 0.003054133 & 0.0004496409 & 1 & 1 & 1\\\\\n",
       "\t 1078 & 6 & 10 & 2021-07-25 & 2.110842 & 4.0 & 12.97375 & 39.53265 & 2.255195 & 8.569662 & 2.927281 & 0.002906475 & 0.0003439619 & 1 & 1 & 1\\\\\n",
       "\t 1079 & 6 & 10 & 2021-08-01 & 1.849396 & 3.5 & 11.37577 & 39.47362 & 2.268069 & 8.596455 & 2.915379 & 0.003274671 & 0.0002368369 & 1 & 1 & 1\\\\\n",
       "\\end{tabular}\n"
      ],
      "text/markdown": [
       "\n",
       "A data.frame: 360 × 16\n",
       "\n",
       "| X &lt;int&gt; | city &lt;int&gt; | station &lt;int&gt; | datetime &lt;date&gt; | weather &lt;dbl&gt; | dow &lt;dbl&gt; | hour &lt;dbl&gt; | speed &lt;dbl&gt; | vehicleType &lt;dbl&gt; | energyConsumption &lt;dbl&gt; | trafficCongestion &lt;dbl&gt; | carCrash &lt;dbl&gt; | pedestrianDeath &lt;dbl&gt; | t &lt;dbl&gt; | g &lt;dbl&gt; | gt &lt;dbl&gt; |\n",
       "|---|---|---|---|---|---|---|---|---|---|---|---|---|---|---|---|\n",
       "|  0 | 1 | 1 | 2021-04-04 | 2.134516 | 5.5 | 12.45583 | 39.47956 | 2.253887 |  8.575182 | 2.914455 | 0.002747599 | 0.0005578949 | 0 | 1 | 0 |\n",
       "|  1 | 1 | 1 | 2021-04-11 | 1.996655 | 4.0 | 13.05422 | 39.48773 | 2.241608 |  8.556106 | 2.912705 | 0.002922490 | 0.0003815325 | 0 | 1 | 0 |\n",
       "|  2 | 1 | 1 | 2021-04-18 | 2.115383 | 4.0 | 13.02269 | 39.48011 | 2.249241 |  8.567174 | 2.921677 | 0.002924062 | 0.0003472835 | 0 | 1 | 0 |\n",
       "|  3 | 1 | 1 | 2021-04-25 | 1.994133 | 4.0 | 13.08781 | 39.45676 | 2.253827 |  8.577785 | 2.901808 | 0.002909320 | 0.0002785515 | 0 | 1 | 0 |\n",
       "|  4 | 1 | 1 | 2021-05-02 | 1.995093 | 4.0 | 12.81332 | 39.51588 | 2.250422 |  8.564596 | 2.906201 | 0.002893206 | 0.0003789540 | 0 | 1 | 0 |\n",
       "|  5 | 1 | 1 | 2021-05-09 | 2.020412 | 4.0 | 12.86606 | 39.49568 | 2.257699 |  8.578202 | 2.908553 | 0.002644048 | 0.0002253562 | 0 | 1 | 0 |\n",
       "|  6 | 1 | 1 | 2021-05-16 | 2.035659 | 4.0 | 13.08282 | 39.50939 | 2.260031 |  8.579080 | 2.899503 | 0.003044047 | 0.0003821967 | 0 | 1 | 0 |\n",
       "|  7 | 1 | 1 | 2021-05-23 | 2.062368 | 4.0 | 12.95032 | 39.50602 | 2.253150 |  8.570641 | 2.905931 | 0.002864055 | 0.0003002564 | 0 | 1 | 0 |\n",
       "|  8 | 1 | 1 | 2021-05-30 | 2.076842 | 4.0 | 12.96777 | 39.46474 | 2.252839 |  8.575453 | 2.905925 | 0.002967461 | 0.0004257563 | 0 | 1 | 0 |\n",
       "|  9 | 1 | 1 | 2021-06-06 | 2.126575 | 4.0 | 13.09117 | 26.63025 | 2.253400 | 10.648648 | 2.896347 | 0.002031875 | 0.0004294441 | 1 | 1 | 1 |\n",
       "| 10 | 1 | 1 | 2021-06-13 | 2.069724 | 4.0 | 13.04306 | 24.45010 | 2.251762 | 10.996577 | 2.903287 | 0.001344220 | 0.0003539143 | 1 | 1 | 1 |\n",
       "| 11 | 1 | 1 | 2021-06-20 | 2.168592 | 4.0 | 12.95232 | 24.46808 | 2.245925 | 10.983216 | 2.913667 | 0.001892235 | 0.0001701745 | 1 | 1 | 1 |\n",
       "| 12 | 1 | 1 | 2021-06-27 | 2.132382 | 4.0 | 13.18285 | 24.41021 | 2.247226 | 10.995870 | 2.900486 | 0.001762172 | 0.0002902773 | 1 | 1 | 1 |\n",
       "| 13 | 1 | 1 | 2021-07-04 | 2.011487 | 4.0 | 12.92934 | 24.44764 | 2.248979 | 10.991565 | 2.906618 | 0.001693511 | 0.0002240858 | 1 | 1 | 1 |\n",
       "| 14 | 1 | 1 | 2021-07-11 | 2.019891 | 4.0 | 12.98910 | 24.50908 | 2.247293 | 10.975516 | 2.904327 | 0.001607210 | 0.0001588046 | 1 | 1 | 1 |\n",
       "| 15 | 1 | 1 | 2021-07-18 | 2.113638 | 4.0 | 13.09205 | 24.46532 | 2.249747 | 10.990994 | 2.920805 | 0.001537110 | 0.0003082311 | 1 | 1 | 1 |\n",
       "| 16 | 1 | 1 | 2021-07-25 | 2.054812 | 4.0 | 13.05005 | 24.47076 | 2.251990 | 10.991973 | 2.922232 | 0.001966343 | 0.0002306296 | 1 | 1 | 1 |\n",
       "| 17 | 1 | 1 | 2021-08-01 | 2.085737 | 3.5 | 11.17821 | 24.44166 | 2.266340 | 11.024927 | 2.900904 | 0.001847893 | 0.0001330853 | 1 | 1 | 1 |\n",
       "| 18 | 1 | 2 | 2021-04-04 | 1.943406 | 5.5 | 12.27361 | 39.50146 | 2.245852 |  8.561842 | 2.981753 | 0.003048765 | 0.0004317387 | 0 | 1 | 0 |\n",
       "| 19 | 1 | 2 | 2021-04-11 | 2.049963 | 4.0 | 12.68480 | 39.46980 | 2.250023 |  8.569961 | 2.959877 | 0.002764122 | 0.0003396298 | 0 | 1 | 0 |\n",
       "| 20 | 1 | 2 | 2021-04-18 | 2.089090 | 4.0 | 12.62478 | 39.49826 | 2.248912 |  8.565627 | 2.958222 | 0.003144006 | 0.0002892439 | 0 | 1 | 0 |\n",
       "| 21 | 1 | 2 | 2021-04-25 | 2.157855 | 4.0 | 12.66852 | 39.48706 | 2.237851 |  8.550366 | 2.958875 | 0.002940453 | 0.0004041286 | 0 | 1 | 0 |\n",
       "| 22 | 1 | 2 | 2021-05-02 | 1.957325 | 4.0 | 12.61825 | 39.48574 | 2.251144 |  8.569504 | 2.971398 | 0.003087750 | 0.0003723314 | 0 | 1 | 0 |\n",
       "| 23 | 1 | 2 | 2021-05-09 | 2.058862 | 4.0 | 12.68126 | 39.48420 | 2.255623 |  8.575935 | 2.955452 | 0.003071183 | 0.0004198815 | 0 | 1 | 0 |\n",
       "| 24 | 1 | 2 | 2021-05-16 | 2.095262 | 4.0 | 12.68145 | 39.51510 | 2.248348 |  8.563532 | 2.964507 | 0.003064866 | 0.0003293855 | 0 | 1 | 0 |\n",
       "| 25 | 1 | 2 | 2021-05-23 | 2.100464 | 4.0 | 12.58326 | 39.50569 | 2.251106 |  8.567778 | 2.969018 | 0.002783158 | 0.0003793149 | 0 | 1 | 0 |\n",
       "| 26 | 1 | 2 | 2021-05-30 | 1.964767 | 4.0 | 12.59702 | 39.49795 | 2.247633 |  8.563840 | 2.968328 | 0.003136535 | 0.0003721645 | 0 | 1 | 0 |\n",
       "| 27 | 1 | 2 | 2021-06-06 | 1.949053 | 4.0 | 12.72843 | 26.60420 | 2.248010 | 10.642680 | 2.959584 | 0.001990237 | 0.0001422379 | 1 | 1 | 1 |\n",
       "| 28 | 1 | 2 | 2021-06-13 | 1.912262 | 4.0 | 12.72506 | 24.48312 | 2.250560 | 10.987511 | 2.955666 | 0.001716807 | 0.0002597598 | 1 | 1 | 1 |\n",
       "| 29 | 1 | 2 | 2021-06-20 | 2.043248 | 4.0 | 12.68753 | 24.44438 | 2.250096 | 10.995199 | 2.959846 | 0.001857260 | 0.0002920371 | 1 | 1 | 1 |\n",
       "| ⋮ | ⋮ | ⋮ | ⋮ | ⋮ | ⋮ | ⋮ | ⋮ | ⋮ | ⋮ | ⋮ | ⋮ | ⋮ | ⋮ | ⋮ | ⋮ |\n",
       "| 1050 | 6 |  9 | 2021-05-16 | 2.023895 | 4.0 | 12.94955 | 39.49514 | 2.245288 | 8.560734 | 2.926628 | 0.002898025 | 0.0004338434 | 0 | 1 | 0 |\n",
       "| 1051 | 6 |  9 | 2021-05-23 | 2.113708 | 4.0 | 13.07357 | 39.50265 | 2.250598 | 8.568059 | 2.927739 | 0.002600197 | 0.0003722847 | 0 | 1 | 0 |\n",
       "| 1052 | 6 |  9 | 2021-05-30 | 1.995116 | 4.0 | 12.87154 | 39.49618 | 2.245037 | 8.560528 | 2.927045 | 0.002620766 | 0.0004193694 | 0 | 1 | 0 |\n",
       "| 1053 | 6 |  9 | 2021-06-06 | 2.070716 | 4.0 | 13.04016 | 39.45563 | 2.255707 | 8.579539 | 2.932364 | 0.002746959 | 0.0004125929 | 1 | 1 | 1 |\n",
       "| 1054 | 6 |  9 | 2021-06-13 | 2.073075 | 4.0 | 12.95521 | 39.50465 | 2.249425 | 8.565515 | 2.931122 | 0.002841836 | 0.0004105041 | 1 | 1 | 1 |\n",
       "| 1055 | 6 |  9 | 2021-06-20 | 1.937057 | 4.0 | 13.02157 | 39.49060 | 2.250954 | 8.569256 | 2.926793 | 0.003045750 | 0.0003369788 | 1 | 1 | 1 |\n",
       "| 1056 | 6 |  9 | 2021-06-27 | 1.974737 | 4.0 | 13.11956 | 39.50545 | 2.252552 | 8.569855 | 2.921613 | 0.002988402 | 0.0003076429 | 1 | 1 | 1 |\n",
       "| 1057 | 6 |  9 | 2021-07-04 | 2.096108 | 4.0 | 12.99861 | 39.48122 | 2.254477 | 8.574743 | 2.928314 | 0.003043624 | 0.0004638737 | 1 | 1 | 1 |\n",
       "| 1058 | 6 |  9 | 2021-07-11 | 2.113253 | 4.0 | 13.03120 | 39.50573 | 2.246660 | 8.561465 | 2.927014 | 0.002791046 | 0.0003120287 | 1 | 1 | 1 |\n",
       "| 1059 | 6 |  9 | 2021-07-18 | 2.042049 | 4.0 | 13.04286 | 39.48148 | 2.256373 | 8.577931 | 2.923937 | 0.003261509 | 0.0004058418 | 1 | 1 | 1 |\n",
       "| 1060 | 6 |  9 | 2021-07-25 | 2.117528 | 4.0 | 13.06617 | 39.50373 | 2.248207 | 8.564736 | 2.932248 | 0.002835094 | 0.0003132005 | 1 | 1 | 1 |\n",
       "| 1061 | 6 |  9 | 2021-08-01 | 2.048245 | 3.5 | 11.26074 | 39.56402 | 2.235242 | 8.536655 | 2.916275 | 0.003649328 | 0.0002391935 | 1 | 1 | 1 |\n",
       "| 1062 | 6 | 10 | 2021-04-04 | 1.976403 | 5.5 | 12.40396 | 39.51462 | 2.253624 | 8.570458 | 2.945542 | 0.002828503 | 0.0004876344 | 0 | 1 | 0 |\n",
       "| 1063 | 6 | 10 | 2021-04-11 | 2.050196 | 4.0 | 13.00723 | 39.48409 | 2.252202 | 8.571992 | 2.926425 | 0.002629805 | 0.0003873629 | 0 | 1 | 0 |\n",
       "| 1064 | 6 | 10 | 2021-04-18 | 2.051821 | 4.0 | 12.88846 | 39.49943 | 2.252050 | 8.569711 | 2.931740 | 0.002683982 | 0.0004300365 | 0 | 1 | 0 |\n",
       "| 1065 | 6 | 10 | 2021-04-25 | 2.061971 | 4.0 | 12.92916 | 39.49381 | 2.248974 | 8.566428 | 2.925988 | 0.003095943 | 0.0004997083 | 0 | 1 | 0 |\n",
       "| 1066 | 6 | 10 | 2021-05-02 | 2.070911 | 4.0 | 13.02082 | 39.48644 | 2.250999 | 8.570376 | 2.928368 | 0.003022751 | 0.0004035769 | 0 | 1 | 0 |\n",
       "| 1067 | 6 | 10 | 2021-05-09 | 2.121270 | 4.0 | 13.00958 | 39.51132 | 2.248257 | 8.563379 | 2.928200 | 0.003131767 | 0.0002970542 | 0 | 1 | 0 |\n",
       "| 1068 | 6 | 10 | 2021-05-16 | 2.094656 | 4.0 | 13.05578 | 39.49025 | 2.243724 | 8.559323 | 2.927512 | 0.003024503 | 0.0004156788 | 0 | 1 | 0 |\n",
       "| 1069 | 6 | 10 | 2021-05-23 | 2.004862 | 4.0 | 13.10248 | 39.50060 | 2.247231 | 8.562853 | 2.931654 | 0.002566548 | 0.0004195013 | 0 | 1 | 0 |\n",
       "| 1070 | 6 | 10 | 2021-05-30 | 2.026305 | 4.0 | 13.05210 | 39.48037 | 2.255370 | 8.576756 | 2.923282 | 0.002831205 | 0.0003970781 | 0 | 1 | 0 |\n",
       "| 1071 | 6 | 10 | 2021-06-06 | 2.077927 | 4.0 | 13.01810 | 39.48143 | 2.249490 | 8.568419 | 2.927235 | 0.002672636 | 0.0003102313 | 1 | 1 | 1 |\n",
       "| 1072 | 6 | 10 | 2021-06-13 | 1.981732 | 4.0 | 13.08069 | 39.52519 | 2.247052 | 8.560435 | 2.928047 | 0.002931525 | 0.0003008636 | 1 | 1 | 1 |\n",
       "| 1073 | 6 | 10 | 2021-06-20 | 2.083008 | 4.0 | 13.06748 | 39.49788 | 2.248942 | 8.565906 | 2.930939 | 0.002695450 | 0.0004001802 | 1 | 1 | 1 |\n",
       "| 1074 | 6 | 10 | 2021-06-27 | 2.087638 | 4.0 | 12.97960 | 39.52668 | 2.244022 | 8.555313 | 2.929618 | 0.002775524 | 0.0003766356 | 1 | 1 | 1 |\n",
       "| 1075 | 6 | 10 | 2021-07-04 | 2.162529 | 4.0 | 12.98823 | 39.54408 | 2.250831 | 8.562906 | 2.926554 | 0.002903450 | 0.0003427552 | 1 | 1 | 1 |\n",
       "| 1076 | 6 | 10 | 2021-07-11 | 2.016097 | 4.0 | 13.15049 | 39.48442 | 2.241565 | 8.556829 | 2.929902 | 0.003006969 | 0.0004787455 | 1 | 1 | 1 |\n",
       "| 1077 | 6 | 10 | 2021-07-18 | 2.001681 | 4.0 | 13.06106 | 39.53988 | 2.245944 | 8.555844 | 2.927591 | 0.003054133 | 0.0004496409 | 1 | 1 | 1 |\n",
       "| 1078 | 6 | 10 | 2021-07-25 | 2.110842 | 4.0 | 12.97375 | 39.53265 | 2.255195 | 8.569662 | 2.927281 | 0.002906475 | 0.0003439619 | 1 | 1 | 1 |\n",
       "| 1079 | 6 | 10 | 2021-08-01 | 1.849396 | 3.5 | 11.37577 | 39.47362 | 2.268069 | 8.596455 | 2.915379 | 0.003274671 | 0.0002368369 | 1 | 1 | 1 |\n",
       "\n"
      ],
      "text/plain": [
       "    X    city station datetime   weather  dow hour     speed    vehicleType\n",
       "1    0   1    1       2021-04-04 2.134516 5.5 12.45583 39.47956 2.253887   \n",
       "2    1   1    1       2021-04-11 1.996655 4.0 13.05422 39.48773 2.241608   \n",
       "3    2   1    1       2021-04-18 2.115383 4.0 13.02269 39.48011 2.249241   \n",
       "4    3   1    1       2021-04-25 1.994133 4.0 13.08781 39.45676 2.253827   \n",
       "5    4   1    1       2021-05-02 1.995093 4.0 12.81332 39.51588 2.250422   \n",
       "6    5   1    1       2021-05-09 2.020412 4.0 12.86606 39.49568 2.257699   \n",
       "7    6   1    1       2021-05-16 2.035659 4.0 13.08282 39.50939 2.260031   \n",
       "8    7   1    1       2021-05-23 2.062368 4.0 12.95032 39.50602 2.253150   \n",
       "9    8   1    1       2021-05-30 2.076842 4.0 12.96777 39.46474 2.252839   \n",
       "10   9   1    1       2021-06-06 2.126575 4.0 13.09117 26.63025 2.253400   \n",
       "11  10   1    1       2021-06-13 2.069724 4.0 13.04306 24.45010 2.251762   \n",
       "12  11   1    1       2021-06-20 2.168592 4.0 12.95232 24.46808 2.245925   \n",
       "13  12   1    1       2021-06-27 2.132382 4.0 13.18285 24.41021 2.247226   \n",
       "14  13   1    1       2021-07-04 2.011487 4.0 12.92934 24.44764 2.248979   \n",
       "15  14   1    1       2021-07-11 2.019891 4.0 12.98910 24.50908 2.247293   \n",
       "16  15   1    1       2021-07-18 2.113638 4.0 13.09205 24.46532 2.249747   \n",
       "17  16   1    1       2021-07-25 2.054812 4.0 13.05005 24.47076 2.251990   \n",
       "18  17   1    1       2021-08-01 2.085737 3.5 11.17821 24.44166 2.266340   \n",
       "19  18   1    2       2021-04-04 1.943406 5.5 12.27361 39.50146 2.245852   \n",
       "20  19   1    2       2021-04-11 2.049963 4.0 12.68480 39.46980 2.250023   \n",
       "21  20   1    2       2021-04-18 2.089090 4.0 12.62478 39.49826 2.248912   \n",
       "22  21   1    2       2021-04-25 2.157855 4.0 12.66852 39.48706 2.237851   \n",
       "23  22   1    2       2021-05-02 1.957325 4.0 12.61825 39.48574 2.251144   \n",
       "24  23   1    2       2021-05-09 2.058862 4.0 12.68126 39.48420 2.255623   \n",
       "25  24   1    2       2021-05-16 2.095262 4.0 12.68145 39.51510 2.248348   \n",
       "26  25   1    2       2021-05-23 2.100464 4.0 12.58326 39.50569 2.251106   \n",
       "27  26   1    2       2021-05-30 1.964767 4.0 12.59702 39.49795 2.247633   \n",
       "28  27   1    2       2021-06-06 1.949053 4.0 12.72843 26.60420 2.248010   \n",
       "29  28   1    2       2021-06-13 1.912262 4.0 12.72506 24.48312 2.250560   \n",
       "30  29   1    2       2021-06-20 2.043248 4.0 12.68753 24.44438 2.250096   \n",
       "⋮   ⋮    ⋮    ⋮       ⋮          ⋮        ⋮   ⋮        ⋮        ⋮          \n",
       "331 1050 6     9      2021-05-16 2.023895 4.0 12.94955 39.49514 2.245288   \n",
       "332 1051 6     9      2021-05-23 2.113708 4.0 13.07357 39.50265 2.250598   \n",
       "333 1052 6     9      2021-05-30 1.995116 4.0 12.87154 39.49618 2.245037   \n",
       "334 1053 6     9      2021-06-06 2.070716 4.0 13.04016 39.45563 2.255707   \n",
       "335 1054 6     9      2021-06-13 2.073075 4.0 12.95521 39.50465 2.249425   \n",
       "336 1055 6     9      2021-06-20 1.937057 4.0 13.02157 39.49060 2.250954   \n",
       "337 1056 6     9      2021-06-27 1.974737 4.0 13.11956 39.50545 2.252552   \n",
       "338 1057 6     9      2021-07-04 2.096108 4.0 12.99861 39.48122 2.254477   \n",
       "339 1058 6     9      2021-07-11 2.113253 4.0 13.03120 39.50573 2.246660   \n",
       "340 1059 6     9      2021-07-18 2.042049 4.0 13.04286 39.48148 2.256373   \n",
       "341 1060 6     9      2021-07-25 2.117528 4.0 13.06617 39.50373 2.248207   \n",
       "342 1061 6     9      2021-08-01 2.048245 3.5 11.26074 39.56402 2.235242   \n",
       "343 1062 6    10      2021-04-04 1.976403 5.5 12.40396 39.51462 2.253624   \n",
       "344 1063 6    10      2021-04-11 2.050196 4.0 13.00723 39.48409 2.252202   \n",
       "345 1064 6    10      2021-04-18 2.051821 4.0 12.88846 39.49943 2.252050   \n",
       "346 1065 6    10      2021-04-25 2.061971 4.0 12.92916 39.49381 2.248974   \n",
       "347 1066 6    10      2021-05-02 2.070911 4.0 13.02082 39.48644 2.250999   \n",
       "348 1067 6    10      2021-05-09 2.121270 4.0 13.00958 39.51132 2.248257   \n",
       "349 1068 6    10      2021-05-16 2.094656 4.0 13.05578 39.49025 2.243724   \n",
       "350 1069 6    10      2021-05-23 2.004862 4.0 13.10248 39.50060 2.247231   \n",
       "351 1070 6    10      2021-05-30 2.026305 4.0 13.05210 39.48037 2.255370   \n",
       "352 1071 6    10      2021-06-06 2.077927 4.0 13.01810 39.48143 2.249490   \n",
       "353 1072 6    10      2021-06-13 1.981732 4.0 13.08069 39.52519 2.247052   \n",
       "354 1073 6    10      2021-06-20 2.083008 4.0 13.06748 39.49788 2.248942   \n",
       "355 1074 6    10      2021-06-27 2.087638 4.0 12.97960 39.52668 2.244022   \n",
       "356 1075 6    10      2021-07-04 2.162529 4.0 12.98823 39.54408 2.250831   \n",
       "357 1076 6    10      2021-07-11 2.016097 4.0 13.15049 39.48442 2.241565   \n",
       "358 1077 6    10      2021-07-18 2.001681 4.0 13.06106 39.53988 2.245944   \n",
       "359 1078 6    10      2021-07-25 2.110842 4.0 12.97375 39.53265 2.255195   \n",
       "360 1079 6    10      2021-08-01 1.849396 3.5 11.37577 39.47362 2.268069   \n",
       "    energyConsumption trafficCongestion carCrash    pedestrianDeath t g gt\n",
       "1    8.575182         2.914455          0.002747599 0.0005578949    0 1 0 \n",
       "2    8.556106         2.912705          0.002922490 0.0003815325    0 1 0 \n",
       "3    8.567174         2.921677          0.002924062 0.0003472835    0 1 0 \n",
       "4    8.577785         2.901808          0.002909320 0.0002785515    0 1 0 \n",
       "5    8.564596         2.906201          0.002893206 0.0003789540    0 1 0 \n",
       "6    8.578202         2.908553          0.002644048 0.0002253562    0 1 0 \n",
       "7    8.579080         2.899503          0.003044047 0.0003821967    0 1 0 \n",
       "8    8.570641         2.905931          0.002864055 0.0003002564    0 1 0 \n",
       "9    8.575453         2.905925          0.002967461 0.0004257563    0 1 0 \n",
       "10  10.648648         2.896347          0.002031875 0.0004294441    1 1 1 \n",
       "11  10.996577         2.903287          0.001344220 0.0003539143    1 1 1 \n",
       "12  10.983216         2.913667          0.001892235 0.0001701745    1 1 1 \n",
       "13  10.995870         2.900486          0.001762172 0.0002902773    1 1 1 \n",
       "14  10.991565         2.906618          0.001693511 0.0002240858    1 1 1 \n",
       "15  10.975516         2.904327          0.001607210 0.0001588046    1 1 1 \n",
       "16  10.990994         2.920805          0.001537110 0.0003082311    1 1 1 \n",
       "17  10.991973         2.922232          0.001966343 0.0002306296    1 1 1 \n",
       "18  11.024927         2.900904          0.001847893 0.0001330853    1 1 1 \n",
       "19   8.561842         2.981753          0.003048765 0.0004317387    0 1 0 \n",
       "20   8.569961         2.959877          0.002764122 0.0003396298    0 1 0 \n",
       "21   8.565627         2.958222          0.003144006 0.0002892439    0 1 0 \n",
       "22   8.550366         2.958875          0.002940453 0.0004041286    0 1 0 \n",
       "23   8.569504         2.971398          0.003087750 0.0003723314    0 1 0 \n",
       "24   8.575935         2.955452          0.003071183 0.0004198815    0 1 0 \n",
       "25   8.563532         2.964507          0.003064866 0.0003293855    0 1 0 \n",
       "26   8.567778         2.969018          0.002783158 0.0003793149    0 1 0 \n",
       "27   8.563840         2.968328          0.003136535 0.0003721645    0 1 0 \n",
       "28  10.642680         2.959584          0.001990237 0.0001422379    1 1 1 \n",
       "29  10.987511         2.955666          0.001716807 0.0002597598    1 1 1 \n",
       "30  10.995199         2.959846          0.001857260 0.0002920371    1 1 1 \n",
       "⋮   ⋮                 ⋮                 ⋮           ⋮               ⋮ ⋮ ⋮ \n",
       "331 8.560734          2.926628          0.002898025 0.0004338434    0 1 0 \n",
       "332 8.568059          2.927739          0.002600197 0.0003722847    0 1 0 \n",
       "333 8.560528          2.927045          0.002620766 0.0004193694    0 1 0 \n",
       "334 8.579539          2.932364          0.002746959 0.0004125929    1 1 1 \n",
       "335 8.565515          2.931122          0.002841836 0.0004105041    1 1 1 \n",
       "336 8.569256          2.926793          0.003045750 0.0003369788    1 1 1 \n",
       "337 8.569855          2.921613          0.002988402 0.0003076429    1 1 1 \n",
       "338 8.574743          2.928314          0.003043624 0.0004638737    1 1 1 \n",
       "339 8.561465          2.927014          0.002791046 0.0003120287    1 1 1 \n",
       "340 8.577931          2.923937          0.003261509 0.0004058418    1 1 1 \n",
       "341 8.564736          2.932248          0.002835094 0.0003132005    1 1 1 \n",
       "342 8.536655          2.916275          0.003649328 0.0002391935    1 1 1 \n",
       "343 8.570458          2.945542          0.002828503 0.0004876344    0 1 0 \n",
       "344 8.571992          2.926425          0.002629805 0.0003873629    0 1 0 \n",
       "345 8.569711          2.931740          0.002683982 0.0004300365    0 1 0 \n",
       "346 8.566428          2.925988          0.003095943 0.0004997083    0 1 0 \n",
       "347 8.570376          2.928368          0.003022751 0.0004035769    0 1 0 \n",
       "348 8.563379          2.928200          0.003131767 0.0002970542    0 1 0 \n",
       "349 8.559323          2.927512          0.003024503 0.0004156788    0 1 0 \n",
       "350 8.562853          2.931654          0.002566548 0.0004195013    0 1 0 \n",
       "351 8.576756          2.923282          0.002831205 0.0003970781    0 1 0 \n",
       "352 8.568419          2.927235          0.002672636 0.0003102313    1 1 1 \n",
       "353 8.560435          2.928047          0.002931525 0.0003008636    1 1 1 \n",
       "354 8.565906          2.930939          0.002695450 0.0004001802    1 1 1 \n",
       "355 8.555313          2.929618          0.002775524 0.0003766356    1 1 1 \n",
       "356 8.562906          2.926554          0.002903450 0.0003427552    1 1 1 \n",
       "357 8.556829          2.929902          0.003006969 0.0004787455    1 1 1 \n",
       "358 8.555844          2.927591          0.003054133 0.0004496409    1 1 1 \n",
       "359 8.569662          2.927281          0.002906475 0.0003439619    1 1 1 \n",
       "360 8.596455          2.915379          0.003274671 0.0002368369    1 1 1 "
      ]
     },
     "metadata": {},
     "output_type": "display_data"
    }
   ],
   "source": [
    "dat <- read.csv(\"data/weeklyGrouping.csv\")\n",
    "\n",
    "dat$datetime <- as.Date(dat$datetime)\n",
    "\n",
    "dat_city_1_and_6 <- filter(dat, city %in% c(1, 6))\n",
    "\n",
    "dat_city_1_and_6 <- dat_city_1_and_6 %>%\n",
    "  mutate(t = ifelse(datetime >= as.Date(\"2021-06-01\"), 1, 0))\n",
    "\n",
    "dat_city_1_and_6 <- dat_city_1_and_6 %>%\n",
    "  mutate(g = ifelse(city == 1 & station %in% c(4, 7), 0, 1))\n",
    "\n",
    "dat_city_1_and_6 <- dat_city_1_and_6 %>%\n",
    "  mutate(gt = g * t)\n",
    "\n",
    "dat_city_1_and_6\n"
   ]
  },
  {
   "cell_type": "code",
   "execution_count": 41,
   "metadata": {
    "vscode": {
     "languageId": "r"
    }
   },
   "outputs": [
    {
     "data": {
      "text/plain": [
       "\n",
       "Call:\n",
       "lm(formula = carCrash ~ g + t + gt, data = dat_city_1_and_6)\n",
       "\n",
       "Residuals:\n",
       "       Min         1Q     Median         3Q        Max \n",
       "-1.079e-03 -2.938e-04  1.791e-05  2.957e-04  1.917e-03 \n",
       "\n",
       "Coefficients:\n",
       "              Estimate Std. Error t value Pr(>|t|)    \n",
       "(Intercept)  2.858e-03  1.018e-04  28.060  < 2e-16 ***\n",
       "g            4.197e-05  1.073e-04   0.391  0.69605    \n",
       "t            8.219e-05  1.440e-04   0.571  0.56858    \n",
       "gt          -5.586e-04  1.518e-04  -3.680  0.00027 ***\n",
       "---\n",
       "Signif. codes:  0 '***' 0.001 '**' 0.01 '*' 0.05 '.' 0.1 ' ' 1\n",
       "\n",
       "Residual standard error: 0.0004321 on 356 degrees of freedom\n",
       "Multiple R-squared:  0.2337,\tAdjusted R-squared:  0.2273 \n",
       "F-statistic:  36.2 on 3 and 356 DF,  p-value: < 2.2e-16\n"
      ]
     },
     "metadata": {},
     "output_type": "display_data"
    }
   ],
   "source": [
    "# Run regression\n",
    "model <- lm(carCrash ~ g + t + gt, data = dat_city_1_and_6)\n",
    "\n",
    "# Summary of regression results\n",
    "summary(model)"
   ]
  },
  {
   "cell_type": "markdown",
   "metadata": {},
   "source": [
    "## Conclusion\n",
    "\n",
    "After to do different OLS approaches, we decide to move forward with the car accidents against speed using as controls the energy consumption and the traffic congestion.\n",
    "\n",
    "We found that there is different reasons that could lead the model for bias,\n",
    "\n",
    "The principal is **Endogeneity**, the `trafficCongestion` could lead to a reverse causality, as explanatory variable this could be affected by the dependent variable `carCrash`, higher traffic congestion could lead to more car crashes, but also more car crashes could lead to higher traffic congestion, creating a feedback loop, that can not be explained by the model.\n",
    "\n",
    "Another important factors that are not in the data like the **weather conditions**, the **road conditions** and the **driver behavior** could lead to a bias in the model as are not possible to have this data in the dataset.\n",
    "\n",
    "Another reason is **Multi-collinearity**, `trafficCongestion` , `carCrash` and `pedestrianDeath` have a high correlation between them, this could lead to a bias in the model because the model could not differentiate the effect of each variable without distiguish the correlation of the causality, generating maybe a model that is based in the correlation and not in the causality.\n",
    "\n",
    "The **Heteroskedasticity** is another reason that could lead to a bias in the model, areas with high traffic congestion might have more variability in the car crashes, affecting the accuracy of the standard model.\n",
    "\n",
    "The **Measurement error** is one of the important reasons that could lead to a bias, being almost all the data aggregated, or maybe estimated from imperfect measurements, for example no reported crashes can lead to systematic bias.\n",
    "\n",
    "**Non-Linearity** : as some relationships between variables might not be striclty linear, for example the effect of speed on crashes might not be linear, where extremely low or high speeds increase crash rates, but moderate speeds are safer.\n",
    "\n",
    "**Auto-correlation** : the model is not based in time series, however using a model in time series could lead to a influence of the past values in the future values, as example a severe accident from previous days could lead to a higher traffic congestion in the next days, leading to bias in the model."
   ]
  }
 ],
 "metadata": {
  "kernelspec": {
   "display_name": "R",
   "language": "R",
   "name": "ir"
  },
  "language_info": {
   "codemirror_mode": "r",
   "file_extension": ".r",
   "mimetype": "text/x-r-source",
   "name": "R",
   "pygments_lexer": "r",
   "version": "4.4.1"
  }
 },
 "nbformat": 4,
 "nbformat_minor": 2
}
